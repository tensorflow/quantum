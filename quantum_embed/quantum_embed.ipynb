{
 "cells": [
  {
   "cell_type": "code",
   "execution_count": null,
   "metadata": {},
   "outputs": [],
   "source": [
    "# Licensed under the Apache License, Version 2.0 (the \"License\");\n",
    "# you may not use this file except in compliance with the License.\n",
    "# You may obtain a copy of the License at\n",
    "#\n",
    "# https://www.apache.org/licenses/LICENSE-2.0\n",
    "#\n",
    "# Unless required by applicable law or agreed to in writing, software\n",
    "# distributed under the License is distributed on an \"AS IS\" BASIS,\n",
    "# WITHOUT WARRANTIES OR CONDITIONS OF ANY KIND, either express or implied.\n",
    "# See the License for the specific language governing permissions and\n",
    "# limitations under the License."
   ]
  },
  {
   "cell_type": "markdown",
   "metadata": {},
   "source": [
    "Embeds classial data according to the following papers:\n",
    "\n",
    "The effect of data encoding on the expressive power of variational quantum machine learning models\n",
    "Maria Schuld, Ryan Sweke, Johannes Jakob Meyer\n",
    "https://arxiv.org/abs/2008.08605\n",
    "\n",
    "Quantum embeddings for machine learning\n",
    "Seth Lloyd, Maria Schuld, Aroosa Ijaz, Josh Izaac, Nathan Killoran\n",
    "https://arxiv.org/abs/2001.03622\n",
    "\n",
    "Supervised quantum machine learning models are kernel methods\n",
    "Maria Schuld\n",
    "https://arxiv.org/abs/2101.11020\n",
    "\n",
    "Circuit-centric quantum classifiers\n",
    "Maria Schuld, Alex Bocharov, Krysta Svore, Nathan Wiebe\n",
    "https://arxiv.org/abs/1804.00633\n",
    "\n",
    "[![Open In Colab](https://colab.research.google.com/assets/colab-badge.svg)](https://colab.research.google.com/github/tensorflow/quantum/blob/research/q_embed/quantum_embed.ipynb)\n",
    "\n",
    "First we must install the required libraries"
   ]
  },
  {
   "cell_type": "code",
   "execution_count": null,
   "metadata": {},
   "outputs": [],
   "source": [
    "!pip install -q --upgrade tensorflow==2.4.1"
   ]
  },
  {
   "cell_type": "code",
   "execution_count": null,
   "metadata": {},
   "outputs": [],
   "source": [
    "!pip install -q tensorflow-quantum"
   ]
  },
  {
   "cell_type": "markdown",
   "metadata": {},
   "source": [
    "Next, we import necessary modules"
   ]
  },
  {
   "cell_type": "code",
   "execution_count": 1,
   "metadata": {},
   "outputs": [],
   "source": [
    "from matplotlib import pyplot as plt \n",
    "import numpy as np\n",
    "\n",
    "import cirq\n",
    "import tensorflow as tf\n",
    "from tensorflow_quantum.python import util\n",
    "from tensorflow_quantum.python.layers.circuit_executors import expectation\n",
    "\n",
    "import quantum_embed"
   ]
  },
  {
   "cell_type": "markdown",
   "metadata": {},
   "source": [
    "Then, we create the data to train on. The input is a range of increasing numbers and the output is a single sine function."
   ]
  },
  {
   "cell_type": "code",
   "execution_count": 2,
   "metadata": {},
   "outputs": [
    {
     "data": {
      "image/png": "[encoded data removed]",
      "text/plain": [
       "<Figure size 432x288 with 1 Axes>"
      ]
     },
     "metadata": {
      "needs_background": "light"
     },
     "output_type": "display_data"
    }
   ],
   "source": [
    "num_examples = 128\n",
    "\n",
    "data_in = np.linspace(-np.pi, np.pi, num_examples, endpoint=False)\n",
    "data_out = 0.456 * np.cos(data_in - np.pi / 3.0)\n",
    "\n",
    "plt.plot(data_in, data_out)\n",
    "plt.grid()\n",
    "plt.show()"
   ]
  },
  {
   "cell_type": "markdown",
   "metadata": {},
   "source": [
    "Since we have a single sine wave, the depth and number of repetions of the circuits are all one. Refer to the paper or the unit tests for more complicated use cases. We then build the quantum embedding layer."
   ]
  },
  {
   "cell_type": "code",
   "execution_count": 3,
   "metadata": {},
   "outputs": [],
   "source": [
    "depth_input = 1\n",
    "num_repetitions = 1\n",
    "num_repetitions_input = 1\n",
    "num_unitary_layers = 1\n",
    "\n",
    "data_in = np.repeat(np.expand_dims(data_in, axis=1), depth_input, axis=1)\n",
    "data_out = np.repeat(np.expand_dims(data_out, axis=1), depth_input, axis=1)\n",
    "\n",
    "qubits = [[cirq.GridQubit(i, j) for j in range(depth_input)] for i in range(num_repetitions_input)]\n",
    "qe = quantum_embed.QuantumEmbed(qubits, num_repetitions_input, depth_input, num_unitary_layers, num_repetitions)\n",
    "\n",
    "data_circuits = util.convert_to_tensor(\n",
    "    [cirq.Circuit(qe.build_param_rotator(data_in[m, :])) for m in range(num_examples)])"
   ]
  },
  {
   "cell_type": "markdown",
   "metadata": {},
   "source": [
    "We then use the Quantum Embedding layer with a standard training."
   ]
  },
  {
   "cell_type": "code",
   "execution_count": 4,
   "metadata": {},
   "outputs": [
    {
     "name": "stdout",
     "output_type": "stream",
     "text": [
      "Epoch 1/50\n",
      "4/4 [==============================] - 1s 10ms/step - loss: 0.4323\n",
      "Epoch 2/50\n",
      "4/4 [==============================] - 0s 10ms/step - loss: 0.1643\n",
      "Epoch 3/50\n",
      "4/4 [==============================] - 0s 10ms/step - loss: 0.1197\n",
      "Epoch 4/50\n",
      "4/4 [==============================] - 0s 10ms/step - loss: 0.1004\n",
      "Epoch 5/50\n",
      "4/4 [==============================] - 0s 10ms/step - loss: 0.0256\n",
      "Epoch 6/50\n",
      "4/4 [==============================] - 0s 10ms/step - loss: 0.0200\n",
      "Epoch 7/50\n",
      "4/4 [==============================] - 0s 10ms/step - loss: 0.0082\n",
      "Epoch 8/50\n",
      "4/4 [==============================] - 0s 10ms/step - loss: 0.0126\n",
      "Epoch 9/50\n",
      "4/4 [==============================] - 0s 10ms/step - loss: 0.0056\n",
      "Epoch 10/50\n",
      "4/4 [==============================] - 0s 13ms/step - loss: 0.0051\n",
      "Epoch 11/50\n",
      "4/4 [==============================] - 0s 10ms/step - loss: 0.0030\n",
      "Epoch 12/50\n",
      "4/4 [==============================] - 0s 10ms/step - loss: 0.0030\n",
      "Epoch 13/50\n",
      "4/4 [==============================] - 0s 10ms/step - loss: 0.0013\n",
      "Epoch 14/50\n",
      "4/4 [==============================] - 0s 10ms/step - loss: 0.0011\n",
      "Epoch 15/50\n",
      "4/4 [==============================] - 0s 10ms/step - loss: 0.0013\n",
      "Epoch 16/50\n",
      "4/4 [==============================] - 0s 10ms/step - loss: 3.4186e-04\n",
      "Epoch 17/50\n",
      "4/4 [==============================] - 0s 10ms/step - loss: 1.8885e-04\n",
      "Epoch 18/50\n",
      "4/4 [==============================] - 0s 10ms/step - loss: 2.6582e-04\n",
      "Epoch 19/50\n",
      "4/4 [==============================] - 0s 10ms/step - loss: 1.5691e-04\n",
      "Epoch 20/50\n",
      "4/4 [==============================] - 0s 10ms/step - loss: 1.5304e-04\n",
      "Epoch 21/50\n",
      "4/4 [==============================] - 0s 10ms/step - loss: 1.0533e-04\n",
      "Epoch 22/50\n",
      "4/4 [==============================] - 0s 10ms/step - loss: 2.8272e-05\n",
      "Epoch 23/50\n",
      "4/4 [==============================] - 0s 10ms/step - loss: 3.7456e-05\n",
      "Epoch 24/50\n",
      "4/4 [==============================] - 0s 10ms/step - loss: 3.8110e-05\n",
      "Epoch 25/50\n",
      "4/4 [==============================] - 0s 10ms/step - loss: 1.6867e-05\n",
      "Epoch 26/50\n",
      "4/4 [==============================] - 0s 11ms/step - loss: 1.7203e-05\n",
      "Epoch 27/50\n",
      "4/4 [==============================] - 0s 14ms/step - loss: 1.0662e-05\n",
      "Epoch 28/50\n",
      "4/4 [==============================] - 0s 10ms/step - loss: 8.2241e-06\n",
      "Epoch 29/50\n",
      "4/4 [==============================] - 0s 10ms/step - loss: 6.9262e-06\n",
      "Epoch 30/50\n",
      "4/4 [==============================] - 0s 10ms/step - loss: 4.3488e-06\n",
      "Epoch 31/50\n",
      "4/4 [==============================] - 0s 10ms/step - loss: 3.1238e-06\n",
      "Epoch 32/50\n",
      "4/4 [==============================] - 0s 10ms/step - loss: 1.9310e-06\n",
      "Epoch 33/50\n",
      "4/4 [==============================] - 0s 10ms/step - loss: 1.0506e-06\n",
      "Epoch 34/50\n",
      "4/4 [==============================] - 0s 10ms/step - loss: 1.0935e-06\n",
      "Epoch 35/50\n",
      "4/4 [==============================] - 0s 11ms/step - loss: 5.7388e-07\n",
      "Epoch 36/50\n",
      "4/4 [==============================] - 0s 10ms/step - loss: 2.7430e-07\n",
      "Epoch 37/50\n",
      "4/4 [==============================] - 0s 10ms/step - loss: 1.2873e-07\n",
      "Epoch 38/50\n",
      "4/4 [==============================] - 0s 10ms/step - loss: 1.0417e-07\n",
      "Epoch 39/50\n",
      "4/4 [==============================] - 0s 10ms/step - loss: 1.1324e-07\n",
      "Epoch 40/50\n",
      "4/4 [==============================] - 0s 10ms/step - loss: 7.5553e-08\n",
      "Epoch 41/50\n",
      "4/4 [==============================] - 0s 10ms/step - loss: 4.9839e-08\n",
      "Epoch 42/50\n",
      "4/4 [==============================] - 0s 10ms/step - loss: 2.9980e-08\n",
      "Epoch 43/50\n",
      "4/4 [==============================] - 0s 10ms/step - loss: 1.9969e-08\n",
      "Epoch 44/50\n",
      "4/4 [==============================] - 0s 10ms/step - loss: 2.3435e-08\n",
      "Epoch 45/50\n",
      "4/4 [==============================] - 0s 10ms/step - loss: 1.9808e-08\n",
      "Epoch 46/50\n",
      "4/4 [==============================] - 0s 10ms/step - loss: 1.5916e-08\n",
      "Epoch 47/50\n",
      "4/4 [==============================] - 0s 10ms/step - loss: 5.7047e-09\n",
      "Epoch 48/50\n",
      "4/4 [==============================] - 0s 10ms/step - loss: 1.0903e-08\n",
      "Epoch 49/50\n",
      "4/4 [==============================] - 0s 10ms/step - loss: 6.0526e-09\n",
      "Epoch 50/50\n",
      "4/4 [==============================] - 0s 10ms/step - loss: 8.0883e-09\n"
     ]
    }
   ],
   "source": [
    "quantum_datum = tf.keras.Input(shape=(), dtype=tf.dtypes.string)\n",
    "model_appended = qe(quantum_datum)\n",
    "\n",
    "batch_size = tf.gather(tf.shape(quantum_datum), 0)\n",
    "operators = util.convert_to_tensor([[cirq.Z(qubits[0][0])]])\n",
    "executor = expectation.Expectation(backend='noiseless',\n",
    "                                   differentiator=None)\n",
    "tiled_up_operators = tf.tile(qe._operators, [batch_size, 1])\n",
    "\n",
    "outputs = executor(model_appended,\n",
    "                   symbol_names=qe.symbols,\n",
    "                   operators=tiled_up_operators)\n",
    "\n",
    "model = tf.keras.Model(inputs=quantum_datum, outputs=outputs)\n",
    "model.compile(optimizer=tf.keras.optimizers.Adam(learning_rate=0.3),\n",
    "              loss=tf.keras.losses.mean_squared_error)\n",
    "\n",
    "history = model.fit(x=data_circuits, y=data_out, epochs=50)"
   ]
  },
  {
   "cell_type": "markdown",
   "metadata": {},
   "source": [
    "Finally, we plot the loss in log scale. We tend to zero, since it can be fit perfectly."
   ]
  },
  {
   "cell_type": "code",
   "execution_count": 5,
   "metadata": {},
   "outputs": [
    {
     "data": {
      "image/png": "[encoded data removed]",
      "text/plain": [
       "<Figure size 432x288 with 1 Axes>"
      ]
     },
     "metadata": {
      "needs_background": "light"
     },
     "output_type": "display_data"
    }
   ],
   "source": [
    "plt.semilogy(history.history['loss']);\n",
    "plt.grid();\n",
    "plt.xlabel('step');\n",
    "plt.ylabel('loss');"
   ]
  }
 ],
 "metadata": {
  "kernelspec": {
   "display_name": "Python 3",
   "language": "python",
   "name": "python3"
  },
  "language_info": {
   "codemirror_mode": {
    "name": "ipython",
    "version": 3
   },
   "file_extension": ".py",
   "mimetype": "text/x-python",
   "name": "python",
   "nbconvert_exporter": "python",
   "pygments_lexer": "ipython3",
   "version": "3.8.10"
  }
 },
 "nbformat": 4,
 "nbformat_minor": 2
}
