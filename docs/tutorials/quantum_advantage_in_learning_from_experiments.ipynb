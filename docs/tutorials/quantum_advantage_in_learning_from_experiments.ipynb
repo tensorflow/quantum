{
 "cells": [
  {
   "cell_type": "markdown",
   "metadata": {
    "colab_type": "text",
    "id": "xLOXFOT5Q40E"
   },
   "source": [
    "##### Copyright 2020 The TensorFlow Authors."
   ]
  },
  {
   "cell_type": "code",
   "execution_count": null,
   "metadata": {
    "cellView": "form",
    "colab": {},
    "colab_type": "code",
    "id": "iiQkM5ZgQ8r2"
   },
   "outputs": [],
   "source": [
    "#@title Licensed under the Apache License, Version 2.0 (the \"License\");\n",
    "# you may not use this file except in compliance with the License.\n",
    "# You may obtain a copy of the License at\n",
    "#\n",
    "# https://www.apache.org/licenses/LICENSE-2.0\n",
    "#\n",
    "# Unless required by applicable law or agreed to in writing, software\n",
    "# distributed under the License is distributed on an \"AS IS\" BASIS,\n",
    "# WITHOUT WARRANTIES OR CONDITIONS OF ANY KIND, either express or implied.\n",
    "# See the License for the specific language governing permissions and\n",
    "# limitations under the License."
   ]
  },
  {
   "cell_type": "markdown",
   "metadata": {
    "colab_type": "text",
    "id": "j6331ZSsQGY3"
   },
   "source": [
    "# Quantum advantage in learning from experiments"
   ]
  },
  {
   "cell_type": "markdown",
   "metadata": {
    "colab_type": "text",
    "id": "i9Jcnb8bQQyd"
   },
   "source": [
    "<table class=\"tfo-notebook-buttons\" align=\"left\">\n",
    "  <td>\n",
    "    <a target=\"_blank\" href=\"https://www.tensorflow.org/quantum/tutorials/quantum_advantage_in_learning_from_experiments\"><img src=\"https://www.tensorflow.org/images/tf_logo_32px.png\" />View on TensorFlow.org</a>\n",
    "  </td>\n",
    "  <td>\n",
    "    <a target=\"_blank\" href=\"https://colab.research.google.com/github/tensorflow/quantum/blob/master/docs/tutorials/quantum_advantage_in_learning_from_experiments.ipynb\"><img src=\"https://www.tensorflow.org/images/colab_logo_32px.png\" />Run in Google Colab</a>\n",
    "  </td>\n",
    "  <td>\n",
    "    <a target=\"_blank\" href=\"https://github.com/tensorflow/quantum/blob/master/docs/tutorials/quantum_advantage_in_learning_from_experiments.ipynb\"><img src=\"https://www.tensorflow.org/images/GitHub-Mark-32px.png\" />View source on GitHub</a>\n",
    "  </td>\n",
    "  <td>\n",
    "    <a href=\"https://storage.googleapis.com/tensorflow_docs/quantum/docs/tutorials/quantum_advantage_in_learning_from_experiments.ipynb\"><img src=\"https://www.tensorflow.org/images/download_logo_32px.png\" />Download notebook</a>\n",
    "  </td>\n",
    "</table>"
   ]
  },
  {
   "cell_type": "markdown",
   "metadata": {
    "colab_type": "text",
    "id": "6tYn2HaAUgH0"
   },
   "source": [
    "This tutorial shows the experiments of <a target=\"_blank\" href=\"https://arxiv.org/abs/2112.00778\" class=\"external\">Quantum advantage in learning from experiments</a>."
   ]
  },
  {
   "cell_type": "markdown",
   "metadata": {
    "colab_type": "text",
    "id": "sPZoNKvpUaqa"
   },
   "source": [
    "## Setup"
   ]
  },
  {
   "cell_type": "code",
   "execution_count": null,
   "metadata": {
    "colab": {},
    "colab_type": "code",
    "id": "TorxE5tnkvb2"
   },
   "outputs": [],
   "source": [
    "!pip install tensorflow==2.4.1"
   ]
  },
  {
   "cell_type": "markdown",
   "metadata": {
    "colab_type": "text",
    "id": "FxkQA6oblNqI"
   },
   "source": [
    "Install TensorFlow Quantum:"
   ]
  },
  {
   "cell_type": "code",
   "execution_count": null,
   "metadata": {
    "colab": {},
    "colab_type": "code",
    "id": "saFHsRDpkvkH"
   },
   "outputs": [],
   "source": [
    "!pip install tensorflow-quantum"
   ]
  },
  {
   "cell_type": "code",
   "execution_count": null,
   "metadata": {
    "colab": {},
    "colab_type": "code",
    "id": "4Ql5PW-ACO0J"
   },
   "outputs": [],
   "source": [
    "# Update package resources to account for version changes.\n",
    "import importlib, pkg_resources\n",
    "importlib.reload(pkg_resources)"
   ]
  },
  {
   "cell_type": "markdown",
   "metadata": {
    "colab_type": "text",
    "id": "F1L8h1YKUvIO"
   },
   "source": [
    "Now import TensorFlow and the module dependencies:"
   ]
  },
  {
   "cell_type": "code",
   "execution_count": 1,
   "metadata": {
    "colab": {},
    "colab_type": "code",
    "id": "enZ300Bflq80"
   },
   "outputs": [],
   "source": [
    "import tensorflow as tf\n",
    "import cirq\n",
    "import matplotlib.pyplot as plt\n",
    "import numpy as np\n",
    "import sympy"
   ]
  },
  {
   "cell_type": "markdown",
   "metadata": {},
   "source": [
    "## 1. The Basics"
   ]
  },
  {
   "cell_type": "code",
   "execution_count": 2,
   "metadata": {},
   "outputs": [],
   "source": [
    "def create_randomized_sweeps(\n",
    "    hidden_p,\n",
    "    symbols,\n",
    "    n_params,\n",
    "    rand_state):\n",
    "    last_i = 0\n",
    "    for i, pauli in enumerate(hidden_p):\n",
    "        if pauli != \"I\":\n",
    "            last_i = i\n",
    "\n",
    "    sign_p = rand_state.choice([1, -1])\n",
    "    all_sweeps = []\n",
    "    for _ in range(n_params):\n",
    "        current_sweep = dict()\n",
    "        for twocopy in [0, 1]:\n",
    "            parity = sign_p * rand_state.choice([1, -1], p=[0.95, 0.05])\n",
    "            for i, pauli in enumerate(hidden_p):\n",
    "                current_symbol = symbols[2 * i + twocopy]\n",
    "                current_sweep[current_symbol] = rand_state.choice([0, 1])\n",
    "                if pauli != \"I\":\n",
    "                    if last_i == i:\n",
    "                        v = 1 if parity == -1 else 0\n",
    "                        current_sweep[current_symbol] = v\n",
    "                    elif current_sweep[current_symbol] == 1:\n",
    "                        parity *= -1\n",
    "\n",
    "        all_sweeps.append(current_sweep)\n",
    "    return all_sweeps\n",
    "\n",
    "\n",
    "\n",
    "def un_bell_pair_block(qubits):\n",
    "    return [cirq.CNOT(qubits[0], qubits[1]), cirq.H(qubits[0])]\n",
    "\n",
    "def inv_z_basis_gate(pauli):\n",
    "    \"\"\"Returns inverse Z basis transformation ops for a given Pauli.\n",
    "\n",
    "    Args:\n",
    "        pauli: Python str representing a single pauli.\n",
    "\n",
    "    Returns:\n",
    "        Corresponding `cirq.Gate` to do the inverse basis conversion.\n",
    "    \"\"\"\n",
    "    if pauli == \"I\" or pauli == \"Z\":\n",
    "        return cirq.I\n",
    "    if pauli == \"X\":\n",
    "        return cirq.H\n",
    "    if pauli == \"Y\":\n",
    "        # S^dag H to get to computational, H S to go back.\n",
    "        return cirq.PhasedXZGate(\n",
    "            axis_phase_exponent=-0.5, x_exponent=0.5, z_exponent=-0.5\n",
    "        )\n",
    "    raise ValueError(\"Invalid Pauli.\")\n",
    "    \n",
    "def build_circuit(\n",
    "    qubit_pairs,\n",
    "    pauli,\n",
    "    n_shots,\n",
    "    rand_state):\n",
    "    \"\"\"Create I + P problem circuit between qubit pairs.\n",
    "\n",
    "    Args:\n",
    "        qubit_pairs: List of qubit pairs.\n",
    "        pauli: Python str containing characters 'I', 'X', 'Y' or 'Z'.\n",
    "        n_shots: Number of repetitions to generate for sweeps.\n",
    "\n",
    "    Returns:\n",
    "        A (circuit, sweep) tuple, runnable using `run_sweep`.\n",
    "    \"\"\"\n",
    "    a_qubits = [pair[0] for pair in qubit_pairs]\n",
    "    b_qubits = [pair[1] for pair in qubit_pairs]\n",
    "    all_qubits = np.concatenate(qubit_pairs)\n",
    "\n",
    "    flip_params = sympy.symbols(f\"param_0:{len(qubit_pairs) * 2}\")\n",
    "\n",
    "    # Add X flips.\n",
    "    ret_circuit = cirq.Circuit(cirq.X(q) ** p for q, p in zip(all_qubits, flip_params))\n",
    "\n",
    "    # Add basis turns a and b.\n",
    "    ret_circuit += [\n",
    "        inv_z_basis_gate(p)(q) for q, p in zip(a_qubits, pauli)\n",
    "    ]\n",
    "    ret_circuit += [\n",
    "        inv_z_basis_gate(p)(q) for q, p in zip(b_qubits, pauli)\n",
    "    ]\n",
    "\n",
    "    # Add un-bell pair.\n",
    "    ret_circuit += [un_bell_pair_block(pair) for pair in qubit_pairs]\n",
    "\n",
    "    # Add measurements.\n",
    "    for i, qubit in enumerate(all_qubits):\n",
    "        ret_circuit += cirq.measure(qubit, key=f\"q{i}\")\n",
    "\n",
    "    # Create randomized flippings. These flippings will contain values of 1,0.\n",
    "    # which will turn the X gates on or off.\n",
    "    params = create_randomized_sweeps(\n",
    "        pauli, flip_params, n_shots, rand_state\n",
    "    )\n",
    "    return ret_circuit, params\n",
    "\n"
   ]
  },
  {
   "cell_type": "code",
   "execution_count": 3,
   "metadata": {},
   "outputs": [],
   "source": [
    "rand_source = np.random.RandomState(20160913)\n",
    "n_paulis = 200\n",
    "n = 3\n",
    "n_shots = 47\n",
    "n_sweeps = 1\n",
    "\n",
    "paulis = np.array([\"X\", \"Y\", \"Z\", \"I\"])\n",
    "pauli_strings = rand_source.choice(a=paulis, size=(n_paulis, n), replace=True)\n",
    "\n",
    "system_pairs = [(cirq.GridQubit(0, i), cirq.GridQubit(1, i)) for i in range(n)]\n",
    "\n",
    "simulator = cirq.Simulator()\n",
    "\n",
    "all_results = []\n",
    "for pauli in pauli_strings:\n",
    "    circuit, sweeps = build_circuit(system_pairs, pauli, n_shots, rand_source)\n",
    "    \n",
    "    results_for_pauli = []\n",
    "    for b in range(0, n_shots, n_sweeps):\n",
    "        results = simulator.run_sweep(\n",
    "            program=circuit,\n",
    "            params=sweeps[b : b + n_sweeps],\n",
    "            repetitions=1\n",
    "        )\n",
    "\n",
    "        batch_results = []\n",
    "        for j, single_circuit_samples in enumerate(results):\n",
    "            qubit_order = [f\"q{i}\" for i in range(2 * n)]\n",
    "            out0 = single_circuit_samples.data[qubit_order].to_numpy()\n",
    "            batch_results.append(np.squeeze(out0))\n",
    "\n",
    "        batch_results = np.array(batch_results)\n",
    "        results_for_pauli.append(batch_results)\n",
    "    all_results.append(np.concatenate(results_for_pauli))\n",
    "    "
   ]
  },
  {
   "cell_type": "code",
   "execution_count": 4,
   "metadata": {},
   "outputs": [
    {
     "data": {
      "text/plain": [
       "((400, 47, 12), (400, 2))"
      ]
     },
     "execution_count": 4,
     "metadata": {},
     "output_type": "execute_result"
    }
   ],
   "source": [
    "def _encode_pauli(paulis):\n",
    "    encoded = []\n",
    "    for pauli in paulis:\n",
    "        if pauli == 'I':\n",
    "            encoded.extend([0, 0])\n",
    "        elif pauli == 'X':\n",
    "            encoded.extend([0, 1])\n",
    "        elif pauli == 'Y':\n",
    "            encoded.extend([1, 0])\n",
    "        elif pauli == 'Z':\n",
    "            encoded.extend([1, 1])\n",
    "    return np.asarray([encoded])\n",
    "    \n",
    "inputs = []\n",
    "targets = []\n",
    "    \n",
    "for i in range(n_paulis):\n",
    "    encoded_pauli = np.repeat(_encode_pauli(pauli_strings[i, :]), n_shots, axis=0)\n",
    "    \n",
    "    inputs.append(np.expand_dims(np.concatenate((all_results[i], encoded_pauli,), axis=1), axis=0))\n",
    "    targets.append([1, 0])\n",
    "    \n",
    "    inputs.append(np.expand_dims(np.concatenate((all_results[(i + 1) % len(all_results)], encoded_pauli,), axis=1), axis=0))\n",
    "    targets.append([0, 1])\n",
    "\n",
    "inputs = np.concatenate(inputs)\n",
    "targets = np.asarray(targets)\n",
    "\n",
    "inputs.shape, targets.shape\n"
   ]
  },
  {
   "cell_type": "code",
   "execution_count": 5,
   "metadata": {},
   "outputs": [],
   "source": [
    "model = tf.keras.Sequential()\n",
    "model.add(tf.keras.layers.Dense(8, activation='relu', use_bias=True))\n",
    "model.add(tf.keras.layers.GRU(4, go_backwards=False, return_sequences=True))\n",
    "model.add(tf.keras.layers.GRU(4, go_backwards=True,  return_sequences=True))\n",
    "model.add(tf.keras.layers.GRU(4,  go_backwards=False))\n",
    "model.add(tf.keras.layers.Dense(8, activation='relu', use_bias=True))\n",
    "model.add(tf.keras.layers.Dense(2, activation='softmax', use_bias=True))\n",
    "\n",
    "optimizer = tf.keras.optimizers.Adam(learning_rate=0.005)\n",
    "loss = tf.keras.losses.BinaryCrossentropy(from_logits=False)\n",
    "\n",
    "model.compile(optimizer=optimizer, loss=loss, metrics=['accuracy'])\n",
    "\n",
    "history = model.fit(\n",
    "    x=inputs.astype(float),\n",
    "    y=targets.astype(float),\n",
    "    epochs=500,\n",
    "    verbose=0)\n"
   ]
  },
  {
   "cell_type": "code",
   "execution_count": 10,
   "metadata": {},
   "outputs": [
    {
     "data": {
      "image/png": "[encoded data removed]",
      "text/plain": [
       "<Figure size 432x288 with 1 Axes>"
      ]
     },
     "metadata": {
      "needs_background": "light"
     },
     "output_type": "display_data"
    },
    {
     "data": {
      "image/png": "[encoded data removed]",
      "text/plain": [
       "<Figure size 432x288 with 1 Axes>"
      ]
     },
     "metadata": {
      "needs_background": "light"
     },
     "output_type": "display_data"
    }
   ],
   "source": [
    "plt.plot(history.history['accuracy'], 'b')\n",
    "plt.ylabel('accuracy')\n",
    "plt.show()\n",
    "\n",
    "plt.plot(history.history['loss'], 'r')\n",
    "plt.ylabel('loss')\n",
    "plt.show()\n"
   ]
  }
 ],
 "metadata": {
  "colab": {
   "collapsed_sections": [],
   "name": "quantum_advantage_in_learning_from_experiments.ipynb",
   "private_outputs": true,
   "provenance": [],
   "toc_visible": true
  },
  "kernelspec": {
   "display_name": "Python 3",
   "language": "python",
   "name": "python3"
  },
  "language_info": {
   "codemirror_mode": {
    "name": "ipython",
    "version": 3
   },
   "file_extension": ".py",
   "mimetype": "text/x-python",
   "name": "python",
   "nbconvert_exporter": "python",
   "pygments_lexer": "ipython3",
   "version": "3.8.10"
  }
 },
 "nbformat": 4,
 "nbformat_minor": 1
}
