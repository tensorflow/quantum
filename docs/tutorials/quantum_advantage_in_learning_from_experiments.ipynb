{
 "cells": [
  {
   "cell_type": "markdown",
   "metadata": {
    "colab_type": "text",
    "id": "xLOXFOT5Q40E"
   },
   "source": [
    "##### Copyright 2020 The TensorFlow Authors."
   ]
  },
  {
   "cell_type": "code",
   "execution_count": null,
   "metadata": {
    "cellView": "form",
    "colab": {},
    "colab_type": "code",
    "id": "iiQkM5ZgQ8r2"
   },
   "outputs": [],
   "source": [
    "#@title Licensed under the Apache License, Version 2.0 (the \"License\");\n",
    "# you may not use this file except in compliance with the License.\n",
    "# You may obtain a copy of the License at\n",
    "#\n",
    "# https://www.apache.org/licenses/LICENSE-2.0\n",
    "#\n",
    "# Unless required by applicable law or agreed to in writing, software\n",
    "# distributed under the License is distributed on an \"AS IS\" BASIS,\n",
    "# WITHOUT WARRANTIES OR CONDITIONS OF ANY KIND, either express or implied.\n",
    "# See the License for the specific language governing permissions and\n",
    "# limitations under the License."
   ]
  },
  {
   "cell_type": "markdown",
   "metadata": {
    "colab_type": "text",
    "id": "j6331ZSsQGY3"
   },
   "source": [
    "# Quantum advantage in learning from experiments"
   ]
  },
  {
   "cell_type": "markdown",
   "metadata": {
    "colab_type": "text",
    "id": "i9Jcnb8bQQyd"
   },
   "source": [
    "<table class=\"tfo-notebook-buttons\" align=\"left\">\n",
    "  <td>\n",
    "    <a target=\"_blank\" href=\"https://www.tensorflow.org/quantum/tutorials/quantum_advantage_in_learning_from_experiments\"><img src=\"https://www.tensorflow.org/images/tf_logo_32px.png\" />View on TensorFlow.org</a>\n",
    "  </td>\n",
    "  <td>\n",
    "    <a target=\"_blank\" href=\"https://colab.research.google.com/github/tensorflow/quantum/blob/master/docs/tutorials/quantum_advantage_in_learning_from_experiments.ipynb\"><img src=\"https://www.tensorflow.org/images/colab_logo_32px.png\" />Run in Google Colab</a>\n",
    "  </td>\n",
    "  <td>\n",
    "    <a target=\"_blank\" href=\"https://github.com/tensorflow/quantum/blob/master/docs/tutorials/quantum_advantage_in_learning_from_experiments.ipynb\"><img src=\"https://www.tensorflow.org/images/GitHub-Mark-32px.png\" />View source on GitHub</a>\n",
    "  </td>\n",
    "  <td>\n",
    "    <a href=\"https://storage.googleapis.com/tensorflow_docs/quantum/docs/tutorials/quantum_advantage_in_learning_from_experiments.ipynb\"><img src=\"https://www.tensorflow.org/images/download_logo_32px.png\" />Download notebook</a>\n",
    "  </td>\n",
    "</table>"
   ]
  },
  {
   "cell_type": "markdown",
   "metadata": {
    "colab_type": "text",
    "id": "6tYn2HaAUgH0"
   },
   "source": [
    "This tutorial shows the experiments of <a target=\"_blank\" href=\"https://arxiv.org/abs/2112.00778\" class=\"external\">Quantum advantage in learning from experiments</a>."
   ]
  },
  {
   "cell_type": "markdown",
   "metadata": {
    "colab_type": "text",
    "id": "sPZoNKvpUaqa"
   },
   "source": [
    "## Setup"
   ]
  },
  {
   "cell_type": "code",
   "execution_count": null,
   "metadata": {
    "colab": {},
    "colab_type": "code",
    "id": "TorxE5tnkvb2"
   },
   "outputs": [],
   "source": [
    "!pip install tensorflow==2.4.1"
   ]
  },
  {
   "cell_type": "markdown",
   "metadata": {
    "colab_type": "text",
    "id": "FxkQA6oblNqI"
   },
   "source": [
    "Install TensorFlow Quantum:"
   ]
  },
  {
   "cell_type": "code",
   "execution_count": null,
   "metadata": {
    "colab": {},
    "colab_type": "code",
    "id": "saFHsRDpkvkH"
   },
   "outputs": [],
   "source": [
    "!pip install tensorflow-quantum"
   ]
  },
  {
   "cell_type": "code",
   "execution_count": null,
   "metadata": {
    "colab": {},
    "colab_type": "code",
    "id": "4Ql5PW-ACO0J"
   },
   "outputs": [],
   "source": [
    "# Update package resources to account for version changes.\n",
    "import importlib, pkg_resources\n",
    "importlib.reload(pkg_resources)"
   ]
  },
  {
   "cell_type": "markdown",
   "metadata": {
    "colab_type": "text",
    "id": "F1L8h1YKUvIO"
   },
   "source": [
    "Now import TensorFlow and the module dependencies:"
   ]
  },
  {
   "cell_type": "code",
   "execution_count": 15,
   "metadata": {
    "colab": {},
    "colab_type": "code",
    "id": "enZ300Bflq80"
   },
   "outputs": [],
   "source": [
    "import tensorflow as tf\n",
    "import cirq\n",
    "from cirq_google import SycamoreGate\n",
    "import numpy as np\n",
    "import sympy\n",
    "import functools\n",
    "import os"
   ]
  },
  {
   "cell_type": "markdown",
   "metadata": {},
   "source": [
    "## 1. The Basics"
   ]
  },
  {
   "cell_type": "code",
   "execution_count": 18,
   "metadata": {},
   "outputs": [],
   "source": [
    "@functools.lru_cache(maxsize=128)\n",
    "def _load_circuit(fname: str) -> cirq.Circuit:\n",
    "    with open(fname, \"r\") as f:\n",
    "        return cirq.read_json(f)\n",
    "\n",
    "def un_bell_pair_block(qubits):\n",
    "    \"\"\"Un compute a bell pair on two qubits.\n",
    "\n",
    "    Enacts CNOT(a, b) + H(a) using SycamoreGates and single qubit operations.\n",
    "\n",
    "    Args:\n",
    "        qubits: The qubits to un-prepare the bell pair on.\n",
    "\n",
    "    Returns:\n",
    "         A list of `cirq.Operations` realizing the operation.\n",
    "    \"\"\"\n",
    "    mapped_circuit = _load_circuit(\"syc_un_bell_pair.json\").transform_qubits(\n",
    "        {cirq.GridQubit(0, 0): qubits[0], cirq.GridQubit(0, 1): qubits[1]}\n",
    "    )\n",
    "    return mapped_circuit.all_operations()\n",
    "\n",
    "def inv_z_basis_gate(pauli):\n",
    "    \"\"\"Returns inverse Z basis transformation ops for a given Pauli.\n",
    "\n",
    "    Args:\n",
    "        pauli: Python str representing a single pauli.\n",
    "\n",
    "    Returns:\n",
    "        Corresponding `cirq.Gate` to do the inverse basis conversion.\n",
    "    \"\"\"\n",
    "    if pauli == \"I\" or pauli == \"Z\":\n",
    "        return cirq.I\n",
    "    if pauli == \"X\":\n",
    "        return cirq.H\n",
    "    if pauli == \"Y\":\n",
    "        # S^dag H to get to computational, H S to go back.\n",
    "        return cirq.PhasedXZGate(\n",
    "            axis_phase_exponent=-0.5, x_exponent=0.5, z_exponent=-0.5\n",
    "        )\n",
    "    raise ValueError(\"Invalid Pauli.\")\n",
    "\n",
    "def flatten_circuit(circuit: cirq.Circuit) -> cirq.Circuit:\n",
    "    \"\"\"Pack operations in circuit to the left as far as possible.\n",
    "\n",
    "    Args:\n",
    "        circuit: `cirq.Circuit` who's operations will be packed.\n",
    "\n",
    "    Returns:\n",
    "        A `cirq.Circuit` with operations packed to the left as\n",
    "        far as possible.\n",
    "    \"\"\"\n",
    "    return cirq.Circuit([op for mom in circuit for op in mom])\n",
    "\n",
    "    \n",
    "def build_circuit(\n",
    "    qubit_pairs,\n",
    "    pauli,\n",
    "    n_shots,\n",
    "    rand_state):\n",
    "    \"\"\"Create I + P problem circuit between qubit pairs.\n",
    "\n",
    "    Args:\n",
    "        qubit_pairs: List of qubit pairs.\n",
    "        pauli: Python str containing characters 'I', 'X', 'Y' or 'Z'.\n",
    "        n_shots: Number of repetitions to generate for sweeps.\n",
    "\n",
    "    Returns:\n",
    "        A (circuit, sweep) tuple, runnable using `run_sweep`.\n",
    "    \"\"\"\n",
    "    a_qubits = [pair[0] for pair in qubit_pairs]\n",
    "    b_qubits = [pair[1] for pair in qubit_pairs]\n",
    "    all_qubits = np.concatenate(qubit_pairs)\n",
    "\n",
    "    flip_params = sympy.symbols(f\"param_0:{len(qubit_pairs) * 2}\")\n",
    "\n",
    "    # Add X flips.\n",
    "    ret_circuit = cirq.Circuit(cirq.X(q) ** p for q, p in zip(all_qubits, flip_params))\n",
    "\n",
    "    # Add basis turns a and b.\n",
    "    ret_circuit += [\n",
    "        inv_z_basis_gate(p)(q) for q, p in zip(a_qubits, pauli)\n",
    "    ]\n",
    "    ret_circuit += [\n",
    "        inv_z_basis_gate(p)(q) for q, p in zip(b_qubits, pauli)\n",
    "    ]\n",
    "\n",
    "    # Add un-bell pair.\n",
    "    ret_circuit += [un_bell_pair_block(pair) for pair in qubit_pairs]\n",
    "\n",
    "    # Add measurements.\n",
    "    for i, qubit in enumerate(all_qubits):\n",
    "        ret_circuit += cirq.measure(qubit, key=f\"q{i}\")\n",
    "\n",
    "    # Merge single qubit operations, flatten moments and align measurements.\n",
    "    cirq.merge_single_qubit_gates_into_phxz(ret_circuit)\n",
    "    cirq.DropEmptyMoments().optimize_circuit(circuit=ret_circuit)\n",
    "    ret_circuit = flatten_circuit(ret_circuit)\n",
    "    cirq.SynchronizeTerminalMeasurements().optimize_circuit(circuit=ret_circuit)\n",
    "\n",
    "    # Create randomized flippings. These flippings will contain values of 1,0.\n",
    "    # which will turn the X gates on or off.\n",
    "    params = circuit_blocks.create_randomized_sweeps(\n",
    "        pauli, flip_params, n_shots, rand_state\n",
    "    )\n",
    "    logging.debug(\n",
    "        f\"Generated circuit w/ depth {len(ret_circuit)} and {len(params)} sweeps.\"\n",
    "    )\n",
    "    return ret_circuit, params\n",
    "\n"
   ]
  },
  {
   "cell_type": "code",
   "execution_count": 19,
   "metadata": {},
   "outputs": [
    {
     "name": "stdout",
     "output_type": "stream",
     "text": [
      "['I' 'I' 'Z']\n"
     ]
    },
    {
     "ename": "NameError",
     "evalue": "name 'circuit_blocks' is not defined",
     "output_type": "error",
     "traceback": [
      "\u001b[0;31m---------------------------------------------------------------------------\u001b[0m",
      "\u001b[0;31mNameError\u001b[0m                                 Traceback (most recent call last)",
      "\u001b[0;32m<ipython-input-19-85955da17496>\u001b[0m in \u001b[0;36m<module>\u001b[0;34m\u001b[0m\n\u001b[1;32m     12\u001b[0m     \u001b[0mprint\u001b[0m\u001b[0;34m(\u001b[0m\u001b[0mpauli\u001b[0m\u001b[0;34m)\u001b[0m\u001b[0;34m\u001b[0m\u001b[0;34m\u001b[0m\u001b[0m\n\u001b[1;32m     13\u001b[0m \u001b[0;34m\u001b[0m\u001b[0m\n\u001b[0;32m---> 14\u001b[0;31m     \u001b[0mcircuit\u001b[0m\u001b[0;34m,\u001b[0m \u001b[0msweeps\u001b[0m \u001b[0;34m=\u001b[0m \u001b[0mbuild_circuit\u001b[0m\u001b[0;34m(\u001b[0m\u001b[0msystem_pairs\u001b[0m\u001b[0;34m,\u001b[0m \u001b[0mpauli\u001b[0m\u001b[0;34m,\u001b[0m \u001b[0mn_shots\u001b[0m\u001b[0;34m,\u001b[0m \u001b[0mrand_source\u001b[0m\u001b[0;34m)\u001b[0m\u001b[0;34m\u001b[0m\u001b[0;34m\u001b[0m\u001b[0m\n\u001b[0m",
      "\u001b[0;32m<ipython-input-18-ce0a56e70863>\u001b[0m in \u001b[0;36mbuild_circuit\u001b[0;34m(qubit_pairs, pauli, n_shots, rand_state)\u001b[0m\n\u001b[1;32m    100\u001b[0m     \u001b[0;31m# Create randomized flippings. These flippings will contain values of 1,0.\u001b[0m\u001b[0;34m\u001b[0m\u001b[0;34m\u001b[0m\u001b[0;34m\u001b[0m\u001b[0m\n\u001b[1;32m    101\u001b[0m     \u001b[0;31m# which will turn the X gates on or off.\u001b[0m\u001b[0;34m\u001b[0m\u001b[0;34m\u001b[0m\u001b[0;34m\u001b[0m\u001b[0m\n\u001b[0;32m--> 102\u001b[0;31m     params = circuit_blocks.create_randomized_sweeps(\n\u001b[0m\u001b[1;32m    103\u001b[0m         \u001b[0mpauli\u001b[0m\u001b[0;34m,\u001b[0m \u001b[0mflip_params\u001b[0m\u001b[0;34m,\u001b[0m \u001b[0mn_shots\u001b[0m\u001b[0;34m,\u001b[0m \u001b[0mrand_state\u001b[0m\u001b[0;34m\u001b[0m\u001b[0;34m\u001b[0m\u001b[0m\n\u001b[1;32m    104\u001b[0m     )\n",
      "\u001b[0;31mNameError\u001b[0m: name 'circuit_blocks' is not defined"
     ]
    }
   ],
   "source": [
    "rand_source = np.random.RandomState(1234)\n",
    "n_paulis = 7\n",
    "n = 3\n",
    "n_shots = 100\n",
    "\n",
    "paulis = np.array([\"X\", \"Y\", \"Z\", \"I\"])\n",
    "pauli_strings = rand_source.choice(a=paulis, size=(n_paulis, n), replace=True)\n",
    "\n",
    "system_pairs = [(cirq.GridQubit(0, i), cirq.GridQubit(1, i)) for i in range(n)]\n",
    "\n",
    "for pauli in pauli_strings:\n",
    "    print(pauli)\n",
    "    \n",
    "    circuit, sweeps = build_circuit(system_pairs, pauli, n_shots, rand_source)"
   ]
  }
 ],
 "metadata": {
  "colab": {
   "collapsed_sections": [],
   "name": "quantum_advantage_in_learning_from_experiments.ipynb",
   "private_outputs": true,
   "provenance": [],
   "toc_visible": true
  },
  "kernelspec": {
   "display_name": "Python 3",
   "language": "python",
   "name": "python3"
  },
  "language_info": {
   "codemirror_mode": {
    "name": "ipython",
    "version": 3
   },
   "file_extension": ".py",
   "mimetype": "text/x-python",
   "name": "python",
   "nbconvert_exporter": "python",
   "pygments_lexer": "ipython3",
   "version": "3.8.10"
  }
 },
 "nbformat": 4,
 "nbformat_minor": 1
}
