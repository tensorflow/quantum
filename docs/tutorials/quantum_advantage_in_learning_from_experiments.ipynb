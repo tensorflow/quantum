{
 "cells": [
  {
   "cell_type": "markdown",
   "metadata": {
    "colab_type": "text",
    "id": "xLOXFOT5Q40E"
   },
   "source": [
    "##### Copyright 2020 The TensorFlow Authors."
   ]
  },
  {
   "cell_type": "code",
   "execution_count": null,
   "metadata": {
    "cellView": "form",
    "colab": {},
    "colab_type": "code",
    "id": "iiQkM5ZgQ8r2"
   },
   "outputs": [],
   "source": [
    "#@title Licensed under the Apache License, Version 2.0 (the \"License\");\n",
    "# you may not use this file except in compliance with the License.\n",
    "# You may obtain a copy of the License at\n",
    "#\n",
    "# https://www.apache.org/licenses/LICENSE-2.0\n",
    "#\n",
    "# Unless required by applicable law or agreed to in writing, software\n",
    "# distributed under the License is distributed on an \"AS IS\" BASIS,\n",
    "# WITHOUT WARRANTIES OR CONDITIONS OF ANY KIND, either express or implied.\n",
    "# See the License for the specific language governing permissions and\n",
    "# limitations under the License."
   ]
  },
  {
   "cell_type": "markdown",
   "metadata": {
    "colab_type": "text",
    "id": "j6331ZSsQGY3"
   },
   "source": [
    "# Quantum advantage in learning from experiments"
   ]
  },
  {
   "cell_type": "markdown",
   "metadata": {
    "colab_type": "text",
    "id": "i9Jcnb8bQQyd"
   },
   "source": [
    "<table class=\"tfo-notebook-buttons\" align=\"left\">\n",
    "  <td>\n",
    "    <a target=\"_blank\" href=\"https://www.tensorflow.org/quantum/tutorials/quantum_advantage_in_learning_from_experiments\"><img src=\"https://www.tensorflow.org/images/tf_logo_32px.png\" />View on TensorFlow.org</a>\n",
    "  </td>\n",
    "  <td>\n",
    "    <a target=\"_blank\" href=\"https://colab.research.google.com/github/tensorflow/quantum/blob/master/docs/tutorials/quantum_advantage_in_learning_from_experiments.ipynb\"><img src=\"https://www.tensorflow.org/images/colab_logo_32px.png\" />Run in Google Colab</a>\n",
    "  </td>\n",
    "  <td>\n",
    "    <a target=\"_blank\" href=\"https://github.com/tensorflow/quantum/blob/master/docs/tutorials/quantum_advantage_in_learning_from_experiments.ipynb\"><img src=\"https://www.tensorflow.org/images/GitHub-Mark-32px.png\" />View source on GitHub</a>\n",
    "  </td>\n",
    "  <td>\n",
    "    <a href=\"https://storage.googleapis.com/tensorflow_docs/quantum/docs/tutorials/quantum_advantage_in_learning_from_experiments.ipynb\"><img src=\"https://www.tensorflow.org/images/download_logo_32px.png\" />Download notebook</a>\n",
    "  </td>\n",
    "</table>"
   ]
  },
  {
   "cell_type": "markdown",
   "metadata": {
    "colab_type": "text",
    "id": "6tYn2HaAUgH0"
   },
   "source": [
    "This tutorial shows the experiments of <a target=\"_blank\" href=\"https://arxiv.org/abs/2112.00778\" class=\"external\">Quantum advantage in learning from experiments</a>."
   ]
  },
  {
   "cell_type": "markdown",
   "metadata": {
    "colab_type": "text",
    "id": "sPZoNKvpUaqa"
   },
   "source": [
    "## Setup"
   ]
  },
  {
   "cell_type": "code",
   "execution_count": null,
   "metadata": {
    "colab": {},
    "colab_type": "code",
    "id": "TorxE5tnkvb2"
   },
   "outputs": [],
   "source": [
    "!pip install tensorflow==2.4.1"
   ]
  },
  {
   "cell_type": "markdown",
   "metadata": {
    "colab_type": "text",
    "id": "F1L8h1YKUvIO"
   },
   "source": [
    "Now import TensorFlow and the module dependencies:"
   ]
  },
  {
   "cell_type": "code",
   "execution_count": 1,
   "metadata": {
    "colab": {},
    "colab_type": "code",
    "id": "enZ300Bflq80"
   },
   "outputs": [],
   "source": [
    "import tensorflow as tf\n",
    "import cirq\n",
    "import matplotlib.pyplot as plt\n",
    "import numpy as np\n",
    "import sympy"
   ]
  },
  {
   "cell_type": "markdown",
   "metadata": {},
   "source": [
    "## 1. Creating the circuit"
   ]
  },
  {
   "cell_type": "markdown",
   "metadata": {},
   "source": [
    "We first define the circuit we are going to use to generate samples"
   ]
  },
  {
   "cell_type": "code",
   "execution_count": 2,
   "metadata": {},
   "outputs": [],
   "source": [
    "def un_bell_pair_block(qubits):\n",
    "    return [cirq.CNOT(qubits[0], qubits[1]), cirq.H(qubits[0])]\n",
    "\n",
    "def inv_z_basis_gate(pauli):\n",
    "    if pauli == \"I\" or pauli == \"Z\":\n",
    "        return cirq.I\n",
    "    if pauli == \"X\":\n",
    "        return cirq.H\n",
    "    if pauli == \"Y\":\n",
    "        # S^dag H to get to computational, H S to go back.\n",
    "        return cirq.PhasedXZGate(\n",
    "            axis_phase_exponent=-0.5, x_exponent=0.5, z_exponent=-0.5\n",
    "        )\n",
    "    raise ValueError(\"Invalid Pauli.\")\n",
    "    \n",
    "def build_circuit(\n",
    "    qubit_pairs,\n",
    "    pauli,\n",
    "    n_shots,\n",
    "    rand_state,\n",
    "    classical_shadows):\n",
    "    a_qubits = [pair[0] for pair in qubit_pairs]\n",
    "    b_qubits = [pair[1] for pair in qubit_pairs]\n",
    "    all_qubits = np.concatenate(qubit_pairs)\n",
    "\n",
    "    flip_params = sympy.symbols(f\"param_0:{len(qubit_pairs) * 2}\")\n",
    "\n",
    "    # Add X flips.\n",
    "    ret_circuit = cirq.Circuit(cirq.X(q) ** p for q, p in zip(all_qubits, flip_params))\n",
    "\n",
    "    # Add basis turns a and b.\n",
    "    ret_circuit += [\n",
    "        inv_z_basis_gate(p)(q) for q, p in zip(a_qubits, pauli)\n",
    "    ]\n",
    "    ret_circuit += [\n",
    "        inv_z_basis_gate(p)(q) for q, p in zip(b_qubits, pauli)\n",
    "    ]\n",
    "\n",
    "    if classical_shadows:\n",
    "        # Add measurements.\n",
    "        for i, qubit in enumerate(a_qubits):\n",
    "            ret_circuit += cirq.measure(qubit, key=f\"q{i}\") \n",
    "    else:  # not classical_shadows\n",
    "        # Add un-bell pair.\n",
    "        ret_circuit += [un_bell_pair_block(pair) for pair in qubit_pairs]\n",
    "\n",
    "        # Add measurements.\n",
    "        for i, qubit in enumerate(all_qubits):\n",
    "            ret_circuit += cirq.measure(qubit, key=f\"q{i}\")\n",
    "\n",
    "    # Create randomized flippings. These flippings will contain values of 1,0.\n",
    "    # which will turn the X gates on or off.\n",
    "    params = create_randomized_sweeps(\n",
    "        pauli, flip_params, n_shots, rand_state\n",
    "    )\n",
    "    return ret_circuit, params\n",
    "\n"
   ]
  },
  {
   "cell_type": "markdown",
   "metadata": {},
   "source": [
    "We then generate the sweeping parameters."
   ]
  },
  {
   "cell_type": "code",
   "execution_count": 3,
   "metadata": {},
   "outputs": [],
   "source": [
    "def create_randomized_sweeps(\n",
    "    hidden_p,\n",
    "    symbols,\n",
    "    n_params,\n",
    "    rand_state):\n",
    "    last_i = 0\n",
    "    for i, pauli in enumerate(hidden_p):\n",
    "        if pauli != \"I\":\n",
    "            last_i = i\n",
    "\n",
    "    sign_p = rand_state.choice([1, -1])\n",
    "    all_sweeps = []\n",
    "    for _ in range(n_params):\n",
    "        current_sweep = dict()\n",
    "        for twocopy in [0, 1]:\n",
    "            parity = sign_p * rand_state.choice([1, -1], p=[0.95, 0.05])\n",
    "            for i, pauli in enumerate(hidden_p):\n",
    "                current_symbol = symbols[2 * i + twocopy]\n",
    "                current_sweep[current_symbol] = rand_state.choice([0, 1])\n",
    "                if pauli != \"I\":\n",
    "                    if last_i == i:\n",
    "                        v = 1 if parity == -1 else 0\n",
    "                        current_sweep[current_symbol] = v\n",
    "                    elif current_sweep[current_symbol] == 1:\n",
    "                        parity *= -1\n",
    "\n",
    "        all_sweeps.append(current_sweep)\n",
    "    return all_sweeps\n"
   ]
  },
  {
   "cell_type": "markdown",
   "metadata": {},
   "source": [
    "## 2. Create the training data"
   ]
  },
  {
   "cell_type": "code",
   "execution_count": 4,
   "metadata": {},
   "outputs": [],
   "source": [
    "rand_source = np.random.RandomState(20160913)\n",
    "n_paulis = 3\n",
    "n = 6\n",
    "n_shots = 11\n",
    "n_repeats = 13\n",
    "classical_shadows = True\n",
    "\n",
    "system_pairs = [(cirq.GridQubit(0, i), cirq.GridQubit(1, i)) for i in range(n)]\n",
    "simulator = cirq.Simulator()\n",
    "\n",
    "all_results = []\n",
    "\n",
    "if classical_shadows:\n",
    "    qubit_order = [f\"q{i}\" for i in range(n)]\n",
    "else:  # not classical_shadows\n",
    "    qubit_order = [f\"q{i}\" for i in range(2 * n)]\n",
    "\n",
    "for pauli_num in rand_source.choice(range(4 ** n), n_paulis, replace=False):\n",
    "    pauli = ''\n",
    "    for _ in range(n):\n",
    "        base4 = pauli_num % 4\n",
    "        if base4 == 0:\n",
    "            pauli += 'I'\n",
    "        elif base4 == 1:\n",
    "            pauli += 'X'\n",
    "        elif base4 == 2:\n",
    "            pauli += 'Y'\n",
    "        else:\n",
    "            pauli += 'Z'\n",
    "        pauli_num = (pauli_num - base4) // 4\n",
    "\n",
    "    circuit, sweeps = build_circuit(\n",
    "        system_pairs,\n",
    "        pauli,\n",
    "        n_shots,\n",
    "        rand_source,\n",
    "        classical_shadows=classical_shadows)\n",
    "    \n",
    "    results_for_pauli = []\n",
    "    for _ in range(n_repeats):\n",
    "        results_for_repeat = []\n",
    "        results = simulator.run_sweep(\n",
    "            program=circuit,\n",
    "            params=sweeps,\n",
    "            repetitions=1\n",
    "        )\n",
    "\n",
    "        batch_results = []\n",
    "        for j, single_circuit_samples in enumerate(results):\n",
    "            out0 = single_circuit_samples.data[qubit_order].to_numpy()\n",
    "            batch_results.append(np.squeeze(out0))\n",
    "\n",
    "        results_for_pauli.append(np.array(batch_results))\n",
    "    all_results.append(results_for_pauli)"
   ]
  },
  {
   "cell_type": "markdown",
   "metadata": {},
   "source": [
    "## 3. Create the neural network"
   ]
  },
  {
   "cell_type": "markdown",
   "metadata": {},
   "source": [
    "First, we create the model that encodes the measurements."
   ]
  },
  {
   "cell_type": "code",
   "execution_count": 5,
   "metadata": {},
   "outputs": [],
   "source": [
    "class InnerLayer(tf.keras.Model):\n",
    "    def __init__(self, n_shots, num_qubits):\n",
    "        super(InnerLayer, self).__init__(name='inner')\n",
    "        self.n_shots = n_shots\n",
    "        self.num_qubits = num_qubits\n",
    "        self.gru1 = tf.keras.layers.GRU(4, go_backwards=False, return_sequences=True)\n",
    "        self.gru2 = tf.keras.layers.GRU(4, go_backwards=True,  return_sequences=True)\n",
    "        self.gru3 = tf.keras.layers.GRU(4, go_backwards=False, return_sequences=False)\n",
    "\n",
    "    def call(self, x):\n",
    "        x = tf.expand_dims(tf.reshape(x, (-1, self.num_qubits)), -1)\n",
    "        x = self.gru1(x)\n",
    "        x = self.gru2(x)\n",
    "        x = self.gru3(x)\n",
    "        x = tf.reshape(x, (-1, self.n_shots, 4))\n",
    "        return x\n",
    "\n",
    "class IntermediateLayer(tf.keras.Model):\n",
    "    def __init__(self):\n",
    "        super(IntermediateLayer, self).__init__(name='intermediate')\n",
    "    \n",
    "    def build(self, input_shape):\n",
    "        self.kernel = self.add_weight(\"kernel\", shape=[int(input_shape[2]), 8])\n",
    "    \n",
    "    def call(self, x):\n",
    "        x = tf.math.reduce_mean(x, axis=1)\n",
    "        x = tf.matmul(x, self.kernel)    \n",
    "        return x\n",
    "\n",
    "model = tf.keras.Sequential()\n",
    "model.add(InnerLayer(n_shots, len(qubit_order)))\n",
    "model.add(IntermediateLayer())"
   ]
  },
  {
   "cell_type": "markdown",
   "metadata": {},
   "source": [
    "We define the conjoined model that compares outputs"
   ]
  },
  {
   "cell_type": "code",
   "execution_count": 6,
   "metadata": {},
   "outputs": [],
   "source": [
    "input_1 = tf.keras.Input((n_shots, len(qubit_order),))\n",
    "input_2 = tf.keras.Input((n_shots, len(qubit_order),))\n",
    "\n",
    "encoded_1 = model(input_1)\n",
    "encoded_2 = model(input_2)\n",
    "\n",
    "class OuterLayer(tf.keras.Model):\n",
    "    def __init__(self):\n",
    "        super(OuterLayer, self).__init__(name='')\n",
    "        \n",
    "    def call(self, x):\n",
    "        x = tf.norm(x[1] - x[0], ord=2, axis=1)\n",
    "        x = tf.stack([x, tf.ones(tf.shape(x))], axis=1)\n",
    "        x = tf.nn.softmax(x)\n",
    "        return x\n",
    "\n",
    "predictor = OuterLayer()\n",
    "prediction = predictor([encoded_1, encoded_2])\n",
    "\n",
    "conjoined_net = tf.keras.Model(inputs=[input_1, input_2], outputs=prediction)"
   ]
  },
  {
   "cell_type": "markdown",
   "metadata": {},
   "source": [
    "## 4. Train the model"
   ]
  },
  {
   "cell_type": "code",
   "execution_count": 7,
   "metadata": {},
   "outputs": [],
   "source": [
    "optimizer = tf.keras.optimizers.Adam(learning_rate=0.01)\n",
    "loss = tf.keras.losses.BinaryCrossentropy(from_logits=False)\n",
    "\n",
    "conjoined_net.compile(optimizer=optimizer, loss=loss, metrics=['accuracy'])\n",
    "\n",
    "def _sample_different(max_val, ref):\n",
    "    ret = ref\n",
    "    while ret == ref:\n",
    "        ret = rand_source.choice(max_val)\n",
    "    return ret\n",
    "\n",
    "x1 = []\n",
    "x2 = []\n",
    "y = []\n",
    "for pauli_idx in range(n_paulis):\n",
    "    # Same Pauli\n",
    "    for i in range(n_repeats):\n",
    "        j = _sample_different(n_repeats, i)\n",
    "    \n",
    "        x1.append(all_results[pauli_idx][i].astype(float))\n",
    "        x2.append(all_results[pauli_idx][j].astype(float))\n",
    "        y.append([1.0, 0.0])\n",
    "    \n",
    "    # Different Pauli\n",
    "    for i in range(n_repeats):\n",
    "        other_pauli_idx = _sample_different(n_paulis, pauli_idx)\n",
    "        j = rand_source.choice(n_repeats)\n",
    "        x1.append(all_results[pauli_idx][i].astype(float))\n",
    "        x2.append(all_results[other_pauli_idx][j].astype(float))\n",
    "        y.append([0.0, 1.0])\n",
    "    \n",
    "x1 = np.stack(x1)\n",
    "x2 = np.stack(x2)\n",
    "y = np.stack(y)\n",
    "\n",
    "history = conjoined_net.fit(\n",
    "    x=[x1, x2],\n",
    "    y=y,\n",
    "    epochs=500,\n",
    "    batch_size=(2*n_paulis),\n",
    "    verbose=0)\n"
   ]
  },
  {
   "cell_type": "markdown",
   "metadata": {},
   "source": [
    "Plot the results."
   ]
  },
  {
   "cell_type": "code",
   "execution_count": 8,
   "metadata": {},
   "outputs": [
    {
     "data": {
      "image/png": "[encoded data removed]",
      "text/plain": [
       "<Figure size 432x288 with 1 Axes>"
      ]
     },
     "metadata": {
      "needs_background": "light"
     },
     "output_type": "display_data"
    },
    {
     "data": {
      "image/png": "[encoded data removed]",
      "text/plain": [
       "<Figure size 432x288 with 1 Axes>"
      ]
     },
     "metadata": {
      "needs_background": "light"
     },
     "output_type": "display_data"
    }
   ],
   "source": [
    "plt.plot(history.history['accuracy'], 'b')\n",
    "plt.ylabel('accuracy')\n",
    "plt.show()\n",
    "\n",
    "plt.plot(history.history['loss'], 'r')\n",
    "plt.ylabel('loss')\n",
    "plt.show()"
   ]
  }
 ],
 "metadata": {
  "colab": {
   "collapsed_sections": [],
   "name": "quantum_advantage_in_learning_from_experiments.ipynb",
   "private_outputs": true,
   "provenance": [],
   "toc_visible": true
  },
  "kernelspec": {
   "display_name": "Python 3",
   "language": "python",
   "name": "python3"
  },
  "language_info": {
   "codemirror_mode": {
    "name": "ipython",
    "version": 3
   },
   "file_extension": ".py",
   "mimetype": "text/x-python",
   "name": "python",
   "nbconvert_exporter": "python",
   "pygments_lexer": "ipython3",
   "version": "3.8.10"
  }
 },
 "nbformat": 4,
 "nbformat_minor": 1
}
