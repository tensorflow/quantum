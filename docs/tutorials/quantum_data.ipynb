{
 "cells": [
  {
   "cell_type": "markdown",
   "metadata": {
    "id": "xLOXFOT5Q40E"
   },
   "source": [
    "##### Copyright 2020 The TensorFlow Authors."
   ]
  },
  {
   "cell_type": "code",
   "execution_count": null,
   "metadata": {
    "cellView": "form",
    "id": "iiQkM5ZgQ8r2"
   },
   "outputs": [],
   "source": [
    "#@title Licensed under the Apache License, Version 2.0 (the \"License\");\n",
    "# you may not use this file except in compliance with the License.\n",
    "# You may obtain a copy of the License at\n",
    "#\n",
    "# https://www.apache.org/licenses/LICENSE-2.0\n",
    "#\n",
    "# Unless required by applicable law or agreed to in writing, software\n",
    "# distributed under the License is distributed on an \"AS IS\" BASIS,\n",
    "# WITHOUT WARRANTIES OR CONDITIONS OF ANY KIND, either express or implied.\n",
    "# See the License for the specific language governing permissions and\n",
    "# limitations under the License."
   ]
  },
  {
   "cell_type": "markdown",
   "metadata": {
    "id": "j6331ZSsQGY3"
   },
   "source": [
    "# Quantum data"
   ]
  },
  {
   "cell_type": "markdown",
   "metadata": {
    "id": "i9Jcnb8bQQyd"
   },
   "source": [
    "<table class=\"tfo-notebook-buttons\" align=\"left\">\n",
    "  <td>\n",
    "    <a target=\"_blank\" href=\"https://www.tensorflow.org/quantum/tutorials/quantum_data\"><img src=\"https://www.tensorflow.org/images/tf_logo_32px.png\" />View on TensorFlow.org</a>\n",
    "  </td>\n",
    "  <td>\n",
    "    <a target=\"_blank\" href=\"https://colab.research.google.com/github/tensorflow/quantum/blob/master/docs/tutorials/quantum_data.ipynb\"><img src=\"https://www.tensorflow.org/images/colab_logo_32px.png\" />Run in Google Colab</a>\n",
    "  </td>\n",
    "  <td>\n",
    "    <a target=\"_blank\" href=\"https://github.com/tensorflow/quantum/blob/master/docs/tutorials/quantum_data.ipynb\"><img src=\"https://www.tensorflow.org/images/GitHub-Mark-32px.png\" />View source on GitHub</a>\n",
    "  </td>\n",
    "  <td>\n",
    "    <a href=\"https://storage.googleapis.com/tensorflow_docs/quantum/docs/tutorials/quantum_data.ipynb\"><img src=\"https://www.tensorflow.org/images/download_logo_32px.png\" />Download notebook</a>\n",
    "  </td>\n",
    "</table>"
   ]
  },
  {
   "cell_type": "markdown",
   "metadata": {
    "id": "B2HoEn9BEWfn"
   },
   "source": [
    "Building off of the comparisons made in the [MNIST](https://www.tensorflow.org/quantum/tutorials/mnist) tutorial, this tutorial explores the recent work of [Huang et al.](https://arxiv.org/abs/2011.01938) that shows how different datasets affect performance comparisons. In the work, the authors seek to understand how and when classical machine learning models can learn as well as (or better than) quantum models. The work also showcases an empirical performance separation between classical and quantum machine learning model via a carefully crafted dataset. You will:\n",
    "\n",
    "1.   Prepare a reduced dimension Fashion-MNIST dataset.\n",
    "2.   Use quantum circuits to re-label the dataset and compute Projected Quantum Kernel features (PQK).\n",
    "3.   Train a classical neural network on the re-labeled dataset and compare the performance with a model that has access to the PQK features."
   ]
  },
  {
   "cell_type": "markdown",
   "metadata": {
    "id": "aQvswYv7LAaU"
   },
   "source": [
    "## Setup"
   ]
  },
  {
   "cell_type": "code",
   "execution_count": null,
   "metadata": {
    "colab": {
     "base_uri": "https://localhost:8080/"
    },
    "id": "X3Y5vLL9K_Ai",
    "outputId": "ee9c47bc-35f4-4751-c200-283fe5da9768"
   },
   "outputs": [],
   "source": [
    "!pip install tensorflow==2.15.0 tensorflow-quantum==0.7.3"
   ]
  },
  {
   "cell_type": "code",
   "execution_count": null,
   "metadata": {
    "colab": {
     "base_uri": "https://localhost:8080/"
    },
    "id": "4Ql5PW-ACO0J",
    "outputId": "b39b3458-34fb-4334-dfd7-3c7981b3c5a0"
   },
   "outputs": [],
   "source": [
    "# Update package resources to account for version changes.\n",
    "import importlib, pkg_resources\n",
    "importlib.reload(pkg_resources)"
   ]
  },
  {
   "cell_type": "code",
   "execution_count": null,
   "metadata": {
    "id": "FTKfetslL5eE"
   },
   "outputs": [],
   "source": [
    "import cirq\n",
    "import sympy\n",
    "import numpy as np\n",
    "import tensorflow as tf\n",
    "import tensorflow_quantum as tfq\n",
    "\n",
    "# visualization tools\n",
    "%matplotlib inline\n",
    "import matplotlib.pyplot as plt\n",
    "from cirq.contrib.svg import SVGCircuit\n",
    "np.random.seed(1234)"
   ]
  },
  {
   "cell_type": "markdown",
   "metadata": {
    "id": "jCOHgdILONs-"
   },
   "source": [
    "## 1. Data preparation\n",
    "\n",
    "You will begin by preparing the fashion-MNIST dataset for running on a quantum computer."
   ]
  },
  {
   "cell_type": "markdown",
   "metadata": {
    "id": "GDl61cN6WPDk"
   },
   "source": [
    "### 1.1 Download fashion-MNIST\n",
    "\n",
    "The first step is to get the traditional fashion-mnist dataset. This can be done using the `tf.keras.datasets` module."
   ]
  },
  {
   "cell_type": "code",
   "execution_count": null,
   "metadata": {
    "colab": {
     "base_uri": "https://localhost:8080/"
    },
    "id": "VTKmzeH3MBvR",
    "outputId": "a08a8f64-7642-4773-bc05-2fa4eaea0b3a"
   },
   "outputs": [
    {
     "name": "stdout",
     "output_type": "stream",
     "text": [
      "Number of original training examples: 60000\n",
      "Number of original test examples: 10000\n"
     ]
    }
   ],
   "source": [
    "(x_train, y_train), (x_test, y_test) = tf.keras.datasets.fashion_mnist.load_data()\n",
    "\n",
    "# Rescale the images from [0,255] to the [0.0,1.0] range.\n",
    "x_train, x_test = x_train/255.0, x_test/255.0\n",
    "\n",
    "print(\"Number of original training examples:\", len(x_train))\n",
    "print(\"Number of original test examples:\", len(x_test))"
   ]
  },
  {
   "cell_type": "markdown",
   "metadata": {
    "id": "jq3eeFv2PyQz"
   },
   "source": [
    "Filter the dataset to keep just the T-shirts/tops and dresses, remove the other classes. At the same time convert the label, `y`, to boolean: True for 0 and False for 3."
   ]
  },
  {
   "cell_type": "code",
   "execution_count": null,
   "metadata": {
    "id": "LmprnNbDP4Z6"
   },
   "outputs": [],
   "source": [
    "def filter_03(x, y):\n",
    "    keep = (y == 0) | (y == 3)\n",
    "    x, y = x[keep], y[keep]\n",
    "    y = y == 0\n",
    "    return x,y"
   ]
  },
  {
   "cell_type": "code",
   "execution_count": null,
   "metadata": {
    "colab": {
     "base_uri": "https://localhost:8080/"
    },
    "id": "KycvXPllQH-t",
    "outputId": "86271e72-784c-4a48-ea92-95409363fe99"
   },
   "outputs": [
    {
     "name": "stdout",
     "output_type": "stream",
     "text": [
      "Number of filtered training examples: 12000\n",
      "Number of filtered test examples: 2000\n"
     ]
    }
   ],
   "source": [
    "x_train, y_train = filter_03(x_train, y_train)\n",
    "x_test, y_test = filter_03(x_test, y_test)\n",
    "\n",
    "print(\"Number of filtered training examples:\", len(x_train))\n",
    "print(\"Number of filtered test examples:\", len(x_test))"
   ]
  },
  {
   "cell_type": "code",
   "execution_count": null,
   "metadata": {
    "colab": {
     "base_uri": "https://localhost:8080/",
     "height": 470
    },
    "id": "c-2Fx9E1O63h",
    "outputId": "c90802e2-7c89-4011-82a3-06f81556a545"
   },
   "outputs": [
    {
     "name": "stdout",
     "output_type": "stream",
     "text": [
      "True\n"
     ]
    },
    {
     "data": {
      "text/plain": [
       "<matplotlib.colorbar.Colorbar at 0x787cc7261f90>"
      ]
     },
     "execution_count": 67,
     "metadata": {},
     "output_type": "execute_result"
    },
    {
     "data": {
      "image/png": "[encoded data removed]",
      "text/plain": [
       "<Figure size 640x480 with 2 Axes>"
      ]
     },
     "metadata": {},
     "output_type": "display_data"
    }
   ],
   "source": [
    "print(y_train[0])\n",
    "\n",
    "plt.imshow(x_train[0, :, :])\n",
    "plt.colorbar()"
   ]
  },
  {
   "cell_type": "markdown",
   "metadata": {
    "id": "4ASbMvu6SFST"
   },
   "source": [
    "### 1.2 Downscale the images\n",
    "\n",
    "Just like the MNIST example, you will need to downscale these images in order to be within the boundaries for current quantum computers. This time however you will use a PCA transformation to reduce the dimensions instead of a `tf.image.resize` operation."
   ]
  },
  {
   "cell_type": "code",
   "execution_count": null,
   "metadata": {
    "id": "0_EvK2kJPKDk"
   },
   "outputs": [],
   "source": [
    "def truncate_x(x_train, x_test, n_components=10):\n",
    "  \"\"\"Perform PCA on image dataset keeping the top `n_components` components.\"\"\"\n",
    "  n_points_train = tf.gather(tf.shape(x_train), 0)\n",
    "  n_points_test = tf.gather(tf.shape(x_test), 0)\n",
    "\n",
    "  # Flatten to 1D\n",
    "  x_train = tf.reshape(x_train, [n_points_train, -1])\n",
    "  x_test = tf.reshape(x_test, [n_points_test, -1])\n",
    "\n",
    "  # Normalize.\n",
    "  feature_mean = tf.reduce_mean(x_train, axis=0)\n",
    "  x_train_normalized = x_train - feature_mean\n",
    "  x_test_normalized = x_test - feature_mean\n",
    "\n",
    "  # Truncate.\n",
    "  e_values, e_vectors = tf.linalg.eigh(\n",
    "      tf.einsum('ji,jk->ik', x_train_normalized, x_train_normalized))\n",
    "  return tf.einsum('ij,jk->ik', x_train_normalized, e_vectors[:,-n_components:]), \\\n",
    "    tf.einsum('ij,jk->ik', x_test_normalized, e_vectors[:, -n_components:])"
   ]
  },
  {
   "cell_type": "code",
   "execution_count": null,
   "metadata": {
    "colab": {
     "base_uri": "https://localhost:8080/"
    },
    "id": "0WhtP5RRkYSI",
    "outputId": "252f57c2-9c4b-4d90-e34a-b16e0917f079"
   },
   "outputs": [
    {
     "name": "stdout",
     "output_type": "stream",
     "text": [
      "New datapoint dimension: 10\n"
     ]
    }
   ],
   "source": [
    "DATASET_DIM = 10\n",
    "x_train, x_test = truncate_x(x_train, x_test, n_components=DATASET_DIM)\n",
    "print(f'New datapoint dimension:', len(x_train[0]))"
   ]
  },
  {
   "cell_type": "markdown",
   "metadata": {
    "id": "RXAEeE50FS9G"
   },
   "source": [
    "The last step is to reduce the size of the dataset to just 1000 training datapoints and 200 testing datapoints."
   ]
  },
  {
   "cell_type": "code",
   "execution_count": null,
   "metadata": {
    "id": "EMxlW2kZDtvn"
   },
   "outputs": [],
   "source": [
    "N_TRAIN = 1000\n",
    "N_TEST = 200\n",
    "x_train, x_test = x_train[:N_TRAIN], x_test[:N_TEST]\n",
    "y_train, y_test = y_train[:N_TRAIN], y_test[:N_TEST]"
   ]
  },
  {
   "cell_type": "code",
   "execution_count": null,
   "metadata": {
    "colab": {
     "base_uri": "https://localhost:8080/"
    },
    "id": "P7vqUjDMGF2S",
    "outputId": "0a87104c-8b4f-49b7-f9c9-05121b18ea4b"
   },
   "outputs": [
    {
     "name": "stdout",
     "output_type": "stream",
     "text": [
      "New number of training examples: 1000\n",
      "New number of test examples: 200\n"
     ]
    }
   ],
   "source": [
    "print(\"New number of training examples:\", len(x_train))\n",
    "print(\"New number of test examples:\", len(x_test))"
   ]
  },
  {
   "cell_type": "markdown",
   "metadata": {
    "id": "-26obVJtHQne"
   },
   "source": [
    "## 2. Relabeling and computing PQK features\n",
    "\n",
    "You will now prepare a \"stilted\" quantum dataset by incorporating quantum components and re-labeling the truncated fashion-MNIST dataset you've created above. In order to get the most seperation between quantum and classical methods, you will first prepare the PQK features and then relabel outputs based on their values."
   ]
  },
  {
   "cell_type": "markdown",
   "metadata": {
    "id": "SJEK8CwKWgC2"
   },
   "source": [
    "### 2.1 Quantum encoding and PQK features\n",
    "You will create a new set of features, based on `x_train`, `y_train`, `x_test` and `y_test` that is defined to be the 1-RDM on all qubits of:\n",
    "\n",
    "$V(x_{\\text{train}} / n_{\\text{trotter}}) ^ {n_{\\text{trotter}}} U_{\\text{1qb}} | 0 \\rangle$\n",
    "\n",
    "Where $U_\\text{1qb}$ is a wall of single qubit rotations and $V(\\hat{\\theta}) = e^{-i\\sum_i \\hat{\\theta_i} (X_i X_{i+1} + Y_i Y_{i+1} + Z_i Z_{i+1})}$\n",
    "\n",
    "First, you can generate the wall of single qubit rotations:"
   ]
  },
  {
   "cell_type": "code",
   "execution_count": null,
   "metadata": {
    "id": "hVTlHdGvEuaT"
   },
   "outputs": [],
   "source": [
    "def single_qubit_wall(qubits, rotations):\n",
    "  \"\"\"Prepare a single qubit X,Y,Z rotation wall on `qubits`.\"\"\"\n",
    "  wall_circuit = cirq.Circuit()\n",
    "  for i, qubit in enumerate(qubits):\n",
    "    for j, gate in enumerate([cirq.X, cirq.Y, cirq.Z]):\n",
    "      wall_circuit.append(gate(qubit) ** rotations[i][j])\n",
    "\n",
    "  return wall_circuit"
   ]
  },
  {
   "cell_type": "markdown",
   "metadata": {
    "id": "bCfFcs-nGFH5"
   },
   "source": [
    "You can quickly verify this works by looking at the circuit:"
   ]
  },
  {
   "cell_type": "code",
   "execution_count": null,
   "metadata": {
    "colab": {
     "base_uri": "https://localhost:8080/",
     "height": 499
    },
    "id": "tfJkWj88Fqwl",
    "outputId": "4180a8c3-3071-4993-a44b-0ae3ca7e994c"
   },
   "outputs": [],
   "source": [
    "SVGCircuit(single_qubit_wall(\n",
    "    cirq.GridQubit.rect(1,4), np.random.uniform(size=(4, 3))))"
   ]
  },
  {
   "cell_type": "markdown",
   "metadata": {
    "id": "gPniCQWnHGXz"
   },
   "source": [
    "Next you can prepare $V(\\hat{\\theta})$ with the help of `tfq.util.exponential` which can exponentiate any commuting `cirq.PauliSum` objects:"
   ]
  },
  {
   "cell_type": "code",
   "execution_count": null,
   "metadata": {
    "id": "4w2em6c0HOIO"
   },
   "outputs": [],
   "source": [
    "def v_theta(qubits):\n",
    "  \"\"\"Prepares a circuit that generates V(\\theta).\"\"\"\n",
    "  ref_paulis = [\n",
    "      cirq.X(q0) * cirq.X(q1) + \\\n",
    "      cirq.Y(q0) * cirq.Y(q1) + \\\n",
    "      cirq.Z(q0) * cirq.Z(q1) for q0, q1 in zip(qubits, qubits[1:])\n",
    "  ]\n",
    "  exp_symbols = list(sympy.symbols('ref_0:'+str(len(ref_paulis))))\n",
    "  return tfq.util.exponential(ref_paulis, exp_symbols), exp_symbols"
   ]
  },
  {
   "cell_type": "markdown",
   "metadata": {
    "id": "bo6ArnnqIkTL"
   },
   "source": [
    "This circuit might be a little bit harder to verify by looking at, but you can still examine a two qubit case to see what is happening:"
   ]
  },
  {
   "cell_type": "code",
   "execution_count": null,
   "metadata": {
    "colab": {
     "base_uri": "https://localhost:8080/",
     "height": 573
    },
    "id": "r7YIeOrzJDlT",
    "outputId": "f621fafe-91e6-443c-8b9b-26e7a1190b34"
   },
   "outputs": [],
   "source": [
    "test_circuit, test_symbols = v_theta(cirq.GridQubit.rect(1, 2))\n",
    "print(f'Symbols found in circuit:{test_symbols}')\n",
    "SVGCircuit(test_circuit)"
   ]
  },
  {
   "cell_type": "markdown",
   "metadata": {
    "id": "SN8oWtEXJXj-"
   },
   "source": [
    "Now you have all the building blocks you need to put your full encoding circuits together:"
   ]
  },
  {
   "cell_type": "code",
   "execution_count": null,
   "metadata": {
    "id": "LReAUF6CSwn5"
   },
   "outputs": [],
   "source": [
    "def prepare_pqk_circuits(qubits, classical_source, n_trotter=10):\n",
    "  \"\"\"Prepare the pqk feature circuits around a dataset.\"\"\"\n",
    "  n_qubits = len(qubits)\n",
    "  n_points = len(classical_source)\n",
    "\n",
    "  # Prepare random single qubit rotation wall.\n",
    "  random_rots = np.random.uniform(-2, 2, size=(n_qubits, 3))\n",
    "  initial_U = single_qubit_wall(qubits, random_rots)\n",
    "\n",
    "  # Prepare parametrized V\n",
    "  V_circuit, symbols = v_theta(qubits)\n",
    "  exp_circuit = cirq.Circuit(V_circuit for t in range(n_trotter))\n",
    "\n",
    "  # Convert to `tf.Tensor`\n",
    "  initial_U_tensor = tfq.convert_to_tensor([initial_U])\n",
    "  initial_U_splat = tf.tile(initial_U_tensor, [n_points])\n",
    "\n",
    "  full_circuits = tfq.layers.AddCircuit()(\n",
    "      initial_U_splat, append=exp_circuit)\n",
    "  # Replace placeholders in circuits with values from `classical_source`.\n",
    "  return tfq.resolve_parameters(\n",
    "      full_circuits, tf.convert_to_tensor([str(x) for x in symbols]),\n",
    "      tf.convert_to_tensor(classical_source*(n_qubits/3)/n_trotter))"
   ]
  },
  {
   "cell_type": "markdown",
   "metadata": {
    "id": "yNliqKFdYacD"
   },
   "source": [
    "Choose some qubits and prepare the data encoding circuits:"
   ]
  },
  {
   "cell_type": "code",
   "execution_count": null,
   "metadata": {
    "id": "5F47SaRERKx_"
   },
   "outputs": [],
   "source": [
    "qubits = cirq.GridQubit.rect(1, DATASET_DIM + 1)\n",
    "q_x_train_circuits = prepare_pqk_circuits(qubits, x_train)\n",
    "q_x_test_circuits = prepare_pqk_circuits(qubits, x_test)"
   ]
  },
  {
   "cell_type": "markdown",
   "metadata": {
    "id": "DD1ojMb5PbOG"
   },
   "source": [
    "Next, compute the PQK features based on the 1-RDM of the dataset circuits above and store the results in `rdm`, a `tf.Tensor` with shape `[n_points, n_qubits, 3]`. The entries in `rdm[i][j][k]` = $\\langle \\psi_i | OP^k_j | \\psi_i \\rangle$ where `i` indexes over datapoints, `j` indexes over qubits and `k` indexes over $\\lbrace \\hat{X}, \\hat{Y}, \\hat{Z} \\rbrace$ ."
   ]
  },
  {
   "cell_type": "code",
   "execution_count": null,
   "metadata": {
    "id": "cEGko5t-SZ14"
   },
   "outputs": [],
   "source": [
    "def get_pqk_features(qubits, data_batch):\n",
    "  \"\"\"Get PQK features based on above construction.\"\"\"\n",
    "  ops = [[cirq.X(q), cirq.Y(q), cirq.Z(q)] for q in qubits]\n",
    "  ops_tensor = tf.expand_dims(tf.reshape(tfq.convert_to_tensor(ops), -1), 0)\n",
    "  batch_dim = tf.gather(tf.shape(data_batch), 0)\n",
    "  ops_splat = tf.tile(ops_tensor, [batch_dim, 1])\n",
    "  exp_vals = tfq.layers.Expectation()(data_batch, operators=ops_splat)\n",
    "  rdm = tf.reshape(exp_vals, [batch_dim, len(qubits), -1])\n",
    "  return rdm"
   ]
  },
  {
   "cell_type": "code",
   "execution_count": null,
   "metadata": {
    "colab": {
     "base_uri": "https://localhost:8080/"
    },
    "id": "xZOEdNMzS8hW",
    "outputId": "4be54ac7-e999-4ba3-9be9-3823cb054590"
   },
   "outputs": [
    {
     "name": "stderr",
     "output_type": "stream",
     "text": [
      "/usr/local/lib/python3.10/dist-packages/keras/src/initializers/initializers.py:120: UserWarning: The initializer RandomUniform is unseeded and being called multiple times, which will return identical values each time (even if the initializer is unseeded). Please update your code to provide a seed to the initializer, or avoid using the same initializer instance more than once.\n",
      "  warnings.warn(\n"
     ]
    },
    {
     "name": "stdout",
     "output_type": "stream",
     "text": [
      "New PQK training dataset has shape: (1000, 11, 3)\n",
      "New PQK testing dataset has shape: (200, 11, 3)\n"
     ]
    }
   ],
   "source": [
    "x_train_pqk = get_pqk_features(qubits, q_x_train_circuits)\n",
    "x_test_pqk = get_pqk_features(qubits, q_x_test_circuits)\n",
    "print('New PQK training dataset has shape:', x_train_pqk.shape)\n",
    "print('New PQK testing dataset has shape:', x_test_pqk.shape)"
   ]
  },
  {
   "cell_type": "markdown",
   "metadata": {
    "id": "A9tNBzIxT__6"
   },
   "source": [
    "### 2.2 Re-labeling based on PQK features\n",
    "Now that you have these quantum generated features in `x_train_pqk` and `x_test_pqk`, it is time to re-label the dataset. To achieve maximum seperation between quantum and classical performance you can re-label the dataset based on the spectrum information found in `x_train_pqk` and `x_test_pqk`."
   ]
  },
  {
   "cell_type": "markdown",
   "metadata": {
    "id": "FFSRWagZMTTn"
   },
   "source": [
    "Note: This preparation of your dataset to explicitly maximize the seperation in performance between the classical and quantum models might feel like cheating, but it provides a **very** important proof of existance for datasets that are hard for classical computers and easy for quantum computers to model. There would be no point in searching for quantum advantage in QML if you couldn't first create something like this to demonstrate advantage."
   ]
  },
  {
   "cell_type": "code",
   "execution_count": null,
   "metadata": {
    "id": "BLyGksxvGINl"
   },
   "outputs": [],
   "source": [
    "def compute_kernel_matrix(vecs, gamma):\n",
    "  \"\"\"Computes d[i][j] = e^ -gamma * (vecs[i] - vecs[j]) ** 2 \"\"\"\n",
    "  scaled_gamma = gamma / (\n",
    "      tf.cast(tf.gather(tf.shape(vecs), 1), tf.float32) * tf.math.reduce_std(vecs))\n",
    "  return scaled_gamma * tf.einsum('ijk->ij',(vecs[:,None,:] - vecs) ** 2)\n",
    "\n",
    "def get_spectrum(datapoints, gamma=1.0):\n",
    "  \"\"\"Compute the eigenvalues and eigenvectors of the kernel of datapoints.\"\"\"\n",
    "  KC_qs = compute_kernel_matrix(datapoints, gamma)\n",
    "  S, V = tf.linalg.eigh(KC_qs)\n",
    "  S = tf.math.abs(S)\n",
    "  return S, V"
   ]
  },
  {
   "cell_type": "code",
   "execution_count": null,
   "metadata": {
    "colab": {
     "base_uri": "https://localhost:8080/"
    },
    "id": "a4AxcKa4RRJr",
    "outputId": "a9f4af24-0506-4058-da23-02f4b79c3f5b"
   },
   "outputs": [
    {
     "name": "stdout",
     "output_type": "stream",
     "text": [
      "Eigenvectors of pqk kernel matrix: tf.Tensor(\n",
      "[[-0.02572668 -0.02500617 -0.00210256 ...  0.01292474 -0.00216366\n",
      "   0.03198409]\n",
      " [-0.04505223 -0.00725259 -0.01396801 ... -0.00145716 -0.7412964\n",
      "   0.03257377]\n",
      " [ 0.00566714  0.02528062 -0.00147861 ... -0.03087673 -0.00935522\n",
      "   0.03051045]\n",
      " ...\n",
      " [-0.00952418 -0.01820112 -0.0299136  ... -0.00394092 -0.01149889\n",
      "   0.0245917 ]\n",
      " [ 0.03070638 -0.03498115 -0.02656119 ...  0.0215356   0.01124762\n",
      "   0.02580499]\n",
      " [ 0.00698054  0.02246808 -0.00997438 ... -0.01162745 -0.0414562\n",
      "   0.0266857 ]], shape=(1000, 1000), dtype=float32)\n",
      "Eigenvectors of original kernel matrix: tf.Tensor(\n",
      "[[ 4.2462684e-02  3.1354256e-02  1.2604258e-02 ... -2.0111818e-02\n",
      "   3.0930713e-04  3.5385568e-02]\n",
      " [-4.3868035e-02  1.0300528e-02  1.4831377e-02 ...  5.4228324e-03\n",
      "   6.7345721e-01  3.1489469e-02]\n",
      " [-1.8083273e-02  1.5215975e-02  3.9878976e-02 ... -3.9398521e-03\n",
      "  -5.4628002e-03  2.4036596e-02]\n",
      " ...\n",
      " [ 6.6030736e-04 -3.2971684e-02  3.1675640e-02 ...  3.9464641e-02\n",
      "  -1.8377423e-02  2.3110418e-02]\n",
      " [ 2.9626949e-04 -3.9277028e-02  1.2305132e-02 ...  2.4492849e-02\n",
      "   3.2030831e-03  2.4250248e-02]\n",
      " [-1.9339835e-02 -3.1469479e-02  2.1497982e-02 ...  4.3812353e-02\n",
      "   4.8911185e-03  2.4445757e-02]], shape=(1000, 1000), dtype=float32)\n"
     ]
    }
   ],
   "source": [
    "S_pqk, V_pqk = get_spectrum(\n",
    "    tf.reshape(x_train_pqk, [-1, len(qubits) * 3]))\n",
    "\n",
    "S_original, V_original = get_spectrum(\n",
    "    tf.cast(x_train, tf.float32), gamma=0.005)\n",
    "\n",
    "print('Eigenvectors of pqk kernel matrix:', V_pqk)\n",
    "print('Eigenvectors of original kernel matrix:', V_original)"
   ]
  },
  {
   "cell_type": "code",
   "execution_count": null,
   "metadata": {
    "colab": {
     "base_uri": "https://localhost:8080/"
    },
    "id": "EFiv3KcmK9Ma",
    "outputId": "03cb3dbb-4e87-48ed-fd09-bc273529cf40"
   },
   "outputs": [
    {
     "name": "stdout",
     "output_type": "stream",
     "text": [
      "Eigenvectors of pqk kernel matrix for test: tf.Tensor(\n",
      "[[ 0.02638157  0.02806157  0.03566442 ...  0.04386202 -0.0405141\n",
      "   0.0662972 ]\n",
      " [ 0.05066229  0.01891651  0.06229709 ...  0.00191754  0.6073843\n",
      "   0.07107678]\n",
      " [-0.00779327 -0.09399084 -0.06509633 ...  0.06940294 -0.00730488\n",
      "   0.0816892 ]\n",
      " ...\n",
      " [ 0.02878537 -0.06277579 -0.0869303  ...  0.06611525  0.04124057\n",
      "   0.08266883]\n",
      " [-0.08475214  0.01517385 -0.0412915  ... -0.04286676  0.00467837\n",
      "   0.07634711]\n",
      " [ 0.03031691 -0.04953269  0.09389514 ... -0.00080099  0.04431828\n",
      "   0.06373685]], shape=(200, 200), dtype=float32)\n",
      "Eigenvectors of original kernel matrix for test: tf.Tensor(\n",
      "[[-0.06053653 -0.10981707 -0.06392459 ...  0.09634899 -0.0199185\n",
      "   0.0762083 ]\n",
      " [ 0.08907834  0.03093441  0.05701356 ... -0.02077192  0.67301965\n",
      "   0.06606765]\n",
      " [ 0.07030783 -0.0973983   0.03607463 ...  0.01863695 -0.01661182\n",
      "   0.07912693]\n",
      " ...\n",
      " [-0.07468248 -0.04320016  0.03100761 ...  0.01004651 -0.03957008\n",
      "   0.05961308]\n",
      " [ 0.00730421 -0.12527922  0.01711777 ... -0.02228218  0.03887707\n",
      "   0.06976941]\n",
      " [-0.04144859 -0.02311671  0.09413407 ... -0.03321036  0.04489374\n",
      "   0.04668954]], shape=(200, 200), dtype=float32)\n"
     ]
    }
   ],
   "source": [
    "S_pqk_test, V_pqk_test = get_spectrum(\n",
    "    tf.reshape(x_test_pqk, [-1, len(qubits) * 3]))\n",
    "\n",
    "S_test_original, V_test_original = get_spectrum(\n",
    "    tf.cast(x_test, tf.float32), gamma=0.005)\n",
    "\n",
    "print('Eigenvectors of pqk kernel matrix for test:', V_pqk_test)\n",
    "print('Eigenvectors of original kernel matrix for test:', V_test_original)"
   ]
  },
  {
   "cell_type": "markdown",
   "metadata": {
    "id": "M1oULyGmcWC9"
   },
   "source": [
    "Now you have everything you need to re-label the dataset! Now you can consult with the flowchart to better understand how to maximize performance seperation when re-labeling the dataset:\n",
    "\n",
    "<img src=\"https://github.com/tensorflow/quantum/blob/master/docs/tutorials/images/quantum_data_1.png?raw=1\">\n",
    "\n",
    "In order to maximize the seperation between quantum and classical models, you will attempt to maximize the geometric difference between the original dataset and the PQK features kernel matrices $g(K_1 || K_2) = \\sqrt{ || \\sqrt{K_2} K_1^{-1} \\sqrt{K_2} || _\\infty}$ using `S_pqk, V_pqk` and `S_original, V_original`. A large value of $g$ ensures that you initially move to the right in the flowchart down towards a prediction advantage in the quantum case."
   ]
  },
  {
   "cell_type": "markdown",
   "metadata": {
    "id": "cjhhgD2zCxpV"
   },
   "source": [
    "Note: Computing quantities for $s$ and $d$ are also very useful when looking to better understand performance seperations. In this case ensuring a large $g$ value is enough to see performance seperation."
   ]
  },
  {
   "cell_type": "code",
   "execution_count": null,
   "metadata": {
    "id": "g-D_939PZoOH"
   },
   "outputs": [],
   "source": [
    "def get_stilted_dataset(S, V, S_2, V_2, lambdav=1.1):\n",
    "  \"\"\"Prepare new labels that maximize geometric distance between kernels.\"\"\"\n",
    "  S_diag = tf.linalg.diag(S ** 0.5)\n",
    "  S_2_diag = tf.linalg.diag(S_2 / (S_2 + lambdav) ** 2)\n",
    "  scaling = S_diag @ tf.transpose(V) @ \\\n",
    "            V_2 @ S_2_diag @ tf.transpose(V_2) @ \\\n",
    "            V @ S_diag\n",
    "\n",
    "  # Generate new lables using the largest eigenvector.\n",
    "  _, vecs = tf.linalg.eig(scaling)\n",
    "  new_labels = tf.math.real(\n",
    "      tf.einsum('ij,j->i', tf.cast(V @ S_diag, tf.complex64), vecs[-1])).numpy()\n",
    "  # Create new labels and add some small amount of noise.\n",
    "  final_y = new_labels > np.median(new_labels)\n",
    "  noisy_y = (final_y ^ (np.random.uniform(size=final_y.shape) > 0.95))\n",
    "  return noisy_y"
   ]
  },
  {
   "cell_type": "code",
   "execution_count": null,
   "metadata": {
    "id": "3IkuiFmZRUby"
   },
   "outputs": [],
   "source": [
    "y_train_new = get_stilted_dataset(S_pqk, V_pqk, S_original, V_original)\n",
    "y_test_new = get_stilted_dataset(S_pqk_test, V_pqk_test, S_test_original, V_test_original)"
   ]
  },
  {
   "cell_type": "markdown",
   "metadata": {
    "id": "5NcCVfLGKsU9"
   },
   "source": [
    "## 3. Comparing models\n",
    "Now that you have prepared your dataset it is time to compare model performance. You will create two small feedforward neural networks and compare performance when they are given access to the PQK features found in `x_train_pqk`."
   ]
  },
  {
   "cell_type": "markdown",
   "metadata": {
    "id": "sqfjpBOZWmar"
   },
   "source": [
    "### 3.1 Create PQK enhanced model\n",
    "Using standard `tf.keras` library features you can now create and a train a model on the `x_train_pqk` and `y_train_new` datapoints:"
   ]
  },
  {
   "cell_type": "code",
   "execution_count": null,
   "metadata": {
    "colab": {
     "base_uri": "https://localhost:8080/"
    },
    "id": "eK94tGyf--q2",
    "outputId": "72ef5081-0a71-4b39-fea8-952e1552e74f"
   },
   "outputs": [
    {
     "name": "stdout",
     "output_type": "stream",
     "text": [
      "Model: \"sequential_3\"\n",
      "_________________________________________________________________\n",
      " Layer (type)                Output Shape              Param #   \n",
      "=================================================================\n",
      " dense_9 (Dense)             (None, 32)                1088      \n",
      "                                                                 \n",
      " dense_10 (Dense)            (None, 16)                528       \n",
      "                                                                 \n",
      " dense_11 (Dense)            (None, 1)                 17        \n",
      "                                                                 \n",
      "=================================================================\n",
      "Total params: 1633 (6.38 KB)\n",
      "Trainable params: 1633 (6.38 KB)\n",
      "Non-trainable params: 0 (0.00 Byte)\n",
      "_________________________________________________________________\n"
     ]
    }
   ],
   "source": [
    "#docs_infra: no_execute\n",
    "def create_pqk_model():\n",
    "    model = tf.keras.Sequential()\n",
    "    model.add(tf.keras.layers.Dense(32, activation='sigmoid', input_shape=[len(qubits) * 3,]))\n",
    "    model.add(tf.keras.layers.Dense(16, activation='sigmoid'))\n",
    "    model.add(tf.keras.layers.Dense(1))\n",
    "    return model\n",
    "\n",
    "pqk_model = create_pqk_model()\n",
    "pqk_model.compile(loss=tf.keras.losses.BinaryCrossentropy(from_logits=True),\n",
    "              optimizer=tf.keras.optimizers.Adam(learning_rate=0.003),\n",
    "              metrics=['accuracy'])\n",
    "\n",
    "pqk_model.summary()"
   ]
  },
  {
   "cell_type": "code",
   "execution_count": null,
   "metadata": {
    "id": "QUL8ygMn_zOB"
   },
   "outputs": [],
   "source": [
    "#docs_infra: no_execute\n",
    "pqk_history = pqk_model.fit(tf.reshape(x_train_pqk, [N_TRAIN, -1]),\n",
    "          y_train_new,\n",
    "          batch_size=32,\n",
    "          epochs=1000,\n",
    "          verbose=0,\n",
    "          validation_data=(tf.reshape(x_test_pqk, [N_TEST, -1]), y_test_new))"
   ]
  },
  {
   "cell_type": "markdown",
   "metadata": {
    "id": "NN4Wqa-iLri9"
   },
   "source": [
    "### 3.2 Create a classical model\n",
    "Similar to the code above you can now also create a classical model that doesn't have access to the PQK features in your stilted dataset. This model can be trained using `x_train` and `y_label_new`."
   ]
  },
  {
   "cell_type": "code",
   "execution_count": null,
   "metadata": {
    "colab": {
     "base_uri": "https://localhost:8080/"
    },
    "id": "uHhUYWVh9kGE",
    "outputId": "26f6e1e6-21c9-42fe-beeb-2059892a4285"
   },
   "outputs": [
    {
     "name": "stdout",
     "output_type": "stream",
     "text": [
      "Model: \"sequential_4\"\n",
      "_________________________________________________________________\n",
      " Layer (type)                Output Shape              Param #   \n",
      "=================================================================\n",
      " dense_12 (Dense)            (None, 32)                352       \n",
      "                                                                 \n",
      " dense_13 (Dense)            (None, 16)                528       \n",
      "                                                                 \n",
      " dense_14 (Dense)            (None, 1)                 17        \n",
      "                                                                 \n",
      "=================================================================\n",
      "Total params: 897 (3.50 KB)\n",
      "Trainable params: 897 (3.50 KB)\n",
      "Non-trainable params: 0 (0.00 Byte)\n",
      "_________________________________________________________________\n"
     ]
    }
   ],
   "source": [
    "#docs_infra: no_execute\n",
    "def create_fair_classical_model():\n",
    "    model = tf.keras.Sequential()\n",
    "    model.add(tf.keras.layers.Dense(32, activation='sigmoid', input_shape=[DATASET_DIM,]))\n",
    "    model.add(tf.keras.layers.Dense(16, activation='sigmoid'))\n",
    "    model.add(tf.keras.layers.Dense(1))\n",
    "    return model\n",
    "\n",
    "model = create_fair_classical_model()\n",
    "model.compile(loss=tf.keras.losses.BinaryCrossentropy(from_logits=True),\n",
    "              optimizer=tf.keras.optimizers.Adam(learning_rate=0.03),\n",
    "              metrics=['accuracy'])\n",
    "\n",
    "model.summary()"
   ]
  },
  {
   "cell_type": "code",
   "execution_count": null,
   "metadata": {
    "id": "8N54jMau-1L5"
   },
   "outputs": [],
   "source": [
    "#docs_infra: no_execute\n",
    "classical_history = model.fit(x_train,\n",
    "          y_train_new,\n",
    "          batch_size=32,\n",
    "          epochs=1000,\n",
    "          verbose=0,\n",
    "          validation_data=(x_test, y_test_new))"
   ]
  },
  {
   "cell_type": "markdown",
   "metadata": {
    "id": "wzhs1_CjL_f8"
   },
   "source": [
    "### 3.3 Compare performance\n",
    "Now that you have trained the two models you can quickly plot the performance gaps in the validation data between the two. Typically both models will achieve > 0.9 accuaracy on the training data. However on the validation data it becomes clear that only the information found in the PQK features is enough to make the model generalize well to unseen instances."
   ]
  },
  {
   "cell_type": "code",
   "execution_count": null,
   "metadata": {
    "colab": {
     "base_uri": "https://localhost:8080/",
     "height": 482
    },
    "id": "t9CDiHTmAEu-",
    "outputId": "5c4724d8-20e5-4cb5-e0c6-72629f53253f"
   },
   "outputs": [
    {
     "data": {
      "text/plain": [
       "<matplotlib.legend.Legend at 0x787ba42ddb70>"
      ]
     },
     "execution_count": 90,
     "metadata": {},
     "output_type": "execute_result"
    },
    {
     "data": {
      "image/png": "[encoded data removed]",
      "text/plain": [
       "<Figure size 1000x500 with 1 Axes>"
      ]
     },
     "metadata": {},
     "output_type": "display_data"
    }
   ],
   "source": [
    "#docs_infra: no_execute\n",
    "plt.figure(figsize=(10,5))\n",
    "plt.plot(classical_history.history['accuracy'], label='accuracy_classical')\n",
    "plt.plot(classical_history.history['val_accuracy'], label='val_accuracy_classical')\n",
    "plt.plot(pqk_history.history['accuracy'], label='accuracy_quantum')\n",
    "plt.plot(pqk_history.history['val_accuracy'], label='val_accuracy_quantum')\n",
    "plt.xlabel('Epoch')\n",
    "plt.ylabel('Accuracy')\n",
    "plt.legend()"
   ]
  },
  {
   "cell_type": "markdown",
   "metadata": {
    "id": "2h9p44uCMzHQ"
   },
   "source": [
    "Success: You have engineered a stilted quantum dataset that can intentionally defeat classical models in a fair (but contrived) setting. Try comparing results using other types of classical models. The next step is to try and see if you can find new and interesting datasets that can defeat classical models without needing to engineer them yourself!"
   ]
  },
  {
   "cell_type": "markdown",
   "metadata": {
    "id": "UbdYo8UICxpX"
   },
   "source": [
    "## 4. Important conclusions\n",
    "\n",
    "There are several important conclusions you can draw from this and the [MNIST](https://www.tensorflow.org/quantum/tutorials/mnist) experiments:\n",
    "\n",
    "1. It's very unlikely that the quantum models of today will beat classical model performance on classical data. Especially on today's classical datasets that can have upwards of a million datapoints.\n",
    "\n",
    "2. Just because the data might come from a hard to classically simulate quantum circuit, doesn't necessarily make the data hard to learn for a classical model.\n",
    "\n",
    "3. Datasets (ultimately quantum in nature) that are easy for quantum models to learn and hard for classical models to learn do exist, regardless of model architecture or training algorithms used."
   ]
  }
 ],
 "metadata": {
  "colab": {
   "provenance": [],
   "toc_visible": true
  },
  "kernelspec": {
   "display_name": "Python 3",
   "name": "python3"
  },
  "language_info": {
   "codemirror_mode": {
    "name": "ipython",
    "version": 3
   },
   "file_extension": ".py",
   "mimetype": "text/x-python",
   "name": "python",
   "nbconvert_exporter": "python",
   "pygments_lexer": "ipython3",
   "version": "3.8.6"
  }
 },
 "nbformat": 4,
 "nbformat_minor": 0
}
