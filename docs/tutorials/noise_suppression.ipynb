{
  "nbformat": 4,
  "nbformat_minor": 0,
  "metadata": {
    "colab": {
      "name": "noise_suppression.ipynb",
      "provenance": [],
      "collapsed_sections": []
    },
    "kernelspec": {
      "name": "python3",
      "display_name": "Python 3"
    },
    "language_info": {
      "name": "python"
    }
  },
  "cells": [
    {
      "cell_type": "markdown",
      "metadata": {
        "id": "f0_gMI4Blbe8"
      },
      "source": [
        "##### Copyright 2021 The TensorFlow Quantum Authors."
      ]
    },
    {
      "cell_type": "code",
      "metadata": {
        "id": "bogCr-sSkXM1"
      },
      "source": [
        "#@title Licensed under the Apache License, Version 2.0 (the \"License\");\n",
        "# you may not use this file except in compliance with the License.\n",
        "# You may obtain a copy of the License at\n",
        "#\n",
        "# https://www.apache.org/licenses/LICENSE-2.0\n",
        "#\n",
        "# Unless required by applicable law or agreed to in writing, software\n",
        "# distributed under the License is distributed on an \"AS IS\" BASIS,\n",
        "# WITHOUT WARRANTIES OR CONDITIONS OF ANY KIND, either express or implied.\n",
        "# See the License for the specific language governing permissions and\n",
        "# limitations under the License."
      ],
      "execution_count": 1,
      "outputs": []
    },
    {
      "cell_type": "markdown",
      "metadata": {
        "id": "j65ELcA9itDu"
      },
      "source": [
        "# Learning to supress noise with an entangling quantum generative adversarial network (EQ-GAN)\n",
        "\n",
        "Author : Alexander Zlokapa\n",
        "\n",
        "Created : 2021-Jun-23\n",
        "\n",
        "Last updated : 2021-Jun-23"
      ]
    },
    {
      "cell_type": "markdown",
      "metadata": {
        "id": "HW0VUaXkR_8H"
      },
      "source": [
        "In this tutorial, we describe the [EQ-GAN architecture](https://arxiv.org/abs/2105.00080) and demonstrate its ability to mitigate common errors on near-term quantum hardware. Given an unknown state, the quantum neural network aims to learn a variational circuit that reproduces the state in the presence of an unknown noise model. While a perfect swap test is shown to converge to the incorrect state, the EQ-GAN successfully generates a state with lower error."
      ]
    },
    {
      "cell_type": "markdown",
      "metadata": {
        "id": "HMKFQ_xYjc07"
      },
      "source": [
        "## Setup\n",
        "\n",
        "Install TensorFlow and TensorFlow Quantum."
      ]
    },
    {
      "cell_type": "code",
      "metadata": {
        "colab": {
          "base_uri": "https://localhost:8080/"
        },
        "id": "Nnjo2W473QKV",
        "outputId": "d7f4926e-ed52-4fdb-da80-07e8aee02284"
      },
      "source": [
        "!pip install -q tensorflow==2.4.1\n",
        "!pip install -q tensorflow-quantum"
      ],
      "execution_count": null,
      "outputs": [
        {
          "output_type": "stream",
          "text": [
            "\u001b[K     |████████████████████████████████| 394.3MB 36kB/s \n",
            "\u001b[K     |████████████████████████████████| 471kB 39.3MB/s \n",
            "\u001b[K     |████████████████████████████████| 3.8MB 27.5MB/s \n",
            "\u001b[K     |████████████████████████████████| 2.9MB 26.1MB/s \n",
            "\u001b[K     |████████████████████████████████| 7.8MB 3.0MB/s \n",
            "\u001b[K     |████████████████████████████████| 1.3MB 41.2MB/s \n",
            "\u001b[K     |████████████████████████████████| 92kB 7.6MB/s \n",
            "\u001b[K     |████████████████████████████████| 5.6MB 18.9MB/s \n",
            "\u001b[K     |████████████████████████████████| 92kB 9.2MB/s \n",
            "\u001b[K     |████████████████████████████████| 102kB 11.5MB/s \n",
            "\u001b[K     |████████████████████████████████| 1.5MB 41.8MB/s \n",
            "\u001b[K     |████████████████████████████████| 389kB 39.2MB/s \n",
            "\u001b[?25h"
          ],
          "name": "stdout"
        }
      ]
    },
    {
      "cell_type": "markdown",
      "metadata": {
        "id": "aMUbFUv6jiXz"
      },
      "source": [
        "Import TensorFlow, TensorFlowQuantum, and Cirq to perform both machine learning and quantum computing."
      ]
    },
    {
      "cell_type": "code",
      "metadata": {
        "id": "c5CydyvE2jCi"
      },
      "source": [
        "import tensorflow as tf\n",
        "import tensorflow_quantum as tfq\n",
        "\n",
        "import cirq\n",
        "import sympy\n",
        "import numpy as np\n",
        "\n",
        "# visualization tools\n",
        "%matplotlib inline\n",
        "import matplotlib.pyplot as plt\n",
        "from cirq.contrib.svg import SVGCircuit"
      ],
      "execution_count": null,
      "outputs": []
    },
    {
      "cell_type": "markdown",
      "metadata": {
        "id": "obAL1Alf4KYk"
      },
      "source": [
        "## 1. Create the quantum circuits.\n",
        "### 1.1 Define the quantum generator (and the quantum data)\n",
        "\n",
        "We prepare a parameterized quantum circuit $G(\\theta)$ that will serve as both our true data for particular parameters $\\theta = \\theta_0$ and as a generator for arbitrary $\\theta$. For this example, we'll use a circuit that prepares a superposition of $|0\\rangle$ and $|1\\rangle$ states with some rotation between them. It can also be extended to multiple qubits using $CZ$ entangling gates, since Google's quantum hardware uses $CZ$ as a native gate."
      ]
    },
    {
      "cell_type": "code",
      "metadata": {
        "id": "_j_JDkSk4Jrj"
      },
      "source": [
        "def generator_circuit(qubits, rotations):\n",
        "    \"\"\"Make a GHZ-like state with arbitrary phase using CZ gates.\n",
        "    For the purposes of the noise experiment, we don't apply Z phase\n",
        "    corrections, since the point is to match the generator and data\n",
        "    gate parameters to know that there's high state overlap.\n",
        "\n",
        "    Args:\n",
        "        qubits: Python `lst` of `cirq.GridQubit`s\n",
        "        rotations: Python `lst` indicating the X half rotations, Y half\n",
        "            rotations and Z half rotations.\n",
        "    \"\"\"\n",
        "    if len(rotations) != 3:\n",
        "        raise ValueError(\"Number of needed rotations is 3.\")\n",
        "    \n",
        "    u = [cirq.Z(qubits[0])**rotations[0],\n",
        "        cirq.X(qubits[0])**rotations[1],\n",
        "        cirq.Z(qubits[0])**rotations[2]]\n",
        "    for q0, q1 in zip(qubits, qubits[1:]):\n",
        "        u.extend([cirq.Y(q1)**0.5, cirq.X(q1), cirq.CZ(q0, q1),\n",
        "                  cirq.Y(q1)**0.5, cirq.X(q1)])\n",
        "    return cirq.Circuit(u)"
      ],
      "execution_count": null,
      "outputs": []
    },
    {
      "cell_type": "code",
      "metadata": {
        "colab": {
          "base_uri": "https://localhost:8080/",
          "height": 107
        },
        "id": "jYM5TGrmpqvz",
        "outputId": "f6187ed3-bf14-4257-d2f1-2d29262715c6"
      },
      "source": [
        "print('One-qubit example generator:')\n",
        "SVGCircuit(generator_circuit(cirq.GridQubit.rect(1, 1),\n",
        "                  [sympy.Symbol('a'), sympy.Symbol('b'), sympy.Symbol('c')]))"
      ],
      "execution_count": null,
      "outputs": [
        {
          "output_type": "stream",
          "text": [
            "findfont: Font family ['Arial'] not found. Falling back to DejaVu Sans.\n"
          ],
          "name": "stderr"
        },
        {
          "output_type": "stream",
          "text": [
            "One-qubit example generator:\n"
          ],
          "name": "stdout"
        },
        {
          "output_type": "execute_result",
          "data": {
            "text/plain": [
              "<cirq.contrib.svg.svg.SVGCircuit at 0x7f95b4546d90>"
            ],
            "image/svg+xml": "<svg xmlns=\"http://www.w3.org/2000/svg\" width=\"289.51773437500003\" height=\"50.0\"><line x1=\"34.7588671875\" x2=\"259.51773437500003\" y1=\"25.0\" y2=\"25.0\" stroke=\"#1967d2\" stroke-width=\"1\" /><rect x=\"10.0\" y=\"5.0\" width=\"49.517734375\" height=\"40\" stroke=\"black\" fill=\"white\" stroke-width=\"0\" /><text x=\"34.7588671875\" y=\"25.0\" dominant-baseline=\"middle\" text-anchor=\"middle\" font-size=\"14px\" font-family=\"Arial\">(0, 0): </text><rect x=\"79.517734375\" y=\"5.0\" width=\"40\" height=\"40\" stroke=\"black\" fill=\"white\" stroke-width=\"1\" /><text x=\"99.517734375\" y=\"25.0\" dominant-baseline=\"middle\" text-anchor=\"middle\" font-size=\"14px\" font-family=\"Arial\">Z^a</text><rect x=\"139.517734375\" y=\"5.0\" width=\"40\" height=\"40\" stroke=\"black\" fill=\"white\" stroke-width=\"1\" /><text x=\"159.517734375\" y=\"25.0\" dominant-baseline=\"middle\" text-anchor=\"middle\" font-size=\"14px\" font-family=\"Arial\">X^b</text><rect x=\"199.517734375\" y=\"5.0\" width=\"40\" height=\"40\" stroke=\"black\" fill=\"white\" stroke-width=\"1\" /><text x=\"219.517734375\" y=\"25.0\" dominant-baseline=\"middle\" text-anchor=\"middle\" font-size=\"14px\" font-family=\"Arial\">Z^c</text></svg>"
          },
          "metadata": {
            "tags": []
          },
          "execution_count": 4
        }
      ]
    },
    {
      "cell_type": "code",
      "metadata": {
        "colab": {
          "base_uri": "https://localhost:8080/",
          "height": 139
        },
        "id": "0af85yvE_Cfw",
        "outputId": "9f571795-04ef-4952-ca21-699848512681"
      },
      "source": [
        "print('Two-qubit example generator:')\n",
        "SVGCircuit(generator_circuit(cirq.GridQubit.rect(1, 2),\n",
        "                  [sympy.Symbol('a'), sympy.Symbol('b'), sympy.Symbol('c')]))"
      ],
      "execution_count": null,
      "outputs": [
        {
          "output_type": "stream",
          "text": [
            "Two-qubit example generator:\n"
          ],
          "name": "stdout"
        },
        {
          "output_type": "execute_result",
          "data": {
            "text/plain": [
              "<cirq.contrib.svg.svg.SVGCircuit at 0x7f96004b7450>"
            ],
            "image/svg+xml": "<svg xmlns=\"http://www.w3.org/2000/svg\" width=\"492.22328125\" height=\"100.0\"><line x1=\"34.7588671875\" x2=\"462.22328125\" y1=\"25.0\" y2=\"25.0\" stroke=\"#1967d2\" stroke-width=\"1\" /><line x1=\"34.7588671875\" x2=\"462.22328125\" y1=\"75.0\" y2=\"75.0\" stroke=\"#1967d2\" stroke-width=\"1\" /><line x1=\"290.8705078125\" x2=\"290.8705078125\" y1=\"25.0\" y2=\"75.0\" stroke=\"black\" stroke-width=\"3\" /><rect x=\"10.0\" y=\"5.0\" width=\"49.517734375\" height=\"40\" stroke=\"black\" fill=\"white\" stroke-width=\"0\" /><text x=\"34.7588671875\" y=\"25.0\" dominant-baseline=\"middle\" text-anchor=\"middle\" font-size=\"14px\" font-family=\"Arial\">(0, 0): </text><rect x=\"10.0\" y=\"55.0\" width=\"49.517734375\" height=\"40\" stroke=\"black\" fill=\"white\" stroke-width=\"0\" /><text x=\"34.7588671875\" y=\"75.0\" dominant-baseline=\"middle\" text-anchor=\"middle\" font-size=\"14px\" font-family=\"Arial\">(0, 1): </text><rect x=\"79.517734375\" y=\"5.0\" width=\"51.352773437500005\" height=\"40\" stroke=\"black\" fill=\"white\" stroke-width=\"1\" /><text x=\"105.19412109375\" y=\"25.0\" dominant-baseline=\"middle\" text-anchor=\"middle\" font-size=\"14px\" font-family=\"Arial\">Z^a</text><rect x=\"79.517734375\" y=\"55.0\" width=\"51.352773437500005\" height=\"40\" stroke=\"black\" fill=\"white\" stroke-width=\"1\" /><text x=\"105.19412109375\" y=\"75.0\" dominant-baseline=\"middle\" text-anchor=\"middle\" font-size=\"14px\" font-family=\"Arial\">Y^0.5</text><rect x=\"150.87050781250002\" y=\"5.0\" width=\"40\" height=\"40\" stroke=\"black\" fill=\"white\" stroke-width=\"1\" /><text x=\"170.87050781250002\" y=\"25.0\" dominant-baseline=\"middle\" text-anchor=\"middle\" font-size=\"14px\" font-family=\"Arial\">X^b</text><rect x=\"150.87050781250002\" y=\"55.0\" width=\"40\" height=\"40\" stroke=\"black\" fill=\"white\" stroke-width=\"1\" /><text x=\"170.87050781250002\" y=\"75.0\" dominant-baseline=\"middle\" text-anchor=\"middle\" font-size=\"18px\" font-family=\"Arial\">X</text><rect x=\"210.87050781250002\" y=\"5.0\" width=\"40\" height=\"40\" stroke=\"black\" fill=\"white\" stroke-width=\"1\" /><text x=\"230.87050781250002\" y=\"25.0\" dominant-baseline=\"middle\" text-anchor=\"middle\" font-size=\"14px\" font-family=\"Arial\">Z^c</text><circle cx=\"290.8705078125\" cy=\"25.0\" r=\"10.0\" /><circle cx=\"290.8705078125\" cy=\"75.0\" r=\"10.0\" /><rect x=\"330.8705078125\" y=\"55.0\" width=\"51.352773437500005\" height=\"40\" stroke=\"black\" fill=\"white\" stroke-width=\"1\" /><text x=\"356.54689453125\" y=\"75.0\" dominant-baseline=\"middle\" text-anchor=\"middle\" font-size=\"14px\" font-family=\"Arial\">Y^0.5</text><rect x=\"402.22328125\" y=\"55.0\" width=\"40\" height=\"40\" stroke=\"black\" fill=\"white\" stroke-width=\"1\" /><text x=\"422.22328125\" y=\"75.0\" dominant-baseline=\"middle\" text-anchor=\"middle\" font-size=\"18px\" font-family=\"Arial\">X</text></svg>"
          },
          "metadata": {
            "tags": []
          },
          "execution_count": 5
        }
      ]
    },
    {
      "cell_type": "markdown",
      "metadata": {
        "id": "K4R-xl4YqD3S"
      },
      "source": [
        "### 1.2 Define the discriminator circuit\n",
        "\n",
        "For the discriminator circuit, we'll decompose a swap test circuit to use $CZ$ two-qubit gates. Since the predominant source of error on a $CZ$ gate is single-qubit $Z$ phase, we'll include $RZ$ rotations directly after the $CZ$ gate. A successful discriminator would learn how to correct the phase error by applying $RZ$ with an appropriate angle. In the case of \"perfect\" swap test (which is exactly a swap test in the absence of noise), the $RZ$ angles are fixed at zero."
      ]
    },
    {
      "cell_type": "code",
      "metadata": {
        "id": "rglKfMgwppGQ"
      },
      "source": [
        "def discriminator_circuit(qubits_a, qubits_b, rotations):\n",
        "    \"\"\"Make a variational swap test circuit with CZ as the two-qubit gate.\n",
        "\n",
        "    Args:\n",
        "        qubits_a: Python `lst` of `cirq.GridQubit`s indicating subsystem A's\n",
        "            qubits.\n",
        "        qubits_b: Python `lst` of `cirq.GridQubit`s indicating subsystem B's\n",
        "            qubits.\n",
        "        rotations: Python `lst` of shape [n_qubits, 2] containing Z rotation\n",
        "            parameters for the swap test.\n",
        "    \"\"\"\n",
        "    if len(rotations) != len(qubits_a) or any(len(x) != 2 for x in rotations):\n",
        "        raise ValueError(\"rotations must be shape [len(qubits_a), 2]\")\n",
        "\n",
        "    if len(qubits_a) != len(qubits_b):\n",
        "        raise ValueError(\"unequal system sizes.\")\n",
        "    \n",
        "    u = []\n",
        "    for i in range(len(qubits_a)):\n",
        "        q0 = qubits_a[i]\n",
        "        q1 = qubits_b[i]\n",
        "        u.extend([cirq.Y(q1)**0.5, cirq.X(q1), cirq.CZ(q0, q1), cirq.Z(q0)**rotations[i][0], cirq.Z(q1)**rotations[i][1], cirq.Y(q1)**0.5, cirq.X(q1)])\n",
        "    \n",
        "    # expanded Hadamard: H = X Y^(1/2)\n",
        "    for i, q in enumerate(qubits_a):\n",
        "        u.append(cirq.Y(q)**0.5)\n",
        "        u.append(cirq.X(q)**1.0)\n",
        "\n",
        "    return cirq.Circuit(u)"
      ],
      "execution_count": null,
      "outputs": []
    },
    {
      "cell_type": "markdown",
      "metadata": {
        "id": "DYMxwNqtrS7n"
      },
      "source": [
        "Here's how the discriminator circuit looks when comparing two registers with one-qubit data."
      ]
    },
    {
      "cell_type": "code",
      "metadata": {
        "colab": {
          "base_uri": "https://localhost:8080/",
          "height": 120
        },
        "id": "7CW7JBsNq0eG",
        "outputId": "62f38b65-7abf-49d8-e091-ca84b66b169d"
      },
      "source": [
        "SVGCircuit(discriminator_circuit([cirq.GridQubit(0, 0)], [cirq.GridQubit(0, 1)],\n",
        "                  [[sympy.Symbol('a'), sympy.Symbol('b')]]))"
      ],
      "execution_count": null,
      "outputs": [
        {
          "output_type": "execute_result",
          "data": {
            "text/plain": [
              "<cirq.contrib.svg.svg.SVGCircuit at 0x7f95b457eb50>"
            ],
            "image/svg+xml": "<svg xmlns=\"http://www.w3.org/2000/svg\" width=\"492.22328125\" height=\"100.0\"><line x1=\"34.7588671875\" x2=\"462.22328125\" y1=\"25.0\" y2=\"25.0\" stroke=\"#1967d2\" stroke-width=\"1\" /><line x1=\"34.7588671875\" x2=\"462.22328125\" y1=\"75.0\" y2=\"75.0\" stroke=\"#1967d2\" stroke-width=\"1\" /><line x1=\"230.87050781250002\" x2=\"230.87050781250002\" y1=\"25.0\" y2=\"75.0\" stroke=\"black\" stroke-width=\"3\" /><rect x=\"10.0\" y=\"5.0\" width=\"49.517734375\" height=\"40\" stroke=\"black\" fill=\"white\" stroke-width=\"0\" /><text x=\"34.7588671875\" y=\"25.0\" dominant-baseline=\"middle\" text-anchor=\"middle\" font-size=\"14px\" font-family=\"Arial\">(0, 0): </text><rect x=\"10.0\" y=\"55.0\" width=\"49.517734375\" height=\"40\" stroke=\"black\" fill=\"white\" stroke-width=\"0\" /><text x=\"34.7588671875\" y=\"75.0\" dominant-baseline=\"middle\" text-anchor=\"middle\" font-size=\"14px\" font-family=\"Arial\">(0, 1): </text><rect x=\"79.517734375\" y=\"55.0\" width=\"51.352773437500005\" height=\"40\" stroke=\"black\" fill=\"white\" stroke-width=\"1\" /><text x=\"105.19412109375\" y=\"75.0\" dominant-baseline=\"middle\" text-anchor=\"middle\" font-size=\"14px\" font-family=\"Arial\">Y^0.5</text><rect x=\"150.87050781250002\" y=\"55.0\" width=\"40\" height=\"40\" stroke=\"black\" fill=\"white\" stroke-width=\"1\" /><text x=\"170.87050781250002\" y=\"75.0\" dominant-baseline=\"middle\" text-anchor=\"middle\" font-size=\"18px\" font-family=\"Arial\">X</text><circle cx=\"230.87050781250002\" cy=\"25.0\" r=\"10.0\" /><circle cx=\"230.87050781250002\" cy=\"75.0\" r=\"10.0\" /><rect x=\"270.8705078125\" y=\"5.0\" width=\"40\" height=\"40\" stroke=\"black\" fill=\"white\" stroke-width=\"1\" /><text x=\"290.8705078125\" y=\"25.0\" dominant-baseline=\"middle\" text-anchor=\"middle\" font-size=\"14px\" font-family=\"Arial\">Z^a</text><rect x=\"270.8705078125\" y=\"55.0\" width=\"40\" height=\"40\" stroke=\"black\" fill=\"white\" stroke-width=\"1\" /><text x=\"290.8705078125\" y=\"75.0\" dominant-baseline=\"middle\" text-anchor=\"middle\" font-size=\"14px\" font-family=\"Arial\">Z^b</text><rect x=\"330.8705078125\" y=\"55.0\" width=\"51.352773437500005\" height=\"40\" stroke=\"black\" fill=\"white\" stroke-width=\"1\" /><text x=\"356.54689453125\" y=\"75.0\" dominant-baseline=\"middle\" text-anchor=\"middle\" font-size=\"14px\" font-family=\"Arial\">Y^0.5</text><rect x=\"330.8705078125\" y=\"5.0\" width=\"51.352773437500005\" height=\"40\" stroke=\"black\" fill=\"white\" stroke-width=\"1\" /><text x=\"356.54689453125\" y=\"25.0\" dominant-baseline=\"middle\" text-anchor=\"middle\" font-size=\"14px\" font-family=\"Arial\">Y^0.5</text><rect x=\"402.22328125\" y=\"55.0\" width=\"40\" height=\"40\" stroke=\"black\" fill=\"white\" stroke-width=\"1\" /><text x=\"422.22328125\" y=\"75.0\" dominant-baseline=\"middle\" text-anchor=\"middle\" font-size=\"18px\" font-family=\"Arial\">X</text><rect x=\"402.22328125\" y=\"5.0\" width=\"40\" height=\"40\" stroke=\"black\" fill=\"white\" stroke-width=\"1\" /><text x=\"422.22328125\" y=\"25.0\" dominant-baseline=\"middle\" text-anchor=\"middle\" font-size=\"18px\" font-family=\"Arial\">X</text></svg>"
          },
          "metadata": {
            "tags": []
          },
          "execution_count": 7
        }
      ]
    },
    {
      "cell_type": "markdown",
      "metadata": {
        "id": "7mwetFRm0fhq"
      },
      "source": [
        "To perform the ancilla-free swap test, we need some classical post-processing. This readout operation is described in the destructive swap test construction of the appendix."
      ]
    },
    {
      "cell_type": "code",
      "metadata": {
        "id": "4eZcPjNI0ge-"
      },
      "source": [
        "def swap_readout_op(qubits_a, qubits_b):\n",
        "    \"\"\"Readout operation for variational swap test.\n",
        "\n",
        "    Computes the bitwise and of matched qubits from qubits_a and qubits_b.\n",
        "\n",
        "    When the states have perfect overlap the expectation of this op will be -1\n",
        "    when these states are orthogonal the expectation of this op will be 1.\n",
        "\n",
        "    Args:\n",
        "        qubits_a: Python `lst` of `cirq.GridQubit`s. The qubits system A act on\n",
        "        qubits_b: Python `lst` of `cirq.GridQubit`s. The qubits system B act on\n",
        "    \"\"\"\n",
        "\n",
        "    def _countSetBits(n):\n",
        "        count = 0\n",
        "        while n:\n",
        "            count += n & 1\n",
        "            n >>= 1\n",
        "        return count\n",
        "\n",
        "    def _one_proj(a):\n",
        "        return 0.5 * (1 - cirq.Z(a))\n",
        "\n",
        "    if len(qubits_a) != len(qubits_b):\n",
        "        raise ValueError(\"unequal system sizes.\")\n",
        "\n",
        "    ret_op = 0\n",
        "    for i in range(1 << len(qubits_a)):\n",
        "        if _countSetBits(i) % 2 == 0:\n",
        "            tmp_op = 1\n",
        "            for j, ch in enumerate(bin(i)[2:].zfill(len(qubits_a))):\n",
        "                intermediate = _one_proj(qubits_a[j]) * _one_proj(qubits_b[j])\n",
        "                if ch == '0':\n",
        "                    intermediate = 1 - intermediate\n",
        "                tmp_op *= intermediate\n",
        "            ret_op += tmp_op\n",
        "\n",
        "    return 1.0 - (ret_op * 2 - 1)"
      ],
      "execution_count": null,
      "outputs": []
    },
    {
      "cell_type": "markdown",
      "metadata": {
        "id": "f877slvl4nZl"
      },
      "source": [
        "### 1.3 Create the noise model\n",
        "\n",
        "We use Cirq to implement the noise model described above: each $CZ$ gate is followed by single-qubit $Z$ rotations that insert a phase error according to a Gaussian distribution. We'll also extend the noise model to include two-qubit phase errors, although our experiment will only include a single-qubit phase error."
      ]
    },
    {
      "cell_type": "code",
      "metadata": {
        "id": "RvpMZMeX4jln"
      },
      "source": [
        "# add controlled phase and Z phase errors after each CZ gate\n",
        "# CZ phase error is fully random\n",
        "# Z phase error is always the same for a given qubit index\n",
        "class CZNoiseModel(cirq.NoiseModel):\n",
        "    def __init__(self, qubits, mean, stdev, seed=0):\n",
        "        self.mean = mean\n",
        "        self.stdev = stdev\n",
        "        \n",
        "        np.random.seed(seed)\n",
        "        single_errors = {}\n",
        "        for q in qubits:\n",
        "            single_errors[q] = np.random.normal(self.mean[1], self.stdev[1])\n",
        "        self.single_errors = single_errors\n",
        "    \n",
        "    def noisy_operation(self, op):\n",
        "        if isinstance(op.gate, cirq.ops.CZPowGate):\n",
        "            return [op, cirq.ops.CZPowGate(exponent=np.random.normal(self.mean[0], self.stdev[0]))(*op.qubits), cirq.ops.ZPowGate(exponent=self.single_errors[op.qubits[0]])(op.qubits[0]), cirq.ops.ZPowGate(exponent=self.single_errors[op.qubits[1]])(op.qubits[1])]\n",
        "        \n",
        "        return op"
      ],
      "execution_count": null,
      "outputs": []
    },
    {
      "cell_type": "markdown",
      "metadata": {
        "id": "Qs-4ylTJsHeo"
      },
      "source": [
        "## 2. Create the quantum neural networks\n",
        "\n",
        "We can now prepare TensorFlow Quantum objects from the Cirq circuits defined above. These will include the adversarial loss function, completing the definition of the EQ-GAN."
      ]
    },
    {
      "cell_type": "markdown",
      "metadata": {
        "id": "3PtTNiToz4gF"
      },
      "source": [
        "### 2.1 Utility functions\n",
        "We prepare a series of functions to accesss the quantum data, generator, discriminator, and the number of parameters associated with each of those."
      ]
    },
    {
      "cell_type": "code",
      "metadata": {
        "id": "SKHP9xRu3IbP"
      },
      "source": [
        "def get_data_maker():\n",
        "    \"\"\"Get appropriate dataset maker for a given circuit type.\"\"\"\n",
        "    return generator_circuit\n",
        "\n",
        "def get_circuit_maker():\n",
        "    \"\"\"Get appropriate circuit maker for a given circuit type.\"\"\"\n",
        "    return generator_circuit\n",
        "\n",
        "def num_data_parameters(n_qubits):\n",
        "    \"\"\"Get number of true data circuit parameters for a circuit type.\"\"\"\n",
        "    return num_gen_parameters(n_qubits)\n",
        "\n",
        "def num_gen_parameters(n_qubits):\n",
        "    \"\"\"Get number of generator model parameters for a circuit type.\"\"\"\n",
        "    return 3\n",
        "\n",
        "def num_disc_parameters(n_qubits):\n",
        "    \"\"\"Get number of discriminator model parameters for a circuit type.\"\"\"\n",
        "    return 2*n_qubits\n",
        "\n",
        "def get_rand_state(n_qubits, data_noise):\n",
        "    \"\"\"Get number of data preparation circuit parameters for a circuit type.\"\"\"\n",
        "    return np.random.uniform(-data_noise, data_noise, \n",
        "                             num_data_parameters(n_qubits))"
      ],
      "execution_count": null,
      "outputs": []
    },
    {
      "cell_type": "markdown",
      "metadata": {
        "id": "pHphmhG35gbB"
      },
      "source": [
        "When loading data in the quantum computer, it may be beneficial to augment the training set by adding noise (similarly to data augmentation in classical machine learning). Hence, our `generate_data` function takes a `data_noise` parameter that can create noisy copies of the original dataset. In our experiment below, however, we will set this to zero for simplicity."
      ]
    },
    {
      "cell_type": "code",
      "metadata": {
        "id": "9KWQdxSm4p-1"
      },
      "source": [
        "def generate_data(data_qubits, generator_qubits, target_quantum_data,\n",
        "                  data_noise, noise_model, n_points):\n",
        "    \"\"\"Generate n_points data on data_qubits with generator_qubits linked for\n",
        "    later copying.\"\"\"\n",
        "    data_maker = get_data_maker()\n",
        "\n",
        "    target_circuits = []\n",
        "    target_real_data_circuit = []\n",
        "\n",
        "    rand_states = []\n",
        "    for i in range(n_points):\n",
        "        rand_states.append(get_rand_state(len(data_qubits), data_noise))\n",
        "    for rand_state in rand_states:\n",
        "        rand_circuit = data_maker(data_qubits, rand_state + target_quantum_data)\n",
        "        rand_circuit_true_data_on_generator_qubit = data_maker(\n",
        "            generator_qubits, rand_state + target_quantum_data)\n",
        "        \n",
        "        c_data = rand_circuit.with_noise(noise_model)\n",
        "        c_gen = rand_circuit_true_data_on_generator_qubit.with_noise(noise_model)\n",
        "\n",
        "        target_circuits.append(c_data)\n",
        "        target_real_data_circuit.append(c_gen)\n",
        "    target_circuits = tfq.convert_to_tensor(target_circuits)\n",
        "    target_real_data_circuit = tfq.convert_to_tensor(target_real_data_circuit)\n",
        "\n",
        "    return target_circuits, target_real_data_circuit"
      ],
      "execution_count": null,
      "outputs": []
    },
    {
      "cell_type": "markdown",
      "metadata": {
        "id": "bRQryMgM1vnY"
      },
      "source": [
        "Finally, we require a custom `keras` layer to share variables between the discriminator and generator, since they represent two different quantum circuits."
      ]
    },
    {
      "cell_type": "code",
      "metadata": {
        "id": "7VqO7T3m7Dg9"
      },
      "source": [
        "class SharedVar(tf.keras.layers.Layer):\n",
        "    \"\"\"A custom tf.keras.layers.Layer used for sharing variables.\"\"\"\n",
        "    def __init__(self, symbol_names, operators, init_vals, backend,\n",
        "                 use_sampled):\n",
        "        \"\"\"Custom keras layer used to share tf.Variables between several\n",
        "        tfq.layers.Expectation.\"\"\"\n",
        "        super(SharedVar, self).__init__()\n",
        "        self.init_vals = init_vals\n",
        "        self.symbol_names = symbol_names\n",
        "        self.operators = operators\n",
        "        self.use_sampled = use_sampled\n",
        "        self.backend = backend\n",
        "\n",
        "    def build(self, input_shape):\n",
        "        # Build a tf.Variable that is the shape of the number of symbols.\n",
        "        self.w = self.add_weight(shape=(len(self.symbol_names),),\n",
        "                                 initializer=tf.constant_initializer(\n",
        "                                     self.init_vals))\n",
        "\n",
        "    def call(self, inputs):\n",
        "        # inputs[0] = circuit tensor\n",
        "        # inputs[1] = circuit tensor\n",
        "        # Their expectations are evaluated with shared variables between them\n",
        "        n_datapoints = tf.gather(tf.shape(inputs[0]), 0)\n",
        "        values = tf.tile(tf.expand_dims(self.w, 0), [n_datapoints, 1])\n",
        "        if not self.use_sampled:\n",
        "            return tfq.layers.Expectation(backend=self.backend)(\n",
        "                inputs[0],\n",
        "                symbol_names=self.symbol_names,\n",
        "                operators=self.operators,\n",
        "                symbol_values=values), tfq.layers.Expectation(\n",
        "                    backend=self.backend)(inputs[1],\n",
        "                                          symbol_names=self.symbol_names,\n",
        "                                          operators=self.operators,\n",
        "                                          symbol_values=values)\n",
        "        else:\n",
        "            return tfq.layers.SampledExpectation(backend=self.backend)(\n",
        "                inputs[0],\n",
        "                symbol_names=self.symbol_names,\n",
        "                operators=self.operators,\n",
        "                symbol_values=values,\n",
        "                repetitions=10000), tfq.layers.SampledExpectation(\n",
        "                    backend=self.backend)(inputs[1],\n",
        "                                          symbol_names=self.symbol_names,\n",
        "                                          operators=self.operators,\n",
        "                                          symbol_values=values,\n",
        "                                          repetitions=10000)"
      ],
      "execution_count": null,
      "outputs": []
    },
    {
      "cell_type": "markdown",
      "metadata": {
        "id": "aVFXREU914mG"
      },
      "source": [
        "### 2.2 Build the generator\n",
        "\n",
        "The generator model includes both the quantum data and the quantum generator circuit, so that the data and model can later be *entangled* together by the discriminator. To compute the generator loss, we append the generator circuit to the quantum data and then apply the entangling variational swap test discriminator. The expectation of the output can either be computed exactly (with `tfq.layers.Expectation`) or sampled (with `tfq.layers.SampledExpectation`) before being provided to the loss function\n",
        "\n",
        "$$\n",
        "\\min_{\\theta_g} \\max_{\\theta_d} [1 - D(\\theta_d, G(\\theta_g))],\n",
        "$$\n",
        "\n",
        "which is optimized with `keras`. By default, we choose Adam to optimize the generator circuit parameters."
      ]
    },
    {
      "cell_type": "code",
      "metadata": {
        "id": "2bi6E8pv5zjk"
      },
      "source": [
        "def build_generator(generator_qubits,\n",
        "                    data_qubits,\n",
        "                    generator_symbols,\n",
        "                    lr,\n",
        "                    generator_initialization,\n",
        "                    noise_model,\n",
        "                    backend=None,\n",
        "                    use_sampled=False,\n",
        "                    regularization=0.000001,\n",
        "                    optimizer=None):\n",
        "    \"\"\"Build a generator tf.keras.Model using standard circuits.\n",
        "\n",
        "    Args:\n",
        "        generator_qubits: Python `lst` of `cirq.GridQubit`s indicating the\n",
        "            qubits that the generator should use.\n",
        "        data_qubits: Python `lst` of `cirq.GridQubit`s indicating the qubits\n",
        "            that the data will arrive on.\n",
        "        generator_symbols: Python `lst` of numbers or `sympy.Symbol`s\n",
        "            to use in the ansatze used for the generator.\n",
        "        lr: Python `float` the learning rate of the model.\n",
        "        backend: Python object for the backend type to use when running quantum\n",
        "            circuits.\n",
        "        generator_initialization: `np.ndarray` of initial values to place\n",
        "            inside of the generator symbols in the tensorflow managed\n",
        "            variables.\n",
        "        noise_model: `cirq.NoiseModel` to apply to circuits.\n",
        "        use_sampled: Python `bool` indicating whether or not to use analytical\n",
        "            expectation or sample based expectation calculation.\n",
        "        regularization: Python `float` added as margin to an orthogonal swap test.\n",
        "        optimizer: `tf.keras.optimizers` optimizer for training the circuit. Default\n",
        "            is tf.keras.optimizers.Adam.\n",
        "    \"\"\"\n",
        "    if optimizer is None:\n",
        "        optimizer = tf.keras.optimizers.Adam\n",
        "    \n",
        "    # Input for the circuits that generate the quantum data from the source.\n",
        "    signal_input = tf.keras.layers.Input(shape=(), dtype=tf.dtypes.string)\n",
        "\n",
        "    # Input for the swaptest circuits. These will have the variables from the\n",
        "    # discriminator resolved into them.\n",
        "    swap_test_input = tf.keras.layers.Input(shape=(), dtype=tf.dtypes.string)\n",
        "\n",
        "    data_and_generated = tfq.layers.AddCircuit()(signal_input,\n",
        "                                                 append=generator_circuit(\n",
        "                                                     generator_qubits,\n",
        "                                                     generator_symbols).\n",
        "                                                     with_noise(noise_model))\n",
        "\n",
        "    # Append the variational swap test on to the data on data_qubits\n",
        "    # and the \"generated\" data on generator_qubits.\n",
        "    full_swaptest = tfq.layers.AddCircuit()(data_and_generated,\n",
        "                                            append=swap_test_input)\n",
        "\n",
        "    expectation_output = None\n",
        "    if not use_sampled:\n",
        "        expectation_output = tfq.layers.Expectation(backend=backend)(\n",
        "            full_swaptest,\n",
        "            symbol_names=generator_symbols,\n",
        "            operators=swap_readout_op(generator_qubits, data_qubits),\n",
        "            initializer=tf.constant_initializer(generator_initialization))\n",
        "\n",
        "    else:\n",
        "        expectation_output = tfq.layers.SampledExpectation(backend=backend)(\n",
        "            full_swaptest,\n",
        "            symbol_names=generator_symbols,\n",
        "            operators=swap_readout_op(generator_qubits, data_qubits),\n",
        "            initializer=tf.constant_initializer(generator_initialization),\n",
        "            repetitions=10000)\n",
        "\n",
        "    expectation_output = tf.add(expectation_output, tf.constant(regularization))\n",
        "    log_output = tf.math.log(expectation_output)\n",
        "\n",
        "    # Input is true data on data qubits, and swap_test_input for both qubits.\n",
        "    qgan_g_model = tf.keras.Model(inputs=[signal_input, swap_test_input],\n",
        "                                  outputs=[expectation_output, log_output])\n",
        "\n",
        "    optimizerg = optimizer(learning_rate=lr)\n",
        "    lossg = lambda x, y: tf.reduce_mean(y)\n",
        "    qgan_g_model.compile(optimizer=optimizerg, loss=lossg, loss_weights=[0,1])\n",
        "\n",
        "    return qgan_g_model"
      ],
      "execution_count": null,
      "outputs": []
    },
    {
      "cell_type": "markdown",
      "metadata": {
        "id": "eMTArL8R3fwP"
      },
      "source": [
        "### 2.3 Build the discriminator\n",
        "\n",
        "The discriminator is similar to the generator, except the loss function is multiplied by a minus sign to perform adversarial learning. To propagate the loss through the generator, we use the `SharedVar` defined above."
      ]
    },
    {
      "cell_type": "code",
      "metadata": {
        "id": "IWPwgEqQ6PmU"
      },
      "source": [
        "def build_discriminator(generator_qubits,\n",
        "                        data_qubits,\n",
        "                        discriminator_symbols,\n",
        "                        lr,\n",
        "                        discriminator_initialization,\n",
        "                        noise_model,\n",
        "                        backend=None,\n",
        "                        use_sampled=False,\n",
        "                        regularization=0.000001,\n",
        "                        optimizer=None):\n",
        "    \"\"\"Build a discriminator model.\n",
        "\n",
        "    Args:\n",
        "        generator_qubits: Python `lst` of `cirq.GridQubit`s indicating the\n",
        "            qubits that the generator should use.\n",
        "        data_qubits: Python `lst` of `cirq.GridQubit`s indicating the qubits\n",
        "            that the data will arrive on.\n",
        "        discriminator_symbols: Python `lst` of numbers or `sympy.Symbol`s\n",
        "            to use in the ansatze used for the discriminator.\n",
        "        lr: Python `float` the learning rate of the model.\n",
        "        discriminator_initialization: `np.ndarray` of symbols to place\n",
        "            inside of the discriminator symbols in the tensorflow managed\n",
        "            variables.\n",
        "        backend: Python object for the backend type to use when running quantum\n",
        "            circuits.\n",
        "        use_sampled: Python `bool` indicating whether or not to use analytical\n",
        "            expectation or sample based expectation calculation.\n",
        "        regularization: Python `float` added as margin to an orthogonal swap test.\n",
        "        optimizer: `tf.keras.optimizers` optimizer for training the circuit. Default\n",
        "            is tf.keras.optimizers.Adam.\n",
        "    \"\"\"\n",
        "    if optimizer is None:\n",
        "        optimizer = tf.keras.optimizers.Adam\n",
        "\n",
        "    # True data on data_qubits.\n",
        "    signal_input_d = tf.keras.layers.Input(shape=(), dtype=tf.dtypes.string)\n",
        "\n",
        "    # Generator data on generator_qubits.\n",
        "    load_generator_data_d = tf.keras.layers.Input(shape=(),\n",
        "                                                  dtype=tf.dtypes.string)\n",
        "\n",
        "    # True data on generator_qubits.\n",
        "    load_true_data_d = tf.keras.layers.Input(shape=(), dtype=tf.dtypes.string)\n",
        "\n",
        "    # Swap circuit with input.\n",
        "    swap_test_input_d = tfq.layers.AddCircuit()(\n",
        "        signal_input_d,\n",
        "        append=discriminator_circuit(data_qubits, generator_qubits,\n",
        "                                np.array(discriminator_symbols).reshape(-1, 2)).\n",
        "                                with_noise(noise_model))\n",
        "    \n",
        "\n",
        "    # Swap test between the true data and generator.\n",
        "    swaptest_d = tfq.layers.AddCircuit()(load_generator_data_d,\n",
        "                                         append=swap_test_input_d)\n",
        "\n",
        "    # Swap test between the true data and itself. Useful for how close to the\n",
        "    # \"true\" swap test we are over time as we train.\n",
        "    swapontruedata = tfq.layers.AddCircuit()(load_true_data_d,\n",
        "                                             append=swap_test_input_d)\n",
        "\n",
        "    tmp = SharedVar(discriminator_symbols,\n",
        "                    swap_readout_op(generator_qubits, data_qubits),\n",
        "                    discriminator_initialization, backend, use_sampled)\n",
        "    expectation_output_d, expectation_output2 = tmp(\n",
        "        [swaptest_d, swapontruedata])\n",
        "\n",
        "    expectation_output_d = tf.add(expectation_output_d, tf.constant(regularization))\n",
        "    log_discrim_dist = tf.math.log(tf.keras.backend.flatten(expectation_output_d))\n",
        "    log_true_dist = tf.math.log(tf.keras.backend.flatten(expectation_output2))\n",
        "\n",
        "\n",
        "    final_output = -log_discrim_dist\n",
        "\n",
        "    qgan_d_model = tf.keras.Model(\n",
        "        inputs=[signal_input_d, load_generator_data_d, load_true_data_d],\n",
        "        outputs=[expectation_output_d, expectation_output2, final_output])\n",
        "\n",
        "    optimizerd = optimizer(learning_rate=lr)\n",
        "\n",
        "    # Difference between \"generator vs true data\" and \"true vs true (given\n",
        "    # we many not be doing a perfect swap test yet)\"\n",
        "    lossd = lambda x, y: -tf.reduce_mean(y)\n",
        "    qgan_d_model.compile(optimizer=optimizerd, loss=lossd, loss_weights=[0,0,1])\n",
        "\n",
        "    return qgan_d_model"
      ],
      "execution_count": null,
      "outputs": []
    },
    {
      "cell_type": "markdown",
      "metadata": {
        "id": "98JaTG4v39Go"
      },
      "source": [
        "## 3 Benchmark the EQ-GAN\n",
        "\n",
        "We'll train the EQ-GAN and compare it to a \"perfect\" swap test, which has the same generator but a frozen discriminator. The perfect swap test is *imperfect* in the presence of noise, since it assumes fully calibrated quantum hardware. Since noise on hardware oscillates on the order of 10 minutes, it becomes difficult to perfectly calibrate $CZ$ gates everywhere; consequently, the incorrectly calibrated perfect swap test will likely converge to an incorrect state. An approach robust to incorrect noise models is helpful to learn variational circuits. Since the EQ-GAN has a Nash equilibrium at the location of a calibrated swap test, we expect it to properly converge.\n",
        "\n",
        "### 3.1 Training the EQ-GAN and perfect swap test models\n",
        "\n",
        "To track performance, we need to compare the generated state with the true data state. This exact state fidelity metric is computed in the absence of noise."
      ]
    },
    {
      "cell_type": "code",
      "metadata": {
        "id": "xUKhWTiZ1R2X"
      },
      "source": [
        "def quantum_data_overlap(qubits, params_a, params_b):\n",
        "    \"\"\"Compute overlap of quantum data circuits with params_a and params_b.\"\"\"\n",
        "    sim = cirq.Simulator()\n",
        "    circuit_maker = get_circuit_maker()\n",
        "    data_maker = get_data_maker()\n",
        "    circuit_a = circuit_maker(qubits, params_a)\n",
        "    circuit_b = data_maker(qubits, params_b)\n",
        "    res_a = sim.simulate(circuit_a)\n",
        "    res_b = sim.simulate(circuit_b)\n",
        "    overlap = np.abs(np.vdot(res_a.final_state_vector, res_b.final_state_vector))\n",
        "    return overlap"
      ],
      "execution_count": null,
      "outputs": []
    },
    {
      "cell_type": "markdown",
      "metadata": {
        "id": "JjF_JcTB5YFh"
      },
      "source": [
        "Running an experiment consists of the following steps:\n",
        "* *Initialize the generator quantum circuit.* We set all rotation angles to zero in the beginning.\n",
        "* *Initialize the discriminator quantum circuit.* The perfect swap test has a discriminator frozen with the expected gate parameters (which does not correspond to a perfect swap test due to noise). The adversarial swap test has a discriminator also initialized to the circuit expected to be a true swap test; although the assumption is false due to noise, it provides a good guess to start training.\n",
        "* *Train model(s).* To enhance training stability, adversarial training will be performed in two phases. In the first half, the discriminator is frozen to be equivalent to perfect swap test training. In the second half, the discriminator is trained adversarially, allowing the EQ-GAN to converge to a true swap test and correct the noise. Training the perfect swap test is equivalent to performing the first phase (frozen discriminator) for the duration of both adversarial phases.\n",
        "* *Record training history.* We output the loss functions and state overlap with the true data, as well as the parameter history of the generator and discriminator.\n",
        "\n",
        "This is implemented in `run_experiment` below."
      ]
    },
    {
      "cell_type": "code",
      "metadata": {
        "id": "meDv569f4t3m"
      },
      "source": [
        "def run_experiment(d_learn, g_learn, d_epoch, g_epoch, batchsize, n_episodes,\n",
        "                   n_qubits, target_quantum_data, use_perfect_swap,\n",
        "                   gate_error_mean, gate_error_stdev, n_data=1, data_noise=0,\n",
        "                   use_sampled=False, log_interval=10, backend=None, seed=0):\n",
        "    \"\"\"Run a QGAN experiment.\n",
        "\n",
        "    Args:\n",
        "        d_learn: Python `float` discriminator learning rate.\n",
        "        g_learn: Python `float` generator learning rate.\n",
        "        d_epoch: Python `int` number of discriminator iterations per episode.\n",
        "        g_epoch: Python `int` number of generator iterations per episode.\n",
        "        batchsize: Python `int` number of entries to use in a batch.\n",
        "        n_episodes: Python `int` number of total QGAN training episodes.\n",
        "        n_qubits: Python `int` number of qubits to use for each susbsystem.\n",
        "        target_quantum_data: Python object. True target state.\n",
        "        use_perfect_swap: `bool` whether or not to train discriminator.\n",
        "        gate_error_mean: mean angle error on 2-qubit gates (`None` if no noise).\n",
        "        gate_error_stdev: standard deviation of angle error on 2-qubit gates.\n",
        "        n_data: Python `int` number of total datapoints to generate.\n",
        "        data_noise: Python `float` bounds on noise in real data preparation.\n",
        "        use_sampled: Python `bool` whether or not analytical or sampled exp.\n",
        "        backend: None or `cirq.SimulatesFinalState` or `cirq.Sampler`.\n",
        "        log_interval: Python `int` log every log_interval episodes.\n",
        "        seed: seed of run for noise model and training.\n",
        "    \"\"\"\n",
        "\n",
        "    circuit_maker = get_circuit_maker()\n",
        "    generator_initialization = np.zeros(num_gen_parameters(n_qubits))\n",
        "    discriminator_initialization = np.array([[0.0, 0.0]] * n_qubits)\n",
        "        \n",
        "    # Create data and generator qubits\n",
        "    data_qubits = [cirq.GridQubit(1, k + 4) for k in range(n_qubits)]\n",
        "    generator_qubits = [cirq.GridQubit(2, k + 4) for k in range(n_qubits)]\n",
        "    ancilla = cirq.GridQubit(1, 5)  # potentially unused.\n",
        "    all_qubits = data_qubits + generator_qubits\n",
        "    \n",
        "    # Noise on single-qubit gates\n",
        "    if (gate_error_mean is None) or (gate_error_stdev is None):\n",
        "        noise_model = None\n",
        "    else:\n",
        "        noise_model = CZNoiseModel(all_qubits, gate_error_mean, gate_error_stdev, seed=seed)\n",
        "\n",
        "    # Generator and Discriminator symbols\n",
        "    discriminator_parameters = []\n",
        "    generator_parameters = []\n",
        "    for j in range(num_disc_parameters(n_qubits)):\n",
        "        discriminator_parameters.append(sympy.Symbol('Discrimx{}'.format(j)))\n",
        "    for j in range(num_gen_parameters(n_qubits)):\n",
        "        generator_parameters.append(sympy.Symbol('Genx{}'.format(j)))\n",
        "    target_circuits, target_real_data_circuit = generate_data(data_qubits,\n",
        "        generator_qubits, target_quantum_data, data_noise, noise_model, n_data)\n",
        "\n",
        "    # Generator and Discriminator models\n",
        "    qgan_d_model = build_discriminator(\n",
        "        generator_qubits, data_qubits, discriminator_parameters, d_learn,\n",
        "        discriminator_initialization, noise_model, backend, use_sampled)\n",
        "    qgan_g_model = build_generator(\n",
        "        generator_qubits, data_qubits, generator_parameters, g_learn,\n",
        "        generator_initialization, noise_model, backend, use_sampled)\n",
        "\n",
        "    # Tracking info\n",
        "    d_loss = []\n",
        "    g_loss = []\n",
        "    overlap_record = []\n",
        "    param_history = []\n",
        "    \n",
        "    repeats = 1\n",
        "    if not use_perfect_swap: # introduce adversarial second phase\n",
        "        repeats = 2\n",
        "        n_episodes = n_episodes // 2\n",
        "\n",
        "    for r in range(repeats):\n",
        "        if r == 0: # use perfect swap for first half\n",
        "            use_perfect_swap = True\n",
        "        elif r == 1: # use adversarial learning for second half\n",
        "            use_perfect_swap = False\n",
        "        # begin training\n",
        "        for k in range(1, n_episodes + 1):\n",
        "            if k != 0:\n",
        "                generator_initialization = qgan_g_model.trainable_variables[\n",
        "                    0].numpy()\n",
        "\n",
        "            overlap_record.append(\n",
        "                quantum_data_overlap(data_qubits, generator_initialization,\n",
        "                                     target_quantum_data))\n",
        "            param_history.append([qgan_g_model.trainable_variables[0].numpy(), \n",
        "                                 qgan_d_model.trainable_variables[0].numpy()])\n",
        "\n",
        "            if not use_perfect_swap:\n",
        "                # prepare discriminator network input\n",
        "                gen_circuit = circuit_maker(generator_qubits, generator_initialization)\n",
        "                gen_circuit = gen_circuit.with_noise(noise_model)\n",
        "                load_generator_circuit = tf.tile(\n",
        "                    tfq.convert_to_tensor(\n",
        "                        [gen_circuit]),\n",
        "                    tf.constant([n_data]))\n",
        "\n",
        "                historyd = qgan_d_model.fit(x=[\n",
        "                    target_circuits, load_generator_circuit, target_real_data_circuit\n",
        "                ],\n",
        "                                            y=[\n",
        "                                                tf.zeros_like(target_circuits,\n",
        "                                                              dtype=tf.float32),\n",
        "                                                tf.zeros_like(target_circuits,\n",
        "                                                           dtype=tf.float32),\n",
        "                                                tf.zeros_like(target_circuits,\n",
        "                                                           dtype=tf.float32)\n",
        "                                            ],\n",
        "                                            epochs=d_epoch,\n",
        "                                            batch_size=batchsize,\n",
        "                                            verbose=0)\n",
        "\n",
        "                d_loss.append(historyd.history['loss'])\n",
        "\n",
        "                # prepare generator network input\n",
        "                discriminator_initialization = qgan_d_model.trainable_variables[\n",
        "                    0].numpy().reshape((-1, 2))\n",
        "\n",
        "            # evaluate noisy swap test\n",
        "            swap_test_circuit = discriminator_circuit(\n",
        "                data_qubits, generator_qubits, discriminator_initialization)\n",
        "\n",
        "            swap_test_circuit = swap_test_circuit.with_noise(noise_model)\n",
        "            swap_test_circuit = tf.tile(tfq.convert_to_tensor([swap_test_circuit]),\n",
        "                                        tf.constant([n_data]))\n",
        "\n",
        "            # record history\n",
        "            history = qgan_g_model.fit(x=[target_circuits, swap_test_circuit],\n",
        "                                       y=[tf.zeros_like(target_circuits,\n",
        "                                                       dtype=tf.float32),tf.zeros_like(target_circuits,\n",
        "                                                       dtype=tf.float32)],\n",
        "                                       epochs=g_epoch,\n",
        "                                       batch_size=batchsize,\n",
        "                                       verbose=0)\n",
        "\n",
        "            g_loss.append(history.history['loss'])\n",
        "\n",
        "            if k % log_interval == 0:\n",
        "                print(f'Step = {k}. Overlap={overlap_record[-1]}')\n",
        "                print(f'Step = {k}. g_loss={g_loss[-1]}')\n",
        "                if not use_perfect_swap:\n",
        "                    print(f'Step = {k}. d_loss={d_loss[-1]}')\n",
        "                print(f'Step = {k}. gen_params={qgan_g_model.trainable_variables[0].numpy()}')\n",
        "                print(f'Step = {k}. discrim_params={qgan_d_model.trainable_variables[0].numpy()}')\n",
        "                \n",
        "                print('-'*50)\n",
        "\n",
        "    return np.array(g_loss), np.array(d_loss), np.array(overlap_record), np.array(param_history)"
      ],
      "execution_count": null,
      "outputs": []
    },
    {
      "cell_type": "markdown",
      "metadata": {
        "id": "T-5mlPlp7RyM"
      },
      "source": [
        "Finally, we evaluate the performance of the EQ-GAN and perfect swap test models in learning the quantum state $\\frac{1}{\\sqrt{2}(|0\\rangle + |1\\rangle)$. Realistic single-qubit phase noise is estimated from Fig. S2 of Google's [paper](https://arxiv.org/abs/2010.07965) on Fermi-Hubbard dynamics, and we set the two-qubit controlled phase error to zero. Experimentally, the two-qubit controlled phase error is much smaller than the single-qubit phase error, so this assumption is realistic."
      ]
    },
    {
      "cell_type": "code",
      "metadata": {
        "id": "RPYafTby7dhr"
      },
      "source": [
        "d_epoch = 1\n",
        "g_epoch = 1\n",
        "batchsize = 4\n",
        "\n",
        "target_quantum_data = [0.0, 0.5, 0.5]\n",
        "\n",
        "n_qubits = 1\n",
        "d_learn = 0.01\n",
        "g_learn = 0.01\n",
        "n_episodes = 80\n",
        "\n",
        "# format (radians): [controlled phase error, single-qubit Z phase error]\n",
        "gate_error_mean = [0.0, 0.06]\n",
        "gate_error_stdev = [0.005, 0.02]"
      ],
      "execution_count": null,
      "outputs": []
    },
    {
      "cell_type": "code",
      "metadata": {
        "colab": {
          "base_uri": "https://localhost:8080/"
        },
        "id": "USNqzIXl9dk4",
        "outputId": "952b2c2b-fefc-4515-d60b-9094eae5083f"
      },
      "source": [
        "# we run with a \"perfect\" swap test that is imperfect due to noise\n",
        "use_perfect_swap = True\n",
        "print('TRAINING PERFECT SWAP TEST')\n",
        "g_loss_perf, d_loss_perf, overlap_perf, params_perf = run_experiment(\n",
        "                      d_learn, g_learn, d_epoch, g_epoch, batchsize,\n",
        "                      n_episodes, n_qubits, target_quantum_data,\n",
        "                      use_perfect_swap, gate_error_mean, gate_error_stdev)\n",
        "print()\n",
        "\n",
        "# we run with adversarial training to see noise get suppressed\n",
        "use_perfect_swap = False\n",
        "print('TRAINING ADVERSARIAL SWAP TEST')\n",
        "g_loss_adv, d_loss_adv, overlap_adv, params_adv = run_experiment(\n",
        "                      d_learn, g_learn, d_epoch, g_epoch, batchsize,\n",
        "                      n_episodes, n_qubits, target_quantum_data,\n",
        "                      use_perfect_swap, gate_error_mean, gate_error_stdev)"
      ],
      "execution_count": null,
      "outputs": [
        {
          "output_type": "stream",
          "text": [
            "TRAINING PERFECT SWAP TEST\n",
            "Step = 10. Overlap=0.7287916541099548\n",
            "Step = 10. g_loss=[-0.7754115462303162]\n",
            "Step = 10. gen_params=[-0.00283764 -0.10153843 -0.08077508]\n",
            "Step = 10. discrim_params=[0. 0.]\n",
            "--------------------------------------------------\n",
            "Step = 20. Overlap=0.8095174431800842\n",
            "Step = 20. g_loss=[-1.1870241165161133]\n",
            "Step = 20. gen_params=[-0.00320345 -0.2109291  -0.18916626]\n",
            "Step = 20. discrim_params=[0. 0.]\n",
            "--------------------------------------------------\n",
            "Step = 30. Overlap=0.9168037176132202\n",
            "Step = 30. g_loss=[-2.1242780685424805]\n",
            "Step = 30. gen_params=[ 0.01510484 -0.33290875 -0.31152907]\n",
            "Step = 30. discrim_params=[0. 0.]\n",
            "--------------------------------------------------\n",
            "Step = 40. Overlap=0.9908996820449829\n",
            "Step = 40. g_loss=[-4.5349602699279785]\n",
            "Step = 40. gen_params=[ 0.04663827 -0.47101778 -0.430013  ]\n",
            "Step = 40. discrim_params=[0. 0.]\n",
            "--------------------------------------------------\n",
            "Step = 50. Overlap=0.9881062507629395\n",
            "Step = 50. g_loss=[-10.211024284362793]\n",
            "Step = 50. gen_params=[ 0.0176267  -0.51823    -0.41223136]\n",
            "Step = 50. discrim_params=[0. 0.]\n",
            "--------------------------------------------------\n",
            "Step = 60. Overlap=0.9888364672660828\n",
            "Step = 60. g_loss=[-13.145798683166504]\n",
            "Step = 60. gen_params=[ 0.03992724 -0.512491   -0.4081674 ]\n",
            "Step = 60. discrim_params=[0. 0.]\n",
            "--------------------------------------------------\n",
            "Step = 70. Overlap=0.9899049401283264\n",
            "Step = 70. g_loss=[-6.551358699798584]\n",
            "Step = 70. gen_params=[ 0.10705256 -0.4968453  -0.40928578]\n",
            "Step = 70. discrim_params=[0. 0.]\n",
            "--------------------------------------------------\n",
            "Step = 80. Overlap=0.98850417137146\n",
            "Step = 80. g_loss=[-9.988781929016113]\n",
            "Step = 80. gen_params=[ 0.14890672 -0.5256788  -0.40720248]\n",
            "Step = 80. discrim_params=[0. 0.]\n",
            "--------------------------------------------------\n",
            "\n",
            "TRAINING ADVERSARIAL SWAP TEST\n"
          ],
          "name": "stdout"
        },
        {
          "output_type": "stream",
          "text": [
            "/usr/local/lib/python3.7/dist-packages/ipykernel_launcher.py:148: VisibleDeprecationWarning: Creating an ndarray from ragged nested sequences (which is a list-or-tuple of lists-or-tuples-or ndarrays with different lengths or shapes) is deprecated. If you meant to do this, you must specify 'dtype=object' when creating the ndarray\n"
          ],
          "name": "stderr"
        },
        {
          "output_type": "stream",
          "text": [
            "Step = 10. Overlap=0.7287916541099548\n",
            "Step = 10. g_loss=[-0.7754115462303162]\n",
            "Step = 10. gen_params=[-0.00283764 -0.10153843 -0.08077508]\n",
            "Step = 10. discrim_params=[0. 0.]\n",
            "--------------------------------------------------\n",
            "Step = 20. Overlap=0.8095174431800842\n",
            "Step = 20. g_loss=[-1.1870241165161133]\n",
            "Step = 20. gen_params=[-0.00320345 -0.2109291  -0.18916626]\n",
            "Step = 20. discrim_params=[0. 0.]\n",
            "--------------------------------------------------\n",
            "Step = 30. Overlap=0.9168037176132202\n",
            "Step = 30. g_loss=[-2.1242780685424805]\n",
            "Step = 30. gen_params=[ 0.01510484 -0.33290875 -0.31152907]\n",
            "Step = 30. discrim_params=[0. 0.]\n",
            "--------------------------------------------------\n",
            "Step = 40. Overlap=0.9908996820449829\n",
            "Step = 40. g_loss=[-4.5349602699279785]\n",
            "Step = 40. gen_params=[ 0.04663827 -0.47101778 -0.430013  ]\n",
            "Step = 40. discrim_params=[0. 0.]\n",
            "--------------------------------------------------\n",
            "Step = 10. Overlap=0.9954313635826111\n",
            "Step = 10. g_loss=[-10.230671882629395]\n",
            "Step = 10. d_loss=[-9.696494102478027]\n",
            "Step = 10. gen_params=[ 0.06719901 -0.5061495  -0.4461166 ]\n",
            "Step = 10. discrim_params=[-0.03542047 -0.0467722 ]\n",
            "--------------------------------------------------\n",
            "Step = 20. Overlap=0.9998957514762878\n",
            "Step = 20. g_loss=[-8.789029121398926]\n",
            "Step = 20. d_loss=[-11.646615982055664]\n",
            "Step = 20. gen_params=[ 0.09604842 -0.501386   -0.5149285 ]\n",
            "Step = 20. discrim_params=[-0.11223976 -0.07033748]\n",
            "--------------------------------------------------\n",
            "Step = 30. Overlap=0.9956529140472412\n",
            "Step = 30. g_loss=[-9.234436988830566]\n",
            "Step = 30. d_loss=[-10.168179512023926]\n",
            "Step = 30. gen_params=[ 0.14366579 -0.51015866 -0.5637149 ]\n",
            "Step = 30. discrim_params=[-0.16043268 -0.10197245]\n",
            "--------------------------------------------------\n",
            "Step = 40. Overlap=0.981902003288269\n",
            "Step = 40. g_loss=[-10.121150016784668]\n",
            "Step = 40. d_loss=[-8.474078178405762]\n",
            "Step = 40. gen_params=[ 0.17561905 -0.53878194 -0.62337   ]\n",
            "Step = 40. discrim_params=[-0.21422769 -0.16146933]\n",
            "--------------------------------------------------\n"
          ],
          "name": "stdout"
        }
      ]
    },
    {
      "cell_type": "markdown",
      "metadata": {
        "id": "Em6DmSYM8EWv"
      },
      "source": [
        "### 4.1 Comparison\n",
        "\n",
        "To analyze performance, we plot the overlap between the generated state $\\psi = G(\\theta)|0\\rangle$ and the true data state $\\psi = G(\\theta_0)|0\\rangle$ over time. Since the models are initialized in the $|0\\rangle$ state, the initial fidelity with the data $\\frac{1}{\\sqrt{2}}(|0\\rangle + |1\\rangle)$ is $1/2$.\n",
        "\n",
        "In the first half of training, the EQ-GAN and perfect swap test experience identical training, since both are being optimized with frozen discriminators. In the second half of training, the EQ-GAN is seen to generate a state closer to the true data state, while the perfect swap test stabilizes at the incorrect state. As with classical GANs, the quantum GAN naturally drifts away from the converged state after it has been obtained due to a vanishing gradient. To identify where the converged state is, we examine the loss function and select the lowest discriminator loss (dashed line)."
      ]
    },
    {
      "cell_type": "code",
      "metadata": {
        "id": "k9l5trOpiBjv"
      },
      "source": [
        "def stopping_ind(d_loss, smoothing_period=5):\n",
        "    \"\"\"Get overlap and parameters at minimum generator loss.\"\"\"\n",
        "    # simple moving average\n",
        "    flattened_loss = np.array(d_loss).flatten()\n",
        "    if smoothing_period > 1:\n",
        "        smoothed = np.convolve(flattened_loss, np.ones(smoothing_period), 'valid') / smoothing_period\n",
        "    else:\n",
        "        smoothed = flattened_loss\n",
        "    \n",
        "    # find when the discriminator loss is lowest in the second half of training\n",
        "    # this corresponds to when the GAN is most fooled by the fake data\n",
        "    n_episodes = len(d_loss)*2\n",
        "    best_ind = n_episodes//2 + np.argmin(smoothed)\n",
        "    best_ind += smoothing_period // 2\n",
        "    if best_ind >= n_episodes:\n",
        "        best_ind = n_episodes - 1\n",
        "    return best_ind"
      ],
      "execution_count": null,
      "outputs": []
    },
    {
      "cell_type": "code",
      "metadata": {
        "colab": {
          "base_uri": "https://localhost:8080/",
          "height": 290
        },
        "id": "tA1o4KU7BKMH",
        "outputId": "5c214e2f-067e-4528-a0fd-8255d156334c"
      },
      "source": [
        "fidelity_perfect_swap = overlap_perf**2\n",
        "fidelity_adversarial = overlap_adv**2\n",
        "adv_best_ind = stopping_ind(d_loss_adv, smoothing_period=5)\n",
        "\n",
        "plt.figure(figsize=(5, 3.9))\n",
        "plt.plot(fidelity_perfect_swap, 'C1', label='Perfect SWAP')\n",
        "plt.plot(fidelity_adversarial, 'C2', label='EQ-GAN')\n",
        "plt.axvline(x=adv_best_ind, c='C2', linestyle='--')\n",
        "plt.legend(fontsize=12)\n",
        "plt.xlabel('Iteration', fontsize=14)\n",
        "plt.ylabel('Fidelity $|\\\\mathrm{data} | \\\\mathrm{generated} \\\\rangle|^2$', fontsize=14)\n",
        "plt.tight_layout()\n",
        "plt.show()"
      ],
      "execution_count": null,
      "outputs": [
        {
          "output_type": "display_data",
          "data": {
            "image/png": "[encoded data removed]",
            "text/plain": [
              "<Figure size 360x280.8 with 1 Axes>"
            ]
          },
          "metadata": {
            "tags": [],
            "needs_background": "light"
          }
        }
      ]
    }
  ]
}
