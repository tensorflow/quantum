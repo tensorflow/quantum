{
  "nbformat": 4,
  "nbformat_minor": 0,
  "metadata": {
    "colab": {
      "name": "phase_classification.ipynb",
      "provenance": []
    },
    "kernelspec": {
      "display_name": "Python 3",
      "language": "python",
      "name": "python3"
    },
    "language_info": {
      "codemirror_mode": {
        "name": "ipython",
        "version": 3
      },
      "file_extension": ".py",
      "mimetype": "text/x-python",
      "name": "python",
      "nbconvert_exporter": "python",
      "pygments_lexer": "ipython3",
      "version": "3.5.2"
    }
  },
  "cells": [
    {
      "cell_type": "markdown",
      "metadata": {
        "id": "juiBD2rn_O15",
        "outputId": "a283d24b-e097-450b-c4ef-bee9051c505e"
      },
      "source": [
        "### Classifying the phase of the two-dimensional transverse field Ising-model"
      ]
    },
    {
      "cell_type": "code",
      "metadata": {
        "colab": {
          "base_uri": "https://localhost:8080/",
          "height": 1000
        },
        "id": "Pu2gpSjAmGN0",
        "outputId": "71c77093-2c4f-49a6-88eb-a0a4edcace80"
      },
      "source": [
        "pip install tensorflow==2.4.1 tensorflow_quantum"
      ],
      "execution_count": 1,
      "outputs": [
        {
          "output_type": "stream",
          "text": [
            "Collecting tensorflow==2.4.1\n",
            "\u001b[?25l  Downloading https://files.pythonhosted.org/packages/70/dc/e8c5e7983866fa4ef3fd619faa35f660b95b01a2ab62b3884f038ccab542/tensorflow-2.4.1-cp37-cp37m-manylinux2010_x86_64.whl (394.3MB)\n",
            "\u001b[K     |████████████████████████████████| 394.3MB 41kB/s \n",
            "\u001b[?25hCollecting tensorflow_quantum\n",
            "\u001b[?25l  Downloading https://files.pythonhosted.org/packages/67/24/43c21d3af4c68198fe1d9cdd3233b94210e384e4861c69aab24d89015336/tensorflow_quantum-0.5.1-cp37-cp37m-manylinux_2_12_x86_64.manylinux2010_x86_64.whl (7.8MB)\n",
            "\u001b[K     |████████████████████████████████| 7.8MB 27.2MB/s \n",
            "\u001b[?25hRequirement already satisfied: flatbuffers~=1.12.0 in /usr/local/lib/python3.7/dist-packages (from tensorflow==2.4.1) (1.12)\n",
            "Requirement already satisfied: numpy~=1.19.2 in /usr/local/lib/python3.7/dist-packages (from tensorflow==2.4.1) (1.19.5)\n",
            "Requirement already satisfied: six~=1.15.0 in /usr/local/lib/python3.7/dist-packages (from tensorflow==2.4.1) (1.15.0)\n",
            "Requirement already satisfied: absl-py~=0.10 in /usr/local/lib/python3.7/dist-packages (from tensorflow==2.4.1) (0.12.0)\n",
            "Collecting tensorflow-estimator<2.5.0,>=2.4.0\n",
            "\u001b[?25l  Downloading https://files.pythonhosted.org/packages/74/7e/622d9849abf3afb81e482ffc170758742e392ee129ce1540611199a59237/tensorflow_estimator-2.4.0-py2.py3-none-any.whl (462kB)\n",
            "\u001b[K     |████████████████████████████████| 471kB 41.6MB/s \n",
            "\u001b[?25hRequirement already satisfied: google-pasta~=0.2 in /usr/local/lib/python3.7/dist-packages (from tensorflow==2.4.1) (0.2.0)\n",
            "Requirement already satisfied: wrapt~=1.12.1 in /usr/local/lib/python3.7/dist-packages (from tensorflow==2.4.1) (1.12.1)\n",
            "Requirement already satisfied: termcolor~=1.1.0 in /usr/local/lib/python3.7/dist-packages (from tensorflow==2.4.1) (1.1.0)\n",
            "Requirement already satisfied: keras-preprocessing~=1.1.2 in /usr/local/lib/python3.7/dist-packages (from tensorflow==2.4.1) (1.1.2)\n",
            "Requirement already satisfied: opt-einsum~=3.3.0 in /usr/local/lib/python3.7/dist-packages (from tensorflow==2.4.1) (3.3.0)\n",
            "Collecting h5py~=2.10.0\n",
            "\u001b[?25l  Downloading https://files.pythonhosted.org/packages/3f/c0/abde58b837e066bca19a3f7332d9d0493521d7dd6b48248451a9e3fe2214/h5py-2.10.0-cp37-cp37m-manylinux1_x86_64.whl (2.9MB)\n",
            "\u001b[K     |████████████████████████████████| 2.9MB 26.9MB/s \n",
            "\u001b[?25hRequirement already satisfied: protobuf>=3.9.2 in /usr/local/lib/python3.7/dist-packages (from tensorflow==2.4.1) (3.17.3)\n",
            "Collecting gast==0.3.3\n",
            "  Downloading https://files.pythonhosted.org/packages/d6/84/759f5dd23fec8ba71952d97bcc7e2c9d7d63bdc582421f3cd4be845f0c98/gast-0.3.3-py2.py3-none-any.whl\n",
            "Requirement already satisfied: tensorboard~=2.4 in /usr/local/lib/python3.7/dist-packages (from tensorflow==2.4.1) (2.5.0)\n",
            "Requirement already satisfied: typing-extensions~=3.7.4 in /usr/local/lib/python3.7/dist-packages (from tensorflow==2.4.1) (3.7.4.3)\n",
            "Collecting grpcio~=1.32.0\n",
            "\u001b[?25l  Downloading https://files.pythonhosted.org/packages/06/54/1c8be62beafe7fb1548d2968e518ca040556b46b0275399d4f3186c56d79/grpcio-1.32.0-cp37-cp37m-manylinux2014_x86_64.whl (3.8MB)\n",
            "\u001b[K     |████████████████████████████████| 3.8MB 20.3MB/s \n",
            "\u001b[?25hRequirement already satisfied: wheel~=0.35 in /usr/local/lib/python3.7/dist-packages (from tensorflow==2.4.1) (0.36.2)\n",
            "Requirement already satisfied: astunparse~=1.6.3 in /usr/local/lib/python3.7/dist-packages (from tensorflow==2.4.1) (1.6.3)\n",
            "Collecting google-api-core==1.21.0\n",
            "\u001b[?25l  Downloading https://files.pythonhosted.org/packages/48/76/bd5e3ebd571b9f688ae123a2bd84b2dc9f75e1214a83b8a759bc16e2fc35/google_api_core-1.21.0-py2.py3-none-any.whl (90kB)\n",
            "\u001b[K     |████████████████████████████████| 92kB 8.9MB/s \n",
            "\u001b[?25hCollecting sympy==1.5\n",
            "\u001b[?25l  Downloading https://files.pythonhosted.org/packages/4d/a7/25d5d6b3295537ab90bdbcd21e464633fb4a0684dd9a065da404487625bb/sympy-1.5-py2.py3-none-any.whl (5.6MB)\n",
            "\u001b[K     |████████████████████████████████| 5.6MB 13.3MB/s \n",
            "\u001b[?25hCollecting cirq==0.11.0\n",
            "  Downloading https://files.pythonhosted.org/packages/eb/a1/3458cb4981e648e0167ea160f536d6a0f32d95e9340c7b1a081b9ef79189/cirq-0.11.0-py3-none-any.whl\n",
            "Collecting google-auth==1.18.0\n",
            "\u001b[?25l  Downloading https://files.pythonhosted.org/packages/21/57/d706964a7e4056f3f2244e16705388c11631fbb53d3e2d2a2d0fbc24d470/google_auth-1.18.0-py2.py3-none-any.whl (90kB)\n",
            "\u001b[K     |████████████████████████████████| 92kB 9.7MB/s \n",
            "\u001b[?25hCollecting googleapis-common-protos==1.52.0\n",
            "\u001b[?25l  Downloading https://files.pythonhosted.org/packages/03/74/3956721ea1eb4bcf7502a311fdaa60b85bd751de4e57d1943afe9b334141/googleapis_common_protos-1.52.0-py2.py3-none-any.whl (100kB)\n",
            "\u001b[K     |████████████████████████████████| 102kB 11.5MB/s \n",
            "\u001b[?25hRequirement already satisfied: werkzeug>=0.11.15 in /usr/local/lib/python3.7/dist-packages (from tensorboard~=2.4->tensorflow==2.4.1) (1.0.1)\n",
            "Requirement already satisfied: requests<3,>=2.21.0 in /usr/local/lib/python3.7/dist-packages (from tensorboard~=2.4->tensorflow==2.4.1) (2.23.0)\n",
            "Requirement already satisfied: tensorboard-plugin-wit>=1.6.0 in /usr/local/lib/python3.7/dist-packages (from tensorboard~=2.4->tensorflow==2.4.1) (1.8.0)\n",
            "Requirement already satisfied: setuptools>=41.0.0 in /usr/local/lib/python3.7/dist-packages (from tensorboard~=2.4->tensorflow==2.4.1) (57.0.0)\n",
            "Requirement already satisfied: markdown>=2.6.8 in /usr/local/lib/python3.7/dist-packages (from tensorboard~=2.4->tensorflow==2.4.1) (3.3.4)\n",
            "Requirement already satisfied: tensorboard-data-server<0.7.0,>=0.6.0 in /usr/local/lib/python3.7/dist-packages (from tensorboard~=2.4->tensorflow==2.4.1) (0.6.1)\n",
            "Requirement already satisfied: google-auth-oauthlib<0.5,>=0.4.1 in /usr/local/lib/python3.7/dist-packages (from tensorboard~=2.4->tensorflow==2.4.1) (0.4.4)\n",
            "Requirement already satisfied: pytz in /usr/local/lib/python3.7/dist-packages (from google-api-core==1.21.0->tensorflow_quantum) (2018.9)\n",
            "Requirement already satisfied: mpmath>=0.19 in /usr/local/lib/python3.7/dist-packages (from sympy==1.5->tensorflow_quantum) (1.2.1)\n",
            "Collecting cirq-google==0.11.0\n",
            "\u001b[?25l  Downloading https://files.pythonhosted.org/packages/1e/e5/72b14d2ab702184335884f05e0726f7d824483ebee2d9055b01d1f69841f/cirq_google-0.11.0-py3-none-any.whl (380kB)\n",
            "\u001b[K     |████████████████████████████████| 389kB 50.0MB/s \n",
            "\u001b[?25hCollecting cirq-core==0.11.0\n",
            "\u001b[?25l  Downloading https://files.pythonhosted.org/packages/2f/e1/e1d174f037b3019979114155dcd9257883316bfc105a5fab360e3349d9e7/cirq_core-0.11.0-py3-none-any.whl (1.5MB)\n",
            "\u001b[K     |████████████████████████████████| 1.5MB 50.8MB/s \n",
            "\u001b[?25hRequirement already satisfied: rsa<5,>=3.1.4; python_version >= \"3\" in /usr/local/lib/python3.7/dist-packages (from google-auth==1.18.0->tensorflow_quantum) (4.7.2)\n",
            "Requirement already satisfied: cachetools<5.0,>=2.0.0 in /usr/local/lib/python3.7/dist-packages (from google-auth==1.18.0->tensorflow_quantum) (4.2.2)\n",
            "Requirement already satisfied: pyasn1-modules>=0.2.1 in /usr/local/lib/python3.7/dist-packages (from google-auth==1.18.0->tensorflow_quantum) (0.2.8)\n",
            "Requirement already satisfied: chardet<4,>=3.0.2 in /usr/local/lib/python3.7/dist-packages (from requests<3,>=2.21.0->tensorboard~=2.4->tensorflow==2.4.1) (3.0.4)\n",
            "Requirement already satisfied: urllib3!=1.25.0,!=1.25.1,<1.26,>=1.21.1 in /usr/local/lib/python3.7/dist-packages (from requests<3,>=2.21.0->tensorboard~=2.4->tensorflow==2.4.1) (1.24.3)\n",
            "Requirement already satisfied: certifi>=2017.4.17 in /usr/local/lib/python3.7/dist-packages (from requests<3,>=2.21.0->tensorboard~=2.4->tensorflow==2.4.1) (2021.5.30)\n",
            "Requirement already satisfied: idna<3,>=2.5 in /usr/local/lib/python3.7/dist-packages (from requests<3,>=2.21.0->tensorboard~=2.4->tensorflow==2.4.1) (2.10)\n",
            "Requirement already satisfied: importlib-metadata; python_version < \"3.8\" in /usr/local/lib/python3.7/dist-packages (from markdown>=2.6.8->tensorboard~=2.4->tensorflow==2.4.1) (4.6.0)\n",
            "Requirement already satisfied: requests-oauthlib>=0.7.0 in /usr/local/lib/python3.7/dist-packages (from google-auth-oauthlib<0.5,>=0.4.1->tensorboard~=2.4->tensorflow==2.4.1) (1.3.0)\n",
            "Requirement already satisfied: matplotlib~=3.0 in /usr/local/lib/python3.7/dist-packages (from cirq-core==0.11.0->cirq==0.11.0->tensorflow_quantum) (3.2.2)\n",
            "Requirement already satisfied: scipy in /usr/local/lib/python3.7/dist-packages (from cirq-core==0.11.0->cirq==0.11.0->tensorflow_quantum) (1.4.1)\n",
            "Requirement already satisfied: pandas in /usr/local/lib/python3.7/dist-packages (from cirq-core==0.11.0->cirq==0.11.0->tensorflow_quantum) (1.1.5)\n",
            "Requirement already satisfied: tqdm in /usr/local/lib/python3.7/dist-packages (from cirq-core==0.11.0->cirq==0.11.0->tensorflow_quantum) (4.41.1)\n",
            "Requirement already satisfied: networkx~=2.4 in /usr/local/lib/python3.7/dist-packages (from cirq-core==0.11.0->cirq==0.11.0->tensorflow_quantum) (2.5.1)\n",
            "Requirement already satisfied: sortedcontainers~=2.0 in /usr/local/lib/python3.7/dist-packages (from cirq-core==0.11.0->cirq==0.11.0->tensorflow_quantum) (2.4.0)\n",
            "Requirement already satisfied: pyasn1>=0.1.3 in /usr/local/lib/python3.7/dist-packages (from rsa<5,>=3.1.4; python_version >= \"3\"->google-auth==1.18.0->tensorflow_quantum) (0.4.8)\n",
            "Requirement already satisfied: zipp>=0.5 in /usr/local/lib/python3.7/dist-packages (from importlib-metadata; python_version < \"3.8\"->markdown>=2.6.8->tensorboard~=2.4->tensorflow==2.4.1) (3.4.1)\n",
            "Requirement already satisfied: oauthlib>=3.0.0 in /usr/local/lib/python3.7/dist-packages (from requests-oauthlib>=0.7.0->google-auth-oauthlib<0.5,>=0.4.1->tensorboard~=2.4->tensorflow==2.4.1) (3.1.1)\n",
            "Requirement already satisfied: pyparsing!=2.0.4,!=2.1.2,!=2.1.6,>=2.0.1 in /usr/local/lib/python3.7/dist-packages (from matplotlib~=3.0->cirq-core==0.11.0->cirq==0.11.0->tensorflow_quantum) (2.4.7)\n",
            "Requirement already satisfied: python-dateutil>=2.1 in /usr/local/lib/python3.7/dist-packages (from matplotlib~=3.0->cirq-core==0.11.0->cirq==0.11.0->tensorflow_quantum) (2.8.1)\n",
            "Requirement already satisfied: kiwisolver>=1.0.1 in /usr/local/lib/python3.7/dist-packages (from matplotlib~=3.0->cirq-core==0.11.0->cirq==0.11.0->tensorflow_quantum) (1.3.1)\n",
            "Requirement already satisfied: cycler>=0.10 in /usr/local/lib/python3.7/dist-packages (from matplotlib~=3.0->cirq-core==0.11.0->cirq==0.11.0->tensorflow_quantum) (0.10.0)\n",
            "Requirement already satisfied: decorator<5,>=4.3 in /usr/local/lib/python3.7/dist-packages (from networkx~=2.4->cirq-core==0.11.0->cirq==0.11.0->tensorflow_quantum) (4.4.2)\n",
            "\u001b[31mERROR: cirq-google 0.11.0 has requirement protobuf~=3.13.0, but you'll have protobuf 3.17.3 which is incompatible.\u001b[0m\n",
            "\u001b[31mERROR: tensorflow-quantum 0.5.1 has requirement protobuf==3.13.0, but you'll have protobuf 3.17.3 which is incompatible.\u001b[0m\n",
            "Installing collected packages: tensorflow-estimator, h5py, gast, grpcio, tensorflow, google-auth, googleapis-common-protos, google-api-core, sympy, cirq-core, cirq-google, cirq, tensorflow-quantum\n",
            "  Found existing installation: tensorflow-estimator 2.5.0\n",
            "    Uninstalling tensorflow-estimator-2.5.0:\n",
            "      Successfully uninstalled tensorflow-estimator-2.5.0\n",
            "  Found existing installation: h5py 3.1.0\n",
            "    Uninstalling h5py-3.1.0:\n",
            "      Successfully uninstalled h5py-3.1.0\n",
            "  Found existing installation: gast 0.4.0\n",
            "    Uninstalling gast-0.4.0:\n",
            "      Successfully uninstalled gast-0.4.0\n",
            "  Found existing installation: grpcio 1.34.1\n",
            "    Uninstalling grpcio-1.34.1:\n",
            "      Successfully uninstalled grpcio-1.34.1\n",
            "  Found existing installation: tensorflow 2.5.0\n",
            "    Uninstalling tensorflow-2.5.0:\n",
            "      Successfully uninstalled tensorflow-2.5.0\n",
            "  Found existing installation: google-auth 1.32.1\n",
            "    Uninstalling google-auth-1.32.1:\n",
            "      Successfully uninstalled google-auth-1.32.1\n",
            "  Found existing installation: googleapis-common-protos 1.53.0\n",
            "    Uninstalling googleapis-common-protos-1.53.0:\n",
            "      Successfully uninstalled googleapis-common-protos-1.53.0\n",
            "  Found existing installation: google-api-core 1.26.3\n",
            "    Uninstalling google-api-core-1.26.3:\n",
            "      Successfully uninstalled google-api-core-1.26.3\n",
            "  Found existing installation: sympy 1.7.1\n",
            "    Uninstalling sympy-1.7.1:\n",
            "      Successfully uninstalled sympy-1.7.1\n",
            "Successfully installed cirq-0.11.0 cirq-core-0.11.0 cirq-google-0.11.0 gast-0.3.3 google-api-core-1.21.0 google-auth-1.18.0 googleapis-common-protos-1.52.0 grpcio-1.32.0 h5py-2.10.0 sympy-1.5 tensorflow-2.4.1 tensorflow-estimator-2.4.0 tensorflow-quantum-0.5.1\n"
          ],
          "name": "stdout"
        },
        {
          "output_type": "display_data",
          "data": {
            "application/vnd.colab-display-data+json": {
              "pip_warning": {
                "packages": [
                  "google"
                ]
              }
            }
          },
          "metadata": {
            "tags": []
          }
        }
      ]
    },
    {
      "cell_type": "markdown",
      "metadata": {
        "id": "jcdPqmJg_3M9"
      },
      "source": [
        "For the two-dimensional transverse field Ising-model (TFIM) on a rectangular lat-tice, the available data sets are 3×3, 4×3, and 4×4 lattice for $g\\in[2.5,3.5]$. To load the data, we use the `tfi_rectangular` function to obtain both the circuits and labels indicating the ordered $(y= 1)$ and disordered $(y=−1)$ phase. Here, we consider the 4×4 lattice."
      ]
    },
    {
      "cell_type": "code",
      "metadata": {
        "colab": {
          "base_uri": "https://localhost:8080/"
        },
        "id": "BrxXTMjU_5Zs",
        "outputId": "242bdab1-a747-4253-fc22-77ede4cec53b"
      },
      "source": [
        "import tensorflow_quantum as tfq\n",
        "import tensorflow as tf\n",
        "import cirq\n",
        "import numpy as np\n",
        "import sympy\n",
        "nspins = 16\n",
        "qubits = cirq.GridQubit.rect(nspins, 1)\n",
        "\n",
        "circuits, labels, _ , add_info = tfq.datasets.tfi_chain(qubits)\n",
        "\n",
        "labels = np.array(labels)\n",
        "print(labels)\n",
        "labels[labels >= 1] = 1.0\n",
        "labels = labels * 2 - 1\n",
        "print(labels)\n",
        "x_train_tfcirc = tfq.convert_to_tensor(circuits)\n"
      ],
      "execution_count": 14,
      "outputs": [
        {
          "output_type": "stream",
          "text": [
            "[0 0 0 0 0 0 0 0 0 0 0 0 0 0 0 0 0 0 0 0 0 0 0 0 0 0 0 0 0 0 0 0 0 0 0 0 0\n",
            " 0 0 0 1 2 2 2 2 2 2 2 2 2 2 2 2 2 2 2 2 2 2 2 2 2 2 2 2 2 2 2 2 2 2 2 2 2\n",
            " 2 2 2 2 2 2 2]\n",
            "[-1 -1 -1 -1 -1 -1 -1 -1 -1 -1 -1 -1 -1 -1 -1 -1 -1 -1 -1 -1 -1 -1 -1 -1\n",
            " -1 -1 -1 -1 -1 -1 -1 -1 -1 -1 -1 -1 -1 -1 -1 -1  1  1  1  1  1  1  1  1\n",
            "  1  1  1  1  1  1  1  1  1  1  1  1  1  1  1  1  1  1  1  1  1  1  1  1\n",
            "  1  1  1  1  1  1  1  1  1]\n"
          ],
          "name": "stdout"
        }
      ]
    },
    {
      "cell_type": "markdown",
      "metadata": {
        "id": "LyLiRo9__-2W"
      },
      "source": [
        "The variable `circuits` now contains 51 quantum circuits that prepare a>0.999 fidelity ground states of the two-dimensional TFIM at the respective order valueg of the model. Next, we add the layers of our hardware efficient ansatz. We parameterize each gate in the classifier individually."
      ]
    },
    {
      "cell_type": "code",
      "metadata": {
        "id": "Nvlhev0iAAQd"
      },
      "source": [
        "def add_layer_nearest_neighbours(circuit, qubits, gate, prefix):\n",
        "    for i, q in enumerate(zip(qubits, qubits[1:])):\n",
        "        symbol = sympy.Symbol(prefix + '-' + str(i))\n",
        "        circuit.append(gate(*q) ** symbol)\n",
        "\n",
        "\n",
        "def add_layer_single(circuit, qubits, gate, prefix):\n",
        "    for i, q in enumerate(qubits):\n",
        "        symbol = sympy.Symbol(prefix + '-' + str(i))\n",
        "        circuit.append(gate(q) ** symbol)\n",
        "\n",
        "def create_quantum_model(N, num_layers):\n",
        "    qubits = cirq.GridQubit.rect(N, 1)\n",
        "    circuit = cirq.Circuit()\n",
        "    for l in range(num_layers):\n",
        "        add_layer_single(circuit, qubits, cirq.X, f\"x_{l}\")\n",
        "        add_layer_nearest_neighbours(circuit, qubits, cirq.XX, f\"xx_{l}\")\n",
        "        add_layer_single(circuit, qubits, cirq.Z, f\"z_{l}\")\n",
        "\n",
        "    readout = [cirq.Z(q) for q in qubits]\n",
        "    return circuit, readout"
      ],
      "execution_count": 3,
      "outputs": []
    },
    {
      "cell_type": "markdown",
      "metadata": {
        "id": "wEVu9_fyAFDW"
      },
      "source": [
        "We can compile the model with other metrics to track during training. In our case, we use thebhinge accuracy to count the number of missclasified datapoints."
      ]
    },
    {
      "cell_type": "code",
      "metadata": {
        "id": "9TeGorcVAHJs"
      },
      "source": [
        "def hinge_accuracy(y_true, y_pred):\n",
        "    y_true = tf.squeeze(y_true) > 0.0\n",
        "    y_pred = tf.squeeze(y_pred) > 0.0\n",
        "    result = tf.cast(y_true == y_pred, tf.float32)\n",
        "\n",
        "    return tf.reduce_mean(result)"
      ],
      "execution_count": 4,
      "outputs": []
    },
    {
      "cell_type": "markdown",
      "metadata": {
        "id": "mXHybAdhmGN_"
      },
      "source": [
        "Finally, we create the model,"
      ]
    },
    {
      "cell_type": "code",
      "metadata": {
        "id": "sGwsM7g7mGOB"
      },
      "source": [
        "circuit, output = create_quantum_model(nspins, 3)"
      ],
      "execution_count": 5,
      "outputs": []
    },
    {
      "cell_type": "markdown",
      "metadata": {
        "id": "rwf746J1AHr1"
      },
      "source": [
        "and seamlessly integrate our quantum classifier into a Keras"
      ]
    },
    {
      "cell_type": "code",
      "metadata": {
        "id": "kxzmvRQX_H0Z"
      },
      "source": [
        "model = tf.keras.Sequential([\n",
        "    tf.keras.layers.Input(shape=(), dtype=tf.string),\n",
        "    tfq.layers.PQC(circuit, output),\n",
        "    tf.keras.layers.Dense(1, activation=tf.keras.activations.tanh)\n",
        "])\n",
        "model.compile(\n",
        "    loss=tf.keras.losses.Hinge(),\n",
        "    optimizer=tf.keras.optimizers.Adam(learning_rate=0.01),\n",
        "    metrics=[hinge_accuracy])"
      ],
      "execution_count": 6,
      "outputs": []
    },
    {
      "cell_type": "markdown",
      "metadata": {
        "id": "lH5Nn9xzmGOE"
      },
      "source": [
        "If we set the maximum number of epochs and batch size,we are ready to fit the model. We add an early stoppingcallback to make sure that training can terminate whenthe loss no longer decreases consistently."
      ]
    },
    {
      "cell_type": "code",
      "metadata": {
        "colab": {
          "base_uri": "https://localhost:8080/"
        },
        "id": "Wo0pcxmZmGOF",
        "outputId": "ce9ff6ca-d10b-419e-f102-745696608635"
      },
      "source": [
        "epochs = 25\n",
        "batch_size = 32\n",
        "\n",
        "qnn_history = model.fit(\n",
        "    x_train_tfcirc, labels,\n",
        "    batch_size=batch_size,\n",
        "    epochs=epochs,\n",
        "    verbose=1,\n",
        "    callbacks=[tf.keras.callbacks.EarlyStopping('loss', patience=5)])\n",
        "\n",
        "predictions = model.predict(x_train_tfcirc)"
      ],
      "execution_count": 8,
      "outputs": [
        {
          "output_type": "stream",
          "text": [
            "Epoch 1/25\n",
            "3/3 [==============================] - 15s 5s/step - loss: 0.1124 - hinge_accuracy: 1.0000\n",
            "Epoch 2/25\n",
            "3/3 [==============================] - 15s 5s/step - loss: 0.1043 - hinge_accuracy: 0.9804\n",
            "Epoch 3/25\n",
            "3/3 [==============================] - 15s 5s/step - loss: 0.0978 - hinge_accuracy: 0.9896\n",
            "Epoch 4/25\n",
            "3/3 [==============================] - 15s 5s/step - loss: 0.0942 - hinge_accuracy: 0.9804\n",
            "Epoch 5/25\n",
            "3/3 [==============================] - 15s 5s/step - loss: 0.0897 - hinge_accuracy: 0.9896\n",
            "Epoch 6/25\n",
            "3/3 [==============================] - 15s 5s/step - loss: 0.0848 - hinge_accuracy: 1.0000\n",
            "Epoch 7/25\n",
            "3/3 [==============================] - 15s 5s/step - loss: 0.0832 - hinge_accuracy: 1.0000\n",
            "Epoch 8/25\n",
            "3/3 [==============================] - 15s 5s/step - loss: 0.0809 - hinge_accuracy: 1.0000\n",
            "Epoch 9/25\n",
            "3/3 [==============================] - 15s 5s/step - loss: 0.0775 - hinge_accuracy: 1.0000\n",
            "Epoch 10/25\n",
            "3/3 [==============================] - 15s 5s/step - loss: 0.0763 - hinge_accuracy: 1.0000\n",
            "Epoch 11/25\n",
            "3/3 [==============================] - 15s 5s/step - loss: 0.0735 - hinge_accuracy: 0.9896\n",
            "Epoch 12/25\n",
            "3/3 [==============================] - 17s 5s/step - loss: 0.0743 - hinge_accuracy: 0.9896\n",
            "Epoch 13/25\n",
            "3/3 [==============================] - 15s 5s/step - loss: 0.0710 - hinge_accuracy: 0.9896\n",
            "Epoch 14/25\n",
            "3/3 [==============================] - 15s 5s/step - loss: 0.0740 - hinge_accuracy: 0.9896\n",
            "Epoch 15/25\n",
            "3/3 [==============================] - 15s 5s/step - loss: 0.0675 - hinge_accuracy: 1.0000\n",
            "Epoch 16/25\n",
            "3/3 [==============================] - 15s 5s/step - loss: 0.0688 - hinge_accuracy: 0.9896\n",
            "Epoch 17/25\n",
            "3/3 [==============================] - 15s 5s/step - loss: 0.0694 - hinge_accuracy: 1.0000\n",
            "Epoch 18/25\n",
            "3/3 [==============================] - 15s 5s/step - loss: 0.0643 - hinge_accuracy: 1.0000\n",
            "Epoch 19/25\n",
            "3/3 [==============================] - 15s 5s/step - loss: 0.0641 - hinge_accuracy: 1.0000\n",
            "Epoch 20/25\n",
            "3/3 [==============================] - 15s 5s/step - loss: 0.0636 - hinge_accuracy: 0.9804\n",
            "Epoch 21/25\n",
            "3/3 [==============================] - 15s 5s/step - loss: 0.0637 - hinge_accuracy: 0.9896\n",
            "Epoch 22/25\n",
            "3/3 [==============================] - 15s 5s/step - loss: 0.0641 - hinge_accuracy: 0.9804\n",
            "Epoch 23/25\n",
            "3/3 [==============================] - 15s 5s/step - loss: 0.0607 - hinge_accuracy: 1.0000\n",
            "Epoch 24/25\n",
            "3/3 [==============================] - 15s 5s/step - loss: 0.0617 - hinge_accuracy: 0.9896\n",
            "Epoch 25/25\n",
            "3/3 [==============================] - 15s 5s/step - loss: 0.0643 - hinge_accuracy: 0.9896\n"
          ],
          "name": "stdout"
        }
      ]
    },
    {
      "cell_type": "markdown",
      "metadata": {
        "id": "iTlp_pmK_MDC"
      },
      "source": [
        "After the model is trained, we can predict the labels of the phases from the model output ̄and visualize how well the model has captured the phase transition. "
      ]
    },
    {
      "cell_type": "code",
      "metadata": {
        "colab": {
          "base_uri": "https://localhost:8080/",
          "height": 674
        },
        "id": "BJBfWQHLmGOG",
        "outputId": "0aecf01d-f31e-4792-a666-0b8dbc49df95"
      },
      "source": [
        "import matplotlib.pyplot as plt\n",
        "\n",
        "fig, axs = plt.subplots(1, 1)\n",
        "fig.set_size_inches(8, 8)\n",
        "cmap = plt.get_cmap('PuOr')\n",
        "labels = []\n",
        "for info in add_info:\n",
        "    labels.append(info.g)\n",
        "x = np.linspace(labels[0], labels[-1], 10)\n",
        "yarr = np.vstack((x,))\n",
        "axs.imshow(yarr, extent=(min(x), max(x), min(predictions), max(predictions)),\n",
        "           cmap=plt.cm.bwr, aspect='auto', alpha=0.25)\n",
        "axs.plot(labels, predictions, linewidth=3, label=f'N = {nspins}', color='red', Marker=\"x\", Markersize = 10)\n",
        "axs.plot([1.0,1.0], [-1., 1.0], linewidth=3, label=f'N = {nspins}', color='gray', Markersize = 10, Linestyle='--')\n",
        "\n",
        "axs.set_xlabel('$g$')\n",
        "axs.set_ylabel('Output Layer')\n",
        "axs.set_ylim([min(predictions), max(predictions)])\n",
        "plt.tight_layout()\n",
        "plt.show()"
      ],
      "execution_count": 15,
      "outputs": [
        {
          "output_type": "stream",
          "text": [
            "/usr/local/lib/python3.7/dist-packages/numpy/core/_asarray.py:83: VisibleDeprecationWarning: Creating an ndarray from ragged nested sequences (which is a list-or-tuple of lists-or-tuples-or ndarrays with different lengths or shapes) is deprecated. If you meant to do this, you must specify 'dtype=object' when creating the ndarray\n",
            "  return array(a, dtype, copy=False, order=order)\n",
            "/usr/local/lib/python3.7/dist-packages/matplotlib/image.py:912: VisibleDeprecationWarning: Creating an ndarray from ragged nested sequences (which is a list-or-tuple of lists-or-tuples-or ndarrays with different lengths or shapes) is deprecated. If you meant to do this, you must specify 'dtype=object' when creating the ndarray\n",
            "  bbox = Bbox(np.array([[x1, y1], [x2, y2]]))\n"
          ],
          "name": "stderr"
        },
        {
          "output_type": "display_data",
          "data": {
            "image/png": "[encoded data removed]",
            "text/plain": [
              "<Figure size 576x576 with 1 Axes>"
            ]
          },
          "metadata": {
            "tags": [],
            "needs_background": "light"
          }
        }
      ]
    },
    {
      "cell_type": "markdown",
      "metadata": {
        "id": "7R3Kyph1mGOG"
      },
      "source": [
        "In this figure, we see that the inflection point at $\\hat{y}=0$ coincides with the phase transition at $g=1.0$, as expected. "
      ]
    },
    {
      "cell_type": "code",
      "metadata": {
        "id": "U8LAr5XtmGOH"
      },
      "source": [
        ""
      ],
      "execution_count": null,
      "outputs": []
    }
  ]
}