{
 "cells": [
  {
   "cell_type": "code",
   "execution_count": null,
   "metadata": {
    "colab": {
     "base_uri": "https://localhost:8080/",
     "height": 1000
    },
    "id": "juiBD2rn_O15",
    "outputId": "a283d24b-e097-450b-c4ef-bee9051c505e"
   },
   "outputs": [],
   "source": [
    "pip install tensorflow==2.4.1 tensorflow_quantum"
   ]
  },
  {
   "cell_type": "markdown",
   "metadata": {
    "id": "jcdPqmJg_3M9"
   },
   "source": [
    "Load data (We do 1D TFIM chain since 2D data not in this version of TFQ or nightly)"
   ]
  },
  {
   "cell_type": "code",
   "execution_count": null,
   "metadata": {
    "colab": {
     "base_uri": "https://localhost:8080/"
    },
    "id": "BrxXTMjU_5Zs",
    "outputId": "6c4bb2e4-60a6-4adf-e569-b264d7570a7a"
   },
   "outputs": [],
   "source": [
    "import tensorflow_quantum as tfq\n",
    "import tensorflow as tf\n",
    "import cirq\n",
    "import numpy as np\n",
    "import sympy\n",
    "nspins = 16\n",
    "qubits = cirq.GridQubit.rect(nspins, 1)\n",
    "\n",
    "circuits, labels, _, _ = tfq.datasets.tfi_chain(qubits)\n",
    "\n",
    "labels = np.array(labels)\n",
    "print(labels)\n",
    "labels[labels >= 1] = 1.0\n",
    "labels = labels * 2 - 1\n",
    "print(labels)\n",
    "x_train_tfcirc = tfq.convert_to_tensor(circuits)\n"
   ]
  },
  {
   "cell_type": "markdown",
   "metadata": {
    "id": "LyLiRo9__-2W"
   },
   "source": [
    "Create quantum classifier"
   ]
  },
  {
   "cell_type": "code",
   "execution_count": null,
   "metadata": {
    "id": "Nvlhev0iAAQd"
   },
   "outputs": [],
   "source": [
    "def add_layer_nearest_neighbours(circuit, qubits, gate, prefix):\n",
    "    for i, q in enumerate(zip(qubits, qubits[1:])):\n",
    "        symbol = sympy.Symbol(prefix + '-' + str(i))\n",
    "        circuit.append(gate(*q) ** symbol)\n",
    "\n",
    "\n",
    "def add_layer_single(circuit, qubits, gate, prefix):\n",
    "    for i, q in enumerate(qubits):\n",
    "        symbol = sympy.Symbol(prefix + '-' + str(i))\n",
    "        circuit.append(gate(q) ** symbol)\n",
    "\n",
    "\n",
    "def create_quantum_model(N, num_layers):\n",
    "    qubits = cirq.GridQubit.rect(N, 1)\n",
    "    circuit = cirq.Circuit()\n",
    "    for l in range(num_layers):\n",
    "        add_layer_single(circuit, qubits, cirq.X, f\"x_{l}\")\n",
    "        add_layer_nearest_neighbours(circuit, qubits, cirq.XX, f\"xx_{l}\")\n",
    "        add_layer_single(circuit, qubits, cirq.Z, f\"z_{l}\")\n",
    "\n",
    "    readout = [cirq.Z(q) for q in qubits]\n",
    "    return circuit, readout"
   ]
  },
  {
   "cell_type": "markdown",
   "metadata": {
    "id": "wEVu9_fyAFDW"
   },
   "source": [
    "Define Hinge loss"
   ]
  },
  {
   "cell_type": "code",
   "execution_count": null,
   "metadata": {
    "id": "9TeGorcVAHJs"
   },
   "outputs": [],
   "source": [
    "def hinge_accuracy(y_true, y_pred):\n",
    "    y_true = tf.squeeze(y_true) > 0.0\n",
    "    y_pred = tf.squeeze(y_pred) > 0.0\n",
    "    result = tf.cast(y_true == y_pred, tf.float32)\n",
    "\n",
    "    return tf.reduce_mean(result)\n"
   ]
  },
  {
   "cell_type": "markdown",
   "metadata": {
    "id": "rwf746J1AHr1"
   },
   "source": [
    "Run optimization"
   ]
  },
  {
   "cell_type": "code",
   "execution_count": null,
   "metadata": {
    "colab": {
     "base_uri": "https://localhost:8080/",
     "height": 416
    },
    "id": "kxzmvRQX_H0Z",
    "outputId": "a64ffb35-59e2-4542-ca4c-4ac45a8482f4"
   },
   "outputs": [],
   "source": [
    "circuit, output = create_quantum_model(nspins, 3)\n",
    "\n",
    "model = tf.keras.Sequential([\n",
    "    tf.keras.layers.Input(shape=(), dtype=tf.string),\n",
    "    tfq.layers.PQC(circuit, output),\n",
    "    tf.keras.layers.Dense(1, activation=tf.keras.activations.tanh)\n",
    "])\n",
    "model.compile(\n",
    "    loss=tf.keras.losses.Hinge(),\n",
    "    optimizer=tf.keras.optimizers.Adam(learning_rate=0.01),\n",
    "    metrics=[hinge_accuracy])\n",
    "\n",
    "epochs = 150\n",
    "batch_size = 32\n",
    "\n",
    "qnn_history = model.fit(\n",
    "    x_train_tfcirc, labels,\n",
    "    batch_size=batch_size,\n",
    "    epochs=epochs,\n",
    "    verbose=1,\n",
    "    callbacks=[tf.keras.callbacks.EarlyStopping('loss', patience=5)])\n",
    "\n",
    "predictions = model.predict(x_train_tfcirc)"
   ]
  },
  {
   "cell_type": "code",
   "execution_count": null,
   "metadata": {
    "id": "iTlp_pmK_MDC"
   },
   "outputs": [],
   "source": []
  }
 ],
 "metadata": {
  "colab": {
   "name": "phase_classification.ipynb",
   "provenance": []
  },
  "kernelspec": {
   "display_name": "Python 3",
   "language": "python",
   "name": "python3"
  },
  "language_info": {
   "codemirror_mode": {
    "name": "ipython",
    "version": 3
   },
   "file_extension": ".py",
   "mimetype": "text/x-python",
   "name": "python",
   "nbconvert_exporter": "python",
   "pygments_lexer": "ipython3",
   "version": "3.5.2"
  }
 },
 "nbformat": 4,
 "nbformat_minor": 1
}
