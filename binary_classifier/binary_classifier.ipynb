{
  "nbformat": 4,
  "nbformat_minor": 0,
  "metadata": {
    "colab": {
      "name": "TFQ_Example_BinaryClassifier.ipynb",
      "provenance": [],
      "collapsed_sections": [],
      "toc_visible": true
    },
    "kernelspec": {
      "name": "python3",
      "display_name": "Python 3"
    }
  },
  "cells": [
    {
      "cell_type": "markdown",
      "metadata": {
        "id": "mFq2aRw_w3cL",
        "colab_type": "text"
      },
      "source": [
        "##### Copyright 2020 The TensorFlow Quantum Authors."
      ]
    },
    {
      "cell_type": "code",
      "metadata": {
        "id": "eOzjTj_JxBnv",
        "colab_type": "code",
        "colab": {}
      },
      "source": [
        "#@title Licensed under the Apache License, Version 2.0 (the \"License\");\n",
        "# you may not use this file except in compliance with the License.\n",
        "# You may obtain a copy of the License at\n",
        "#\n",
        "# https://www.apache.org/licenses/LICENSE-2.0\n",
        "#\n",
        "# Unless required by applicable law or agreed to in writing, software\n",
        "# distributed under the License is distributed on an \"AS IS\" BASIS,\n",
        "# WITHOUT WARRANTIES OR CONDITIONS OF ANY KIND, either express or implied.\n",
        "# See the License for the specific language governing permissions and\n",
        "# limitations under the License."
      ],
      "execution_count": 0,
      "outputs": []
    },
    {
      "cell_type": "markdown",
      "metadata": {
        "id": "Lusn46uoyCcv",
        "colab_type": "text"
      },
      "source": [
        "# Binary classification of quantum states\n",
        "\n",
        "Author : Antonio J. Martinez\n",
        "\n",
        "Contributors : Masoud Mohseni\n",
        "\n",
        "Created : 2020-Feb-14\n",
        "\n",
        "Last updated : 2020-Feb-29"
      ]
    },
    {
      "cell_type": "markdown",
      "metadata": {
        "id": "O8hXbFbkv_D_",
        "colab_type": "text"
      },
      "source": [
        "[![Open In Colab](https://colab.research.google.com/assets/colab-badge.svg)](https://colab.research.google.com/github/tensorflow/quantum/blob/research/binary_classifier/binary_classifier.ipynb)"
      ]
    },
    {
      "cell_type": "markdown",
      "metadata": {
        "id": "2j5_tMNP12Mq",
        "colab_type": "text"
      },
      "source": [
        "An elementary learning task is [binary classification](https://en.wikipedia.org/wiki/Binary_classification), a supervised task in which the learner is to distinguish which of two classes a given datapoint has been drawn from.  Here, using ideas from the paper [Universal discriminative quantum neural networks](https://arxiv.org/abs/1805.08654) in the one-qubit setting, we train a hybrid quantum-classical neural network to distinguish between quantum data sources."
      ]
    },
    {
      "cell_type": "markdown",
      "metadata": {
        "id": "IrWw_xv4fs44",
        "colab_type": "text"
      },
      "source": [
        "## Import dependencies"
      ]
    },
    {
      "cell_type": "code",
      "metadata": {
        "id": "1eVDbG_2ZhMe",
        "colab_type": "code",
        "colab": {}
      },
      "source": [
        "!pip install --upgrade cirq==0.7.0"
      ],
      "execution_count": 0,
      "outputs": []
    },
    {
      "cell_type": "code",
      "metadata": {
        "id": "rFqxhKypZoSJ",
        "colab_type": "code",
        "colab": {}
      },
      "source": [
        "!pip install --upgrade tensorflow==2.1.0\n",
        "!pip install qutip"
      ],
      "execution_count": 0,
      "outputs": []
    },
    {
      "cell_type": "code",
      "metadata": {
        "id": "xcDb1zbSdXKi",
        "colab_type": "code",
        "colab": {}
      },
      "source": [
        "!pip install tensorflow-quantum"
      ],
      "execution_count": 0,
      "outputs": []
    },
    {
      "cell_type": "code",
      "metadata": {
        "id": "kW2sb1rAfhwt",
        "colab_type": "code",
        "colab": {}
      },
      "source": [
        "import cirq\n",
        "import numpy as np\n",
        "import qutip\n",
        "import random\n",
        "import sympy\n",
        "import tensorflow as tf\n",
        "import tensorflow_quantum as tfq\n",
        "\n",
        "# visualization tools\n",
        "%matplotlib inline\n",
        "import matplotlib.pyplot as plt\n",
        "from cirq.contrib.svg import SVGCircuit"
      ],
      "execution_count": 0,
      "outputs": []
    },
    {
      "cell_type": "markdown",
      "metadata": {
        "id": "Hd1mo09k1Dt3",
        "colab_type": "text"
      },
      "source": [
        "## Quantum dataset\n",
        "For our quantum dataset, you will generate two blobs on the surface of the Bloch sphere.  The task will be to learn a model to distinguish members of these blobs.  To do this, you first select two axes in the X-Z plane of the block sphere, then select random points uniformly distributed around them:"
      ]
    },
    {
      "cell_type": "code",
      "metadata": {
        "id": "FUEawr8o1C2g",
        "colab_type": "code",
        "colab": {}
      },
      "source": [
        "def generate_dataset(qubit, theta_a, theta_b, num_samples):\n",
        "  \"\"\"Generate a dataset of points on `qubit` near the two given angles; labels\n",
        "  for the two clusters use a one-hot encoding.\n",
        "  \"\"\"\n",
        "  q_data = []\n",
        "  bloch = {\"a\": [[], [], []], \"b\": [[], [], []]}\n",
        "  labels = []\n",
        "  blob_size = abs(theta_a - theta_b) / 5\n",
        "  for _ in range(num_samples):\n",
        "    coin = random.random()\n",
        "    spread_x = np.random.uniform(-blob_size, blob_size)\n",
        "    spread_y = np.random.uniform(-blob_size, blob_size)\n",
        "    if coin < 0.5:\n",
        "      label = [1, 0]\n",
        "      angle = theta_a + spread_y\n",
        "      source = \"a\"\n",
        "    else:\n",
        "      label = [0, 1]\n",
        "      angle = theta_b + spread_y\n",
        "      source = \"b\"\n",
        "    labels.append(label)\n",
        "    q_data.append(cirq.Circuit(cirq.ry(-angle)(qubit), cirq.rx(-spread_x)(qubit)))\n",
        "    bloch[source][0].append(np.cos(angle))\n",
        "    bloch[source][1].append(np.sin(angle)*np.sin(spread_x))\n",
        "    bloch[source][2].append(np.sin(angle)*np.cos(spread_x))\n",
        "  return tfq.convert_to_tensor(q_data), np.array(labels), bloch"
      ],
      "execution_count": 0,
      "outputs": []
    },
    {
      "cell_type": "markdown",
      "metadata": {
        "id": "5Y4Mr9SiF_AG",
        "colab_type": "text"
      },
      "source": [
        "Generate the dataset:"
      ]
    },
    {
      "cell_type": "code",
      "metadata": {
        "id": "o8u98FpJGCoq",
        "colab_type": "code",
        "colab": {}
      },
      "source": [
        "qubit = cirq.GridQubit(0, 0)\n",
        "theta_a = 1\n",
        "theta_b = 4\n",
        "num_samples = 200\n",
        "q_data, labels, bloch_p = generate_dataset(qubit, theta_a, theta_b, num_samples)"
      ],
      "execution_count": 0,
      "outputs": []
    },
    {
      "cell_type": "markdown",
      "metadata": {
        "id": "kFRlGAMoHMya",
        "colab_type": "text"
      },
      "source": [
        "View the data set on the Bloch sphere:"
      ]
    },
    {
      "cell_type": "code",
      "metadata": {
        "id": "GC37TFXdHMB1",
        "colab_type": "code",
        "outputId": "01a50089-5f97-47ef-f468-09bab0e4f5d3",
        "colab": {
          "base_uri": "https://localhost:8080/",
          "height": 391
        }
      },
      "source": [
        "bloch = qutip.Bloch()\n",
        "bloch.sphere_alpha = 0.0\n",
        "bloch.frame_alpha = 0.05\n",
        "bloch.vector_color[0] = bloch.point_color[0] = \"#a4c2f4ff\"\n",
        "bloch.vector_color[1] = bloch.point_color[1] = \"#ffab40ff\"\n",
        "bloch.add_points(bloch_p[\"a\"])\n",
        "bloch.add_points(bloch_p[\"b\"])\n",
        "vec = [[np.cos(theta_a),0,np.sin(theta_a)]]\n",
        "bloch.add_vectors(vec)\n",
        "vec = [[np.cos(theta_b),0,np.sin(theta_b)]]\n",
        "bloch.add_vectors(vec)\n",
        "bloch.show()"
      ],
      "execution_count": 0,
      "outputs": [
        {
          "output_type": "display_data",
          "data": {
            "image/png": "[encoded data removed]",
            "text/plain": [
              "<Figure size 360x360 with 1 Axes>"
            ]
          },
          "metadata": {
            "tags": []
          }
        }
      ]
    },
    {
      "cell_type": "markdown",
      "metadata": {
        "id": "aAd2wxWq7JV2",
        "colab_type": "text"
      },
      "source": [
        "## Model\n",
        "\n",
        "We will use a parameterized rotation about the Y axis followed by a Z-axis measurement as the quantum portion of our model.  For the classical portion, we will use a two-unit SoftMax which should learn to distinguish the measurement statistics of the two datasources.  Finally, we compile the model with [standard optimizer settings](https://www.tensorflow.org/tutorials/keras/classification) for classification.  Note that the classical NN outputs represent the network's predicted probability that the given datapoint is a member of each category."
      ]
    },
    {
      "cell_type": "code",
      "metadata": {
        "id": "BRwBx06m8TAU",
        "colab_type": "code",
        "colab": {}
      },
      "source": [
        "# Build the quantum model layer\n",
        "theta = sympy.Symbol('theta')\n",
        "q_model = cirq.Circuit(cirq.ry(theta)(qubit))\n",
        "q_data_input = tf.keras.Input(\n",
        "    shape=(), dtype=tf.dtypes.string)\n",
        "expectation = tfq.layers.PQC(q_model, cirq.Z(qubit))\n",
        "expectation_output = expectation(q_data_input)\n",
        "\n",
        "# Attach the classical SoftMax classifier\n",
        "classifier = tf.keras.layers.Dense(2, activation=tf.keras.activations.softmax)\n",
        "classifier_output = classifier(expectation_output)\n",
        "model = tf.keras.Model(inputs=q_data_input, outputs=classifier_output)\n",
        "\n",
        "# Standard compilation for classification\n",
        "model.compile(optimizer=tf.keras.optimizers.Adam(learning_rate=0.1),\n",
        "              loss=tf.keras.losses.CategoricalCrossentropy())\n",
        "tf.keras.utils.plot_model(model, show_shapes=True, dpi=70)"
      ],
      "execution_count": 0,
      "outputs": []
    },
    {
      "cell_type": "markdown",
      "metadata": {
        "id": "XwrqFXytI9Xn",
        "colab_type": "text"
      },
      "source": [
        "## Training\n",
        "\n",
        "The model is trained on our quantum data and label inputs:"
      ]
    },
    {
      "cell_type": "code",
      "metadata": {
        "id": "xIRk7vvzJByB",
        "colab_type": "code",
        "colab": {}
      },
      "source": [
        "history = model.fit(x=q_data, y=labels, epochs=50, verbose=0)"
      ],
      "execution_count": 0,
      "outputs": []
    },
    {
      "cell_type": "markdown",
      "metadata": {
        "id": "kn0aBzBZKkDw",
        "colab_type": "text"
      },
      "source": [
        "We can view the loss history to see that the model has been correctly trained:"
      ]
    },
    {
      "cell_type": "code",
      "metadata": {
        "id": "XRztm4ilJF05",
        "colab_type": "code",
        "colab": {}
      },
      "source": [
        "plt.plot(history.history['loss'])\n",
        "plt.title(\"Learning to classify quantum data\")\n",
        "plt.xlabel(\"Iterations\")\n",
        "plt.ylabel(\"Error in classification\")\n",
        "plt.show()\n",
        "print(\"Final loss value:\")\n",
        "print(history.history[\"loss\"][-1])"
      ],
      "execution_count": 0,
      "outputs": []
    },
    {
      "cell_type": "markdown",
      "metadata": {
        "id": "9b8Y5KM2iFto",
        "colab_type": "text"
      },
      "source": [
        "Now we test how well our model performs on a sample.  Notice that the network has high probability for predicting the correct state, even though the variation in the data was significant."
      ]
    },
    {
      "cell_type": "code",
      "metadata": {
        "id": "fG4YpLF_iAet",
        "colab_type": "code",
        "colab": {}
      },
      "source": [
        "test_data, _, _ = generate_dataset(qubit, theta_a, theta_b, 1)\n",
        "p = model.predict(test_data)[0]\n",
        "print(f\"prob(a)={p[0]:.4f}, prob(b)={p[1]:.4f}\")"
      ],
      "execution_count": 0,
      "outputs": []
    }
  ]
}