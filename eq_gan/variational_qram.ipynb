{
  "nbformat": 4,
  "nbformat_minor": 0,
  "metadata": {
    "colab": {
      "name": "variational_qram.ipynb",
      "provenance": [],
      "collapsed_sections": []
    },
    "kernelspec": {
      "name": "python3",
      "display_name": "Python 3"
    },
    "language_info": {
      "name": "python"
    }
  },
  "cells": [
    {
      "cell_type": "markdown",
      "metadata": {
        "id": "f0_gMI4Blbe8"
      },
      "source": [
        "##### Copyright 2021 The TensorFlow Quantum Authors."
      ]
    },
    {
      "cell_type": "code",
      "metadata": {
        "id": "bogCr-sSkXM1"
      },
      "source": [
        "#@title Licensed under the Apache License, Version 2.0 (the \"License\");\n",
        "# you may not use this file except in compliance with the License.\n",
        "# You may obtain a copy of the License at\n",
        "#\n",
        "# https://www.apache.org/licenses/LICENSE-2.0\n",
        "#\n",
        "# Unless required by applicable law or agreed to in writing, software\n",
        "# distributed under the License is distributed on an \"AS IS\" BASIS,\n",
        "# WITHOUT WARRANTIES OR CONDITIONS OF ANY KIND, either express or implied.\n",
        "# See the License for the specific language governing permissions and\n",
        "# limitations under the License."
      ],
      "execution_count": null,
      "outputs": []
    },
    {
      "cell_type": "markdown",
      "metadata": {
        "id": "fG6bs-jI_Ssm"
      },
      "source": [
        "# Variational quantum memory for training quantum neural networks\n",
        "\n",
        "Author : Alexander Zlokapa\n",
        "\n",
        "Created : 2021-Jun-23\n",
        "\n",
        "Last updated : 2021-Jun-23"
      ]
    },
    {
      "cell_type": "markdown",
      "metadata": {
        "id": "vwkA6M5wSfK1"
      },
      "source": [
        "In this tutorial, we use a shallow circuit prepared by an entangling quantum generative adversarial network ([EQ-GAN](https://arxiv.org/abs/2105.00080)) that loads an entire classical dataset in superposition. Although the dataset representation is *approximate* and does not correspond to an exact superposition, it can be used effectively in quantum machine leanring. In particular, we show how the variational quantum random access memory (QRAM) is a useful primitive to speed up training of a quantum neural network ([QNN](https://arxiv.org/pdf/1802.06002.pdf)) on a classification task."
      ]
    },
    {
      "cell_type": "markdown",
      "metadata": {
        "id": "yKEXl1uVBXkv"
      },
      "source": [
        "## Setup"
      ]
    },
    {
      "cell_type": "markdown",
      "metadata": {
        "id": "FC3jVL4EBZcH"
      },
      "source": [
        "Install TensorFlow and TensorFlow Quantum."
      ]
    },
    {
      "cell_type": "code",
      "metadata": {
        "colab": {
          "base_uri": "https://localhost:8080/"
        },
        "id": "juImyZKkkCX4",
        "outputId": "c3059c97-22d7-44e0-88bd-8394cee15726"
      },
      "source": [
        "!pip install -q tensorflow==2.4.1\n",
        "!pip install -q tensorflow-quantum"
      ],
      "execution_count": null,
      "outputs": [
        {
          "output_type": "stream",
          "text": [
            "\u001b[K     |████████████████████████████████| 394.3MB 35kB/s \n",
            "\u001b[K     |████████████████████████████████| 3.8MB 20.6MB/s \n",
            "\u001b[K     |████████████████████████████████| 471kB 41.0MB/s \n",
            "\u001b[K     |████████████████████████████████| 2.9MB 18.7MB/s \n",
            "\u001b[K     |████████████████████████████████| 7.8MB 5.4MB/s \n",
            "\u001b[K     |████████████████████████████████| 1.3MB 30.4MB/s \n",
            "\u001b[K     |████████████████████████████████| 5.6MB 18.8MB/s \n",
            "\u001b[K     |████████████████████████████████| 102kB 10.4MB/s \n",
            "\u001b[K     |████████████████████████████████| 92kB 9.8MB/s \n",
            "\u001b[K     |████████████████████████████████| 92kB 9.5MB/s \n",
            "\u001b[K     |████████████████████████████████| 389kB 50.0MB/s \n",
            "\u001b[K     |████████████████████████████████| 1.5MB 35.9MB/s \n",
            "\u001b[?25h"
          ],
          "name": "stdout"
        }
      ]
    },
    {
      "cell_type": "markdown",
      "metadata": {
        "id": "pCJCjT0tBeL5"
      },
      "source": [
        "Import the modules required for preparing the data, quantum neural network, and visualization."
      ]
    },
    {
      "cell_type": "code",
      "metadata": {
        "id": "cm1bEEIHkIai"
      },
      "source": [
        "import tensorflow as tf\n",
        "import tensorflow_quantum as tfq\n",
        "\n",
        "import cirq\n",
        "import sympy\n",
        "import numpy as np\n",
        "\n",
        "# visualization tools\n",
        "%matplotlib inline\n",
        "import matplotlib.pyplot as plt\n",
        "from cirq.contrib.svg import SVGCircuit\n",
        "\n",
        "import collections\n",
        "import itertools"
      ],
      "execution_count": null,
      "outputs": []
    },
    {
      "cell_type": "markdown",
      "metadata": {
        "id": "MmzxciZHCAKz"
      },
      "source": [
        "Since TensorFlow Quantum is compatible with a hardware backend, we show how a physical device on Quantum Engine can replace the simulated backend."
      ]
    },
    {
      "cell_type": "code",
      "metadata": {
        "id": "DKRSR2KPkZwW"
      },
      "source": [
        "hardware_backend = False\n",
        "\n",
        "if hardware_backend:\n",
        "    project_id = 'PROJECT_ID'\n",
        "    engine = cirq.google.Engine(project_id=project_id)\n",
        "    testsamplerxmon_rainbow = engine.sampler(processor_id=['PROCESSOR_ID'], gate_set=cirq.google.XMON)\n",
        "    backend = testsamplerxmon_rainbow\n",
        "else:\n",
        "    backend = None"
      ],
      "execution_count": null,
      "outputs": []
    },
    {
      "cell_type": "markdown",
      "metadata": {
        "id": "nZgfZSN_B60e"
      },
      "source": [
        "## 1 Load variational QRAM\n",
        "\n",
        "### 1.1 Prepare classical dataset\n",
        "We'll prepare a classification dataset with two Gaussian-distributed peaks to demonstrate the variational QRAM. First, the classical dataset is generated."
      ]
    },
    {
      "cell_type": "code",
      "metadata": {
        "id": "hu_aLCkMkS3V"
      },
      "source": [
        "# create 2-peak dataset\n",
        "def create_data(seed, n, dataset_size=100):\n",
        "    np.random.seed(seed)\n",
        "    # sample data from Gaussian\n",
        "    data0_raw = np.random.normal(2**(n-1), scale=2, size=dataset_size)\n",
        "    bins = np.arange(2**n + 1).astype(np.float64)\n",
        "    bins[-1] = np.inf\n",
        "    counts0, _ = np.histogram(data0_raw, bins=bins)\n",
        "    data0 = np.clip(np.floor(data0_raw), 0, 2**n - 1)\n",
        "\n",
        "    data1_raw = np.random.normal(2**(n-2), scale=1, size=dataset_size)\n",
        "    counts1, _ = np.histogram(data1_raw, bins=bins)\n",
        "    data1 = np.clip(np.floor(data1_raw), 0, 2**n - 1)\n",
        "    \n",
        "    return data0, data1"
      ],
      "execution_count": null,
      "outputs": []
    },
    {
      "cell_type": "markdown",
      "metadata": {
        "id": "yCTAO73dFf7s"
      },
      "source": [
        "Let's prepare a dataset of 120 examples over the numbers $\\{0, 1, \\dots, 15\\}$ and visualize the two Gaussian distributions."
      ]
    },
    {
      "cell_type": "code",
      "metadata": {
        "id": "66nm1nmHkk0b"
      },
      "source": [
        "# create circuits from dataset (for sampling)\n",
        "size = 120\n",
        "n = 4 # number of qubits\n",
        "data0, data1 = create_data(0, n, dataset_size=size)"
      ],
      "execution_count": null,
      "outputs": []
    },
    {
      "cell_type": "code",
      "metadata": {
        "colab": {
          "base_uri": "https://localhost:8080/",
          "height": 230
        },
        "id": "4TR1qnyUmHF0",
        "outputId": "b6fdb5ed-dcec-4a7e-c343-1930ec18a07e"
      },
      "source": [
        "bins = np.arange(2**n + 1).astype(np.float64)\n",
        "bins[-1] = np.inf\n",
        "probs0, _ = np.histogram(data0, bins=bins)\n",
        "probs1, _ = np.histogram(data1, bins=bins)\n",
        "\n",
        "print('Classical dataset probabilities')\n",
        "plt.figure(figsize=(3.2, 2.8))\n",
        "plt.scatter(bins[:-1], probs0, label='Class 0')\n",
        "plt.scatter(bins[:-1], probs1, label='Class 1')\n",
        "plt.legend()\n",
        "plt.ylabel('Count')\n",
        "plt.tight_layout()\n",
        "plt.show()"
      ],
      "execution_count": null,
      "outputs": [
        {
          "output_type": "stream",
          "text": [
            "Classical dataset probabilities\n"
          ],
          "name": "stdout"
        },
        {
          "output_type": "display_data",
          "data": {
            "image/png": "[encoded data removed]",
            "text/plain": [
              "<Figure size 230.4x201.6 with 1 Axes>"
            ]
          },
          "metadata": {
            "tags": [],
            "needs_background": "light"
          }
        }
      ]
    },
    {
      "cell_type": "markdown",
      "metadata": {
        "id": "7qEWAzZzDQOM"
      },
      "source": [
        "### 1.2 Prepare approximate QRAM of classical dataset\n",
        "\n",
        "To prepare two quantum states in QRAM — one that represents Class 0 in superposition, and another that represents Class 1 in superposition — we design a shallow variational circuit that can approximate the Gaussian peaks. Qubits are selected for the circuit based on the Rainbow chip hardware. Here, we hard-code the choice of $n=4$ qubits as an example of how to run the generator on physical hardware."
      ]
    },
    {
      "cell_type": "code",
      "metadata": {
        "id": "8pJJsTn5kfwX"
      },
      "source": [
        "# get qubits for a rainbow chip\n",
        "def get_exp_qubits(n, class_type=-1):\n",
        "    # we hard-wire choice of qubits for n = 4 on quantum device\n",
        "    if class_type == 0:\n",
        "        return [cirq.GridQubit(2, 4), cirq.GridQubit(1, 4), cirq.GridQubit(2, 3), cirq.GridQubit(2, 5), cirq.GridQubit(3, 4)]\n",
        "    elif class_type == 1:\n",
        "        return [cirq.GridQubit(1, 4), cirq.GridQubit(2, 4), cirq.GridQubit(2, 3), cirq.GridQubit(2, 5), cirq.GridQubit(3, 4)]\n",
        "    else:\n",
        "        return [cirq.GridQubit(3, 4), cirq.GridQubit(1, 4), cirq.GridQubit(2, 3), cirq.GridQubit(2, 5), cirq.GridQubit(2, 4)]"
      ],
      "execution_count": null,
      "outputs": []
    },
    {
      "cell_type": "markdown",
      "metadata": {
        "id": "fC-kKtiKEWqD"
      },
      "source": [
        "As a variational ansatz for generating the two-peak dataset, we use the concatenated double-exponential peaks proposed by [Klco and Savage](https://journals.aps.org/pra/abstract/10.1103/PhysRevA.102.012612). Although the resulting distribution represented by the quantum circuit is not Gaussian, the shallow depth of the circuit ensures fewer errors due to noise. In the era of noisy intermediate-scale quantum (NISQ) devices, the error of representing the approximate distribution with a shallow circuit is likely smaller than the error introduced by representing the exact distribution with a deep circuit. Hence, the EQ-GAN can generate a variational QRAM useful for near-term quantum machine learning applications."
      ]
    },
    {
      "cell_type": "code",
      "metadata": {
        "id": "GMYrxM9dkWew"
      },
      "source": [
        "# EQ-GAN generator for double exponential peaks\n",
        "def build_qnn(qubits, model_type):\n",
        "    n = len(qubits)\n",
        "    u = []\n",
        "    angles = []\n",
        "    if model_type == 0:\n",
        "        center = 0\n",
        "        j = 0\n",
        "        for i in range(n):\n",
        "            if i == center:\n",
        "                u.extend([cirq.Y(qubits[i])**0.5, cirq.X(qubits[i])])\n",
        "            else:\n",
        "                theta = sympy.Symbol('t' + str(i))\n",
        "                angles.append(theta)\n",
        "                u.append(cirq.ry(2*theta).on(qubits[i]))\n",
        "                j += 1\n",
        "        for i in range(n):\n",
        "            if i != center:\n",
        "                u.extend([cirq.Y(qubits[i])**0.5, cirq.X(qubits[i]),\n",
        "                                            cirq.CZ(qubits[center], qubits[i]),\n",
        "                                            cirq.Y(qubits[i])**0.5, cirq.X(qubits[i])])\n",
        "        circuit = cirq.Circuit(u)\n",
        "    elif model_type == 1:\n",
        "        j = 0\n",
        "        center = 1\n",
        "        u.append(cirq.I.on(qubits[0]))\n",
        "        for i in range(1, n):\n",
        "            if i == center:\n",
        "                u.extend([cirq.Y(qubits[i])**0.5, cirq.X(qubits[i])])\n",
        "            else:\n",
        "                theta = sympy.Symbol('t' + str(i))\n",
        "                angles.append(theta)\n",
        "                u.append(cirq.ry(2*theta).on(qubits[i]))\n",
        "                j += 1\n",
        "        for i in range(1, n):\n",
        "            if i != center:\n",
        "                u.extend([cirq.Y(qubits[i])**0.5, cirq.X(qubits[i]),\n",
        "                                            cirq.CZ(qubits[center], qubits[i]),\n",
        "                                            cirq.Y(qubits[i])**0.5, cirq.X(qubits[i])])\n",
        "        circuit = cirq.Circuit(u)\n",
        "    return circuit, angles"
      ],
      "execution_count": null,
      "outputs": []
    },
    {
      "cell_type": "markdown",
      "metadata": {
        "id": "fJLA7_JQCX4a"
      },
      "source": [
        "For simplicity, we will use the parameters learned by a previously trained EQ-GAN. For a tutorial on how to train the EQ-GAN, see \"Learning to supress noise with an entangling quantum generative adversarial network (EQ-GAN).\" To keep everything hardware-friendly, the swap test is also decomposed into the native gate basis."
      ]
    },
    {
      "cell_type": "code",
      "metadata": {
        "id": "Vqk7Z209kjEG"
      },
      "source": [
        "# do a swap gate with CZ between q0 and q1\n",
        "def compiled_swap(q0, q1):\n",
        "    u = []\n",
        "    u.extend([cirq.X(q0)**0.5])\n",
        "    u.extend([cirq.Z(q1)**-0.5, cirq.X(q1)**0.5, cirq.Z(q1)**0.5])\n",
        "    u.append(cirq.CZ(q0, q1))\n",
        "    u.extend([cirq.Z(q0)**-1, cirq.X(q0)**0.5, cirq.Z(q0)**1])\n",
        "    u.extend([cirq.Z(q1)**-1.5, cirq.X(q1)**0.5, cirq.Z(q1)**1.5])\n",
        "    u.append(cirq.CZ(q0, q1))\n",
        "    u.extend([cirq.X(q0)**0.5])\n",
        "    u.extend([cirq.Z(q1)**-0.5, cirq.X(q1)**0.5, cirq.Z(q1)**0.5])\n",
        "    u.append(cirq.CZ(q0, q1))\n",
        "    u.extend([cirq.Z(q0)**-0.5])\n",
        "    u.extend([cirq.Z(q1)**0.5])\n",
        "    return cirq.Circuit(u)\n",
        "\n",
        "# get a learned circuit for a given dataset\n",
        "def get_model(n, class_type):\n",
        "    # pre-trained weights from EQ-GAN on exactly the same training set\n",
        "    # QRAM is trained from 60 examples (half of the size = 120)\n",
        "    all_weights = [[1.3459893, 1.0012823, 0.94282967], [4.7395287, 0.96802247]]\n",
        "\n",
        "    qubits = get_exp_qubits(n, class_type)\n",
        "    qnn, symbols = build_qnn(qubits[:-1], class_type)\n",
        "    resolver = {}\n",
        "    for i in range(len(symbols)):\n",
        "        resolver[symbols[i]] = all_weights[class_type][i]\n",
        "    resolved_qnn = cirq.resolve_parameters(qnn, resolver)\n",
        "\n",
        "    all_qubits = get_exp_qubits(n)\n",
        "    resolved_qnn += compiled_swap(all_qubits[0], all_qubits[-1])\n",
        "    return resolved_qnn"
      ],
      "execution_count": null,
      "outputs": []
    },
    {
      "cell_type": "markdown",
      "metadata": {
        "id": "Z-W1-eELFvjh"
      },
      "source": [
        "We can view the variational circuits that represent a superposition over data within a given peak (Class 0 or Class 1). These are much shallower than the exponential-length circuits required to store an exact superposition of the dataset's bitstrings! Similarly, the quantum circuit required to prepare a Gaussian distribution (instead of the double-peak ansatz of Klco and Savage) requires an exponential number of $CZ$ gates when decomposed onto a planar architecture in the native gate basis. Hence, these shallow circuit representations provide very efficient representations of the dataset."
      ]
    },
    {
      "cell_type": "code",
      "metadata": {
        "colab": {
          "base_uri": "https://localhost:8080/",
          "height": 309
        },
        "id": "KwnQH8Qcmx6D",
        "outputId": "a0d644b6-c9fa-4b12-e9aa-c75a8cdd2ce2"
      },
      "source": [
        "SVGCircuit(get_model(n, 0))"
      ],
      "execution_count": null,
      "outputs": [
        {
          "output_type": "stream",
          "text": [
            "findfont: Font family ['Arial'] not found. Falling back to DejaVu Sans.\n"
          ],
          "name": "stderr"
        },
        {
          "output_type": "execute_result",
          "data": {
            "text/plain": [
              "<cirq.contrib.svg.svg.SVGCircuit at 0x7fa3b27d0fd0>"
            ],
            "image/svg+xml": "<svg xmlns=\"http://www.w3.org/2000/svg\" width=\"1523.4755078125\" height=\"250.0\"><line x1=\"34.7588671875\" x2=\"1493.4755078125\" y1=\"25.0\" y2=\"25.0\" stroke=\"#1967d2\" stroke-width=\"1\" /><line x1=\"34.7588671875\" x2=\"1493.4755078125\" y1=\"75.0\" y2=\"75.0\" stroke=\"#1967d2\" stroke-width=\"1\" /><line x1=\"34.7588671875\" x2=\"1493.4755078125\" y1=\"125.0\" y2=\"125.0\" stroke=\"#1967d2\" stroke-width=\"1\" /><line x1=\"34.7588671875\" x2=\"1493.4755078125\" y1=\"175.0\" y2=\"175.0\" stroke=\"#1967d2\" stroke-width=\"1\" /><line x1=\"34.7588671875\" x2=\"1493.4755078125\" y1=\"225.0\" y2=\"225.0\" stroke=\"#1967d2\" stroke-width=\"1\" /><line x1=\"334.9682421875\" x2=\"334.9682421875\" y1=\"25.0\" y2=\"125.0\" stroke=\"black\" stroke-width=\"3\" /><line x1=\"400.64462890625\" x2=\"400.64462890625\" y1=\"75.0\" y2=\"125.0\" stroke=\"black\" stroke-width=\"3\" /><line x1=\"471.99740234374997\" x2=\"471.99740234374997\" y1=\"125.0\" y2=\"175.0\" stroke=\"black\" stroke-width=\"3\" /><line x1=\"872.917734375\" x2=\"872.917734375\" y1=\"125.0\" y2=\"225.0\" stroke=\"black\" stroke-width=\"3\" /><line x1=\"1127.223828125\" x2=\"1127.223828125\" y1=\"125.0\" y2=\"225.0\" stroke=\"black\" stroke-width=\"3\" /><line x1=\"1391.115\" x2=\"1391.115\" y1=\"125.0\" y2=\"225.0\" stroke=\"black\" stroke-width=\"3\" /><rect x=\"10.0\" y=\"5.0\" width=\"49.517734375\" height=\"40\" stroke=\"black\" fill=\"white\" stroke-width=\"0\" /><text x=\"34.7588671875\" y=\"25.0\" dominant-baseline=\"middle\" text-anchor=\"middle\" font-size=\"14px\" font-family=\"Arial\">(1, 4): </text><rect x=\"10.0\" y=\"55.0\" width=\"49.517734375\" height=\"40\" stroke=\"black\" fill=\"white\" stroke-width=\"0\" /><text x=\"34.7588671875\" y=\"75.0\" dominant-baseline=\"middle\" text-anchor=\"middle\" font-size=\"14px\" font-family=\"Arial\">(2, 3): </text><rect x=\"10.0\" y=\"105.0\" width=\"49.517734375\" height=\"40\" stroke=\"black\" fill=\"white\" stroke-width=\"0\" /><text x=\"34.7588671875\" y=\"125.0\" dominant-baseline=\"middle\" text-anchor=\"middle\" font-size=\"14px\" font-family=\"Arial\">(2, 4): </text><rect x=\"10.0\" y=\"155.0\" width=\"49.517734375\" height=\"40\" stroke=\"black\" fill=\"white\" stroke-width=\"0\" /><text x=\"34.7588671875\" y=\"175.0\" dominant-baseline=\"middle\" text-anchor=\"middle\" font-size=\"14px\" font-family=\"Arial\">(2, 5): </text><rect x=\"10.0\" y=\"205.0\" width=\"49.517734375\" height=\"40\" stroke=\"black\" fill=\"white\" stroke-width=\"0\" /><text x=\"34.7588671875\" y=\"225.0\" dominant-baseline=\"middle\" text-anchor=\"middle\" font-size=\"14px\" font-family=\"Arial\">(3, 4): </text><rect x=\"79.517734375\" y=\"105.0\" width=\"84.097734375\" height=\"40\" stroke=\"black\" fill=\"white\" stroke-width=\"1\" /><text x=\"121.56660156250001\" y=\"125.0\" dominant-baseline=\"middle\" text-anchor=\"middle\" font-size=\"14px\" font-family=\"Arial\">Y^0.5</text><rect x=\"79.517734375\" y=\"5.0\" width=\"84.097734375\" height=\"40\" stroke=\"black\" fill=\"white\" stroke-width=\"1\" /><text x=\"121.56660156250001\" y=\"25.0\" dominant-baseline=\"middle\" text-anchor=\"middle\" font-size=\"14px\" font-family=\"Arial\">Ry(0.857π)</text><rect x=\"79.517734375\" y=\"55.0\" width=\"84.097734375\" height=\"40\" stroke=\"black\" fill=\"white\" stroke-width=\"1\" /><text x=\"121.56660156250001\" y=\"75.0\" dominant-baseline=\"middle\" text-anchor=\"middle\" font-size=\"14px\" font-family=\"Arial\">Ry(0.637π)</text><rect x=\"79.517734375\" y=\"155.0\" width=\"84.097734375\" height=\"40\" stroke=\"black\" fill=\"white\" stroke-width=\"1\" /><text x=\"121.56660156250001\" y=\"175.0\" dominant-baseline=\"middle\" text-anchor=\"middle\" font-size=\"14px\" font-family=\"Arial\">Ry(0.6π)</text><rect x=\"183.61546875\" y=\"105.0\" width=\"51.352773437500005\" height=\"40\" stroke=\"black\" fill=\"white\" stroke-width=\"1\" /><text x=\"209.29185546875\" y=\"125.0\" dominant-baseline=\"middle\" text-anchor=\"middle\" font-size=\"18px\" font-family=\"Arial\">X</text><rect x=\"183.61546875\" y=\"5.0\" width=\"51.352773437500005\" height=\"40\" stroke=\"black\" fill=\"white\" stroke-width=\"1\" /><text x=\"209.29185546875\" y=\"25.0\" dominant-baseline=\"middle\" text-anchor=\"middle\" font-size=\"14px\" font-family=\"Arial\">Y^0.5</text><rect x=\"183.61546875\" y=\"55.0\" width=\"51.352773437500005\" height=\"40\" stroke=\"black\" fill=\"white\" stroke-width=\"1\" /><text x=\"209.29185546875\" y=\"75.0\" dominant-baseline=\"middle\" text-anchor=\"middle\" font-size=\"14px\" font-family=\"Arial\">Y^0.5</text><rect x=\"183.61546875\" y=\"155.0\" width=\"51.352773437500005\" height=\"40\" stroke=\"black\" fill=\"white\" stroke-width=\"1\" /><text x=\"209.29185546875\" y=\"175.0\" dominant-baseline=\"middle\" text-anchor=\"middle\" font-size=\"14px\" font-family=\"Arial\">Y^0.5</text><rect x=\"254.96824218749998\" y=\"5.0\" width=\"40\" height=\"40\" stroke=\"black\" fill=\"white\" stroke-width=\"1\" /><text x=\"274.9682421875\" y=\"25.0\" dominant-baseline=\"middle\" text-anchor=\"middle\" font-size=\"18px\" font-family=\"Arial\">X</text><rect x=\"254.96824218749998\" y=\"55.0\" width=\"40\" height=\"40\" stroke=\"black\" fill=\"white\" stroke-width=\"1\" /><text x=\"274.9682421875\" y=\"75.0\" dominant-baseline=\"middle\" text-anchor=\"middle\" font-size=\"18px\" font-family=\"Arial\">X</text><rect x=\"254.96824218749998\" y=\"155.0\" width=\"40\" height=\"40\" stroke=\"black\" fill=\"white\" stroke-width=\"1\" /><text x=\"274.9682421875\" y=\"175.0\" dominant-baseline=\"middle\" text-anchor=\"middle\" font-size=\"18px\" font-family=\"Arial\">X</text><circle cx=\"334.9682421875\" cy=\"125.0\" r=\"10.0\" /><circle cx=\"334.9682421875\" cy=\"25.0\" r=\"10.0\" /><rect x=\"374.9682421875\" y=\"5.0\" width=\"51.352773437500005\" height=\"40\" stroke=\"black\" fill=\"white\" stroke-width=\"1\" /><text x=\"400.64462890625\" y=\"25.0\" dominant-baseline=\"middle\" text-anchor=\"middle\" font-size=\"14px\" font-family=\"Arial\">Y^0.5</text><circle cx=\"400.64462890625\" cy=\"125.0\" r=\"10.0\" /><circle cx=\"400.64462890625\" cy=\"75.0\" r=\"10.0\" /><rect x=\"446.321015625\" y=\"5.0\" width=\"51.352773437500005\" height=\"40\" stroke=\"black\" fill=\"white\" stroke-width=\"1\" /><text x=\"471.99740234374997\" y=\"25.0\" dominant-baseline=\"middle\" text-anchor=\"middle\" font-size=\"18px\" font-family=\"Arial\">X</text><rect x=\"446.321015625\" y=\"55.0\" width=\"51.352773437500005\" height=\"40\" stroke=\"black\" fill=\"white\" stroke-width=\"1\" /><text x=\"471.99740234374997\" y=\"75.0\" dominant-baseline=\"middle\" text-anchor=\"middle\" font-size=\"14px\" font-family=\"Arial\">Y^0.5</text><circle cx=\"471.99740234374997\" cy=\"125.0\" r=\"10.0\" /><circle cx=\"471.99740234374997\" cy=\"175.0\" r=\"10.0\" /><rect x=\"517.6737890625\" y=\"55.0\" width=\"51.352773437500005\" height=\"40\" stroke=\"black\" fill=\"white\" stroke-width=\"1\" /><text x=\"543.35017578125\" y=\"75.0\" dominant-baseline=\"middle\" text-anchor=\"middle\" font-size=\"18px\" font-family=\"Arial\">X</text><rect x=\"517.6737890625\" y=\"155.0\" width=\"51.352773437500005\" height=\"40\" stroke=\"black\" fill=\"white\" stroke-width=\"1\" /><text x=\"543.35017578125\" y=\"175.0\" dominant-baseline=\"middle\" text-anchor=\"middle\" font-size=\"14px\" font-family=\"Arial\">Y^0.5</text><rect x=\"589.0265625\" y=\"155.0\" width=\"40\" height=\"40\" stroke=\"black\" fill=\"white\" stroke-width=\"1\" /><text x=\"609.0265625\" y=\"175.0\" dominant-baseline=\"middle\" text-anchor=\"middle\" font-size=\"18px\" font-family=\"Arial\">X</text><rect x=\"649.0265625\" y=\"205.0\" width=\"51.9455859375\" height=\"40\" stroke=\"black\" fill=\"white\" stroke-width=\"1\" /><text x=\"674.99935546875\" y=\"225.0\" dominant-baseline=\"middle\" text-anchor=\"middle\" font-size=\"14px\" font-family=\"Arial\">X^0.5</text><rect x=\"649.0265625\" y=\"105.0\" width=\"51.9455859375\" height=\"40\" stroke=\"black\" fill=\"white\" stroke-width=\"1\" /><text x=\"674.99935546875\" y=\"125.0\" dominant-baseline=\"middle\" text-anchor=\"middle\" font-size=\"14px\" font-family=\"Arial\">S^-1</text><rect x=\"720.9721484375\" y=\"105.0\" width=\"51.9455859375\" height=\"40\" stroke=\"black\" fill=\"white\" stroke-width=\"1\" /><text x=\"746.94494140625\" y=\"125.0\" dominant-baseline=\"middle\" text-anchor=\"middle\" font-size=\"14px\" font-family=\"Arial\">X^0.5</text><rect x=\"792.917734375\" y=\"105.0\" width=\"40\" height=\"40\" stroke=\"black\" fill=\"white\" stroke-width=\"1\" /><text x=\"812.917734375\" y=\"125.0\" dominant-baseline=\"middle\" text-anchor=\"middle\" font-size=\"18px\" font-family=\"Arial\">S</text><circle cx=\"872.917734375\" cy=\"225.0\" r=\"10.0\" /><circle cx=\"872.917734375\" cy=\"125.0\" r=\"10.0\" /><rect x=\"912.917734375\" y=\"205.0\" width=\"40\" height=\"40\" stroke=\"black\" fill=\"white\" stroke-width=\"1\" /><text x=\"932.917734375\" y=\"225.0\" dominant-baseline=\"middle\" text-anchor=\"middle\" font-size=\"18px\" font-family=\"Arial\">Z</text><rect x=\"912.917734375\" y=\"105.0\" width=\"40\" height=\"40\" stroke=\"black\" fill=\"white\" stroke-width=\"1\" /><text x=\"932.917734375\" y=\"125.0\" dominant-baseline=\"middle\" text-anchor=\"middle\" font-size=\"18px\" font-family=\"Arial\">S</text><rect x=\"972.917734375\" y=\"205.0\" width=\"51.9455859375\" height=\"40\" stroke=\"black\" fill=\"white\" stroke-width=\"1\" /><text x=\"998.89052734375\" y=\"225.0\" dominant-baseline=\"middle\" text-anchor=\"middle\" font-size=\"14px\" font-family=\"Arial\">X^0.5</text><rect x=\"972.917734375\" y=\"105.0\" width=\"51.9455859375\" height=\"40\" stroke=\"black\" fill=\"white\" stroke-width=\"1\" /><text x=\"998.89052734375\" y=\"125.0\" dominant-baseline=\"middle\" text-anchor=\"middle\" font-size=\"14px\" font-family=\"Arial\">X^0.5</text><rect x=\"1044.8633203125\" y=\"205.0\" width=\"42.3605078125\" height=\"40\" stroke=\"black\" fill=\"white\" stroke-width=\"1\" /><text x=\"1066.04357421875\" y=\"225.0\" dominant-baseline=\"middle\" text-anchor=\"middle\" font-size=\"18px\" font-family=\"Arial\">Z</text><rect x=\"1044.8633203125\" y=\"105.0\" width=\"42.3605078125\" height=\"40\" stroke=\"black\" fill=\"white\" stroke-width=\"1\" /><text x=\"1066.04357421875\" y=\"125.0\" dominant-baseline=\"middle\" text-anchor=\"middle\" font-size=\"14px\" font-family=\"Arial\">S^-1</text><circle cx=\"1127.223828125\" cy=\"225.0\" r=\"10.0\" /><circle cx=\"1127.223828125\" cy=\"125.0\" r=\"10.0\" /><rect x=\"1167.223828125\" y=\"205.0\" width=\"51.9455859375\" height=\"40\" stroke=\"black\" fill=\"white\" stroke-width=\"1\" /><text x=\"1193.1966210937499\" y=\"225.0\" dominant-baseline=\"middle\" text-anchor=\"middle\" font-size=\"14px\" font-family=\"Arial\">X^0.5</text><rect x=\"1167.223828125\" y=\"105.0\" width=\"51.9455859375\" height=\"40\" stroke=\"black\" fill=\"white\" stroke-width=\"1\" /><text x=\"1193.1966210937499\" y=\"125.0\" dominant-baseline=\"middle\" text-anchor=\"middle\" font-size=\"14px\" font-family=\"Arial\">S^-1</text><rect x=\"1239.1694140625\" y=\"105.0\" width=\"51.9455859375\" height=\"40\" stroke=\"black\" fill=\"white\" stroke-width=\"1\" /><text x=\"1265.1422070312499\" y=\"125.0\" dominant-baseline=\"middle\" text-anchor=\"middle\" font-size=\"14px\" font-family=\"Arial\">X^0.5</text><rect x=\"1311.115\" y=\"105.0\" width=\"40\" height=\"40\" stroke=\"black\" fill=\"white\" stroke-width=\"1\" /><text x=\"1331.115\" y=\"125.0\" dominant-baseline=\"middle\" text-anchor=\"middle\" font-size=\"18px\" font-family=\"Arial\">S</text><circle cx=\"1391.115\" cy=\"225.0\" r=\"10.0\" /><circle cx=\"1391.115\" cy=\"125.0\" r=\"10.0\" /><rect x=\"1431.115\" y=\"205.0\" width=\"42.3605078125\" height=\"40\" stroke=\"black\" fill=\"white\" stroke-width=\"1\" /><text x=\"1452.29525390625\" y=\"225.0\" dominant-baseline=\"middle\" text-anchor=\"middle\" font-size=\"14px\" font-family=\"Arial\">S^-1</text><rect x=\"1431.115\" y=\"105.0\" width=\"42.3605078125\" height=\"40\" stroke=\"black\" fill=\"white\" stroke-width=\"1\" /><text x=\"1452.29525390625\" y=\"125.0\" dominant-baseline=\"middle\" text-anchor=\"middle\" font-size=\"18px\" font-family=\"Arial\">S</text></svg>"
          },
          "metadata": {
            "tags": []
          },
          "execution_count": 10
        }
      ]
    },
    {
      "cell_type": "code",
      "metadata": {
        "colab": {
          "base_uri": "https://localhost:8080/",
          "height": 290
        },
        "id": "hfjRhV9XnNjV",
        "outputId": "d9bab111-d4a6-4da4-c14c-e39268145ba8"
      },
      "source": [
        "SVGCircuit(get_model(n, 1))"
      ],
      "execution_count": null,
      "outputs": [
        {
          "output_type": "execute_result",
          "data": {
            "text/plain": [
              "<cirq.contrib.svg.svg.SVGCircuit at 0x7fa3bb454290>"
            ],
            "image/svg+xml": "<svg xmlns=\"http://www.w3.org/2000/svg\" width=\"1457.1744921875\" height=\"250.0\"><line x1=\"34.7588671875\" x2=\"1427.1744921875\" y1=\"25.0\" y2=\"25.0\" stroke=\"#1967d2\" stroke-width=\"1\" /><line x1=\"34.7588671875\" x2=\"1427.1744921875\" y1=\"75.0\" y2=\"75.0\" stroke=\"#1967d2\" stroke-width=\"1\" /><line x1=\"34.7588671875\" x2=\"1427.1744921875\" y1=\"125.0\" y2=\"125.0\" stroke=\"#1967d2\" stroke-width=\"1\" /><line x1=\"34.7588671875\" x2=\"1427.1744921875\" y1=\"175.0\" y2=\"175.0\" stroke=\"#1967d2\" stroke-width=\"1\" /><line x1=\"34.7588671875\" x2=\"1427.1744921875\" y1=\"225.0\" y2=\"225.0\" stroke=\"#1967d2\" stroke-width=\"1\" /><line x1=\"340.02\" x2=\"340.02\" y1=\"75.0\" y2=\"125.0\" stroke=\"black\" stroke-width=\"3\" /><line x1=\"405.69638671875\" x2=\"405.69638671875\" y1=\"125.0\" y2=\"175.0\" stroke=\"black\" stroke-width=\"3\" /><line x1=\"806.61671875\" x2=\"806.61671875\" y1=\"125.0\" y2=\"225.0\" stroke=\"black\" stroke-width=\"3\" /><line x1=\"1060.9228125\" x2=\"1060.9228125\" y1=\"125.0\" y2=\"225.0\" stroke=\"black\" stroke-width=\"3\" /><line x1=\"1324.813984375\" x2=\"1324.813984375\" y1=\"125.0\" y2=\"225.0\" stroke=\"black\" stroke-width=\"3\" /><rect x=\"10.0\" y=\"5.0\" width=\"49.517734375\" height=\"40\" stroke=\"black\" fill=\"white\" stroke-width=\"0\" /><text x=\"34.7588671875\" y=\"25.0\" dominant-baseline=\"middle\" text-anchor=\"middle\" font-size=\"14px\" font-family=\"Arial\">(1, 4): </text><rect x=\"10.0\" y=\"55.0\" width=\"49.517734375\" height=\"40\" stroke=\"black\" fill=\"white\" stroke-width=\"0\" /><text x=\"34.7588671875\" y=\"75.0\" dominant-baseline=\"middle\" text-anchor=\"middle\" font-size=\"14px\" font-family=\"Arial\">(2, 3): </text><rect x=\"10.0\" y=\"105.0\" width=\"49.517734375\" height=\"40\" stroke=\"black\" fill=\"white\" stroke-width=\"0\" /><text x=\"34.7588671875\" y=\"125.0\" dominant-baseline=\"middle\" text-anchor=\"middle\" font-size=\"14px\" font-family=\"Arial\">(2, 4): </text><rect x=\"10.0\" y=\"155.0\" width=\"49.517734375\" height=\"40\" stroke=\"black\" fill=\"white\" stroke-width=\"0\" /><text x=\"34.7588671875\" y=\"175.0\" dominant-baseline=\"middle\" text-anchor=\"middle\" font-size=\"14px\" font-family=\"Arial\">(2, 5): </text><rect x=\"10.0\" y=\"205.0\" width=\"49.517734375\" height=\"40\" stroke=\"black\" fill=\"white\" stroke-width=\"0\" /><text x=\"34.7588671875\" y=\"225.0\" dominant-baseline=\"middle\" text-anchor=\"middle\" font-size=\"14px\" font-family=\"Arial\">(3, 4): </text><rect x=\"79.517734375\" y=\"5.0\" width=\"89.1494921875\" height=\"40\" stroke=\"black\" fill=\"white\" stroke-width=\"1\" /><text x=\"124.09248046875001\" y=\"25.0\" dominant-baseline=\"middle\" text-anchor=\"middle\" font-size=\"18px\" font-family=\"Arial\">I</text><rect x=\"79.517734375\" y=\"105.0\" width=\"89.1494921875\" height=\"40\" stroke=\"black\" fill=\"white\" stroke-width=\"1\" /><text x=\"124.09248046875001\" y=\"125.0\" dominant-baseline=\"middle\" text-anchor=\"middle\" font-size=\"14px\" font-family=\"Arial\">Y^0.5</text><rect x=\"79.517734375\" y=\"55.0\" width=\"89.1494921875\" height=\"40\" stroke=\"black\" fill=\"white\" stroke-width=\"1\" /><text x=\"124.09248046875001\" y=\"75.0\" dominant-baseline=\"middle\" text-anchor=\"middle\" font-size=\"14px\" font-family=\"Arial\">Ry(-0.983π)</text><rect x=\"79.517734375\" y=\"155.0\" width=\"89.1494921875\" height=\"40\" stroke=\"black\" fill=\"white\" stroke-width=\"1\" /><text x=\"124.09248046875001\" y=\"175.0\" dominant-baseline=\"middle\" text-anchor=\"middle\" font-size=\"14px\" font-family=\"Arial\">Ry(0.616π)</text><rect x=\"188.6672265625\" y=\"105.0\" width=\"51.352773437500005\" height=\"40\" stroke=\"black\" fill=\"white\" stroke-width=\"1\" /><text x=\"214.34361328125\" y=\"125.0\" dominant-baseline=\"middle\" text-anchor=\"middle\" font-size=\"18px\" font-family=\"Arial\">X</text><rect x=\"188.6672265625\" y=\"55.0\" width=\"51.352773437500005\" height=\"40\" stroke=\"black\" fill=\"white\" stroke-width=\"1\" /><text x=\"214.34361328125\" y=\"75.0\" dominant-baseline=\"middle\" text-anchor=\"middle\" font-size=\"14px\" font-family=\"Arial\">Y^0.5</text><rect x=\"188.6672265625\" y=\"155.0\" width=\"51.352773437500005\" height=\"40\" stroke=\"black\" fill=\"white\" stroke-width=\"1\" /><text x=\"214.34361328125\" y=\"175.0\" dominant-baseline=\"middle\" text-anchor=\"middle\" font-size=\"14px\" font-family=\"Arial\">Y^0.5</text><rect x=\"260.02\" y=\"55.0\" width=\"40\" height=\"40\" stroke=\"black\" fill=\"white\" stroke-width=\"1\" /><text x=\"280.02\" y=\"75.0\" dominant-baseline=\"middle\" text-anchor=\"middle\" font-size=\"18px\" font-family=\"Arial\">X</text><rect x=\"260.02\" y=\"155.0\" width=\"40\" height=\"40\" stroke=\"black\" fill=\"white\" stroke-width=\"1\" /><text x=\"280.02\" y=\"175.0\" dominant-baseline=\"middle\" text-anchor=\"middle\" font-size=\"18px\" font-family=\"Arial\">X</text><circle cx=\"340.02\" cy=\"125.0\" r=\"10.0\" /><circle cx=\"340.02\" cy=\"75.0\" r=\"10.0\" /><rect x=\"380.02\" y=\"55.0\" width=\"51.352773437500005\" height=\"40\" stroke=\"black\" fill=\"white\" stroke-width=\"1\" /><text x=\"405.69638671875\" y=\"75.0\" dominant-baseline=\"middle\" text-anchor=\"middle\" font-size=\"14px\" font-family=\"Arial\">Y^0.5</text><circle cx=\"405.69638671875\" cy=\"125.0\" r=\"10.0\" /><circle cx=\"405.69638671875\" cy=\"175.0\" r=\"10.0\" /><rect x=\"451.3727734375\" y=\"55.0\" width=\"51.352773437500005\" height=\"40\" stroke=\"black\" fill=\"white\" stroke-width=\"1\" /><text x=\"477.04916015624997\" y=\"75.0\" dominant-baseline=\"middle\" text-anchor=\"middle\" font-size=\"18px\" font-family=\"Arial\">X</text><rect x=\"451.3727734375\" y=\"155.0\" width=\"51.352773437500005\" height=\"40\" stroke=\"black\" fill=\"white\" stroke-width=\"1\" /><text x=\"477.04916015624997\" y=\"175.0\" dominant-baseline=\"middle\" text-anchor=\"middle\" font-size=\"14px\" font-family=\"Arial\">Y^0.5</text><rect x=\"522.725546875\" y=\"155.0\" width=\"40\" height=\"40\" stroke=\"black\" fill=\"white\" stroke-width=\"1\" /><text x=\"542.725546875\" y=\"175.0\" dominant-baseline=\"middle\" text-anchor=\"middle\" font-size=\"18px\" font-family=\"Arial\">X</text><rect x=\"582.725546875\" y=\"205.0\" width=\"51.9455859375\" height=\"40\" stroke=\"black\" fill=\"white\" stroke-width=\"1\" /><text x=\"608.69833984375\" y=\"225.0\" dominant-baseline=\"middle\" text-anchor=\"middle\" font-size=\"14px\" font-family=\"Arial\">X^0.5</text><rect x=\"582.725546875\" y=\"105.0\" width=\"51.9455859375\" height=\"40\" stroke=\"black\" fill=\"white\" stroke-width=\"1\" /><text x=\"608.69833984375\" y=\"125.0\" dominant-baseline=\"middle\" text-anchor=\"middle\" font-size=\"14px\" font-family=\"Arial\">S^-1</text><rect x=\"654.6711328125\" y=\"105.0\" width=\"51.9455859375\" height=\"40\" stroke=\"black\" fill=\"white\" stroke-width=\"1\" /><text x=\"680.64392578125\" y=\"125.0\" dominant-baseline=\"middle\" text-anchor=\"middle\" font-size=\"14px\" font-family=\"Arial\">X^0.5</text><rect x=\"726.61671875\" y=\"105.0\" width=\"40\" height=\"40\" stroke=\"black\" fill=\"white\" stroke-width=\"1\" /><text x=\"746.61671875\" y=\"125.0\" dominant-baseline=\"middle\" text-anchor=\"middle\" font-size=\"18px\" font-family=\"Arial\">S</text><circle cx=\"806.61671875\" cy=\"225.0\" r=\"10.0\" /><circle cx=\"806.61671875\" cy=\"125.0\" r=\"10.0\" /><rect x=\"846.61671875\" y=\"205.0\" width=\"40\" height=\"40\" stroke=\"black\" fill=\"white\" stroke-width=\"1\" /><text x=\"866.61671875\" y=\"225.0\" dominant-baseline=\"middle\" text-anchor=\"middle\" font-size=\"18px\" font-family=\"Arial\">Z</text><rect x=\"846.61671875\" y=\"105.0\" width=\"40\" height=\"40\" stroke=\"black\" fill=\"white\" stroke-width=\"1\" /><text x=\"866.61671875\" y=\"125.0\" dominant-baseline=\"middle\" text-anchor=\"middle\" font-size=\"18px\" font-family=\"Arial\">S</text><rect x=\"906.61671875\" y=\"205.0\" width=\"51.9455859375\" height=\"40\" stroke=\"black\" fill=\"white\" stroke-width=\"1\" /><text x=\"932.58951171875\" y=\"225.0\" dominant-baseline=\"middle\" text-anchor=\"middle\" font-size=\"14px\" font-family=\"Arial\">X^0.5</text><rect x=\"906.61671875\" y=\"105.0\" width=\"51.9455859375\" height=\"40\" stroke=\"black\" fill=\"white\" stroke-width=\"1\" /><text x=\"932.58951171875\" y=\"125.0\" dominant-baseline=\"middle\" text-anchor=\"middle\" font-size=\"14px\" font-family=\"Arial\">X^0.5</text><rect x=\"978.5623046875\" y=\"205.0\" width=\"42.3605078125\" height=\"40\" stroke=\"black\" fill=\"white\" stroke-width=\"1\" /><text x=\"999.74255859375\" y=\"225.0\" dominant-baseline=\"middle\" text-anchor=\"middle\" font-size=\"18px\" font-family=\"Arial\">Z</text><rect x=\"978.5623046875\" y=\"105.0\" width=\"42.3605078125\" height=\"40\" stroke=\"black\" fill=\"white\" stroke-width=\"1\" /><text x=\"999.74255859375\" y=\"125.0\" dominant-baseline=\"middle\" text-anchor=\"middle\" font-size=\"14px\" font-family=\"Arial\">S^-1</text><circle cx=\"1060.9228125\" cy=\"225.0\" r=\"10.0\" /><circle cx=\"1060.9228125\" cy=\"125.0\" r=\"10.0\" /><rect x=\"1100.9228125\" y=\"205.0\" width=\"51.9455859375\" height=\"40\" stroke=\"black\" fill=\"white\" stroke-width=\"1\" /><text x=\"1126.8956054687499\" y=\"225.0\" dominant-baseline=\"middle\" text-anchor=\"middle\" font-size=\"14px\" font-family=\"Arial\">X^0.5</text><rect x=\"1100.9228125\" y=\"105.0\" width=\"51.9455859375\" height=\"40\" stroke=\"black\" fill=\"white\" stroke-width=\"1\" /><text x=\"1126.8956054687499\" y=\"125.0\" dominant-baseline=\"middle\" text-anchor=\"middle\" font-size=\"14px\" font-family=\"Arial\">S^-1</text><rect x=\"1172.8683984375\" y=\"105.0\" width=\"51.9455859375\" height=\"40\" stroke=\"black\" fill=\"white\" stroke-width=\"1\" /><text x=\"1198.84119140625\" y=\"125.0\" dominant-baseline=\"middle\" text-anchor=\"middle\" font-size=\"14px\" font-family=\"Arial\">X^0.5</text><rect x=\"1244.813984375\" y=\"105.0\" width=\"40\" height=\"40\" stroke=\"black\" fill=\"white\" stroke-width=\"1\" /><text x=\"1264.813984375\" y=\"125.0\" dominant-baseline=\"middle\" text-anchor=\"middle\" font-size=\"18px\" font-family=\"Arial\">S</text><circle cx=\"1324.813984375\" cy=\"225.0\" r=\"10.0\" /><circle cx=\"1324.813984375\" cy=\"125.0\" r=\"10.0\" /><rect x=\"1364.813984375\" y=\"205.0\" width=\"42.3605078125\" height=\"40\" stroke=\"black\" fill=\"white\" stroke-width=\"1\" /><text x=\"1385.99423828125\" y=\"225.0\" dominant-baseline=\"middle\" text-anchor=\"middle\" font-size=\"14px\" font-family=\"Arial\">S^-1</text><rect x=\"1364.813984375\" y=\"105.0\" width=\"42.3605078125\" height=\"40\" stroke=\"black\" fill=\"white\" stroke-width=\"1\" /><text x=\"1385.99423828125\" y=\"125.0\" dominant-baseline=\"middle\" text-anchor=\"middle\" font-size=\"18px\" font-family=\"Arial\">S</text></svg>"
          },
          "metadata": {
            "tags": []
          },
          "execution_count": 11
        }
      ]
    },
    {
      "cell_type": "code",
      "metadata": {
        "colab": {
          "base_uri": "https://localhost:8080/",
          "height": 230
        },
        "id": "MNjURGY4nV2k",
        "outputId": "f9ed07d7-7f4f-451c-fffd-993ea4b8cfe4"
      },
      "source": [
        "simulator = cirq.Simulator()\n",
        "qubit_order_0 = [cirq.GridQubit(2, 4), cirq.GridQubit(3, 4), cirq.GridQubit(1, 4), cirq.GridQubit(2, 3), cirq.GridQubit(2, 5)]\n",
        "result = simulator.simulate(get_model(n, 0), qubit_order=qubit_order_0).final_state_vector\n",
        "probs_class_0 = np.abs(result)**2\n",
        "\n",
        "qubit_order_1 = [cirq.GridQubit(2, 4), cirq.GridQubit(1, 4), cirq.GridQubit(3, 4), cirq.GridQubit(2, 3), cirq.GridQubit(2, 5)]\n",
        "result = simulator.simulate(get_model(n, 1), qubit_order=qubit_order_1).final_state_vector\n",
        "probs_class_1 = np.abs(result)**2\n",
        "\n",
        "print('Variational QRAM')\n",
        "plt.figure(figsize=(3.2, 2.8))\n",
        "plt.scatter(np.arange(2**n), probs_class_0[:2**n], label='Class 0')\n",
        "plt.scatter(np.arange(2**n), probs_class_1[:2**n], label='Class 1')\n",
        "plt.ylabel('PDF')\n",
        "plt.legend()\n",
        "plt.tight_layout()\n",
        "plt.show()"
      ],
      "execution_count": null,
      "outputs": [
        {
          "output_type": "stream",
          "text": [
            "Variational QRAM\n"
          ],
          "name": "stdout"
        },
        {
          "output_type": "display_data",
          "data": {
            "image/png": "[encoded data removed]",
            "text/plain": [
              "<Figure size 230.4x201.6 with 1 Axes>"
            ]
          },
          "metadata": {
            "tags": [],
            "needs_background": "light"
          }
        }
      ]
    },
    {
      "cell_type": "markdown",
      "metadata": {
        "id": "4s7Gi2gnD6iI"
      },
      "source": [
        "### 1.3 Individual quantum data states\n",
        "\n",
        "Later on, we'll benchmark a QNN trained over the dataset in superposition vs. a QNN trained with each data example individually (as in the original QNN paper by Farhi et al.). To encode individual bitstrings as quantum states, we use a binary encoding of $X$ gates."
      ]
    },
    {
      "cell_type": "code",
      "metadata": {
        "id": "wrWcqnG6lKvJ"
      },
      "source": [
        "def convert_to_circuit(data, n):\n",
        "    values = np.ndarray.flatten(data)\n",
        "    qubits = get_exp_qubits(n)\n",
        "    circuit = cirq.Circuit()\n",
        "    for i, value in enumerate(values):\n",
        "        circuit.append(cirq.X(qubits[i])**value)\n",
        "    return circuit"
      ],
      "execution_count": null,
      "outputs": []
    },
    {
      "cell_type": "markdown",
      "metadata": {
        "id": "fJ5CP0ysH0e9"
      },
      "source": [
        "We can now translate our classical dataset into an array of quantum states, completing the dataset needed for the QNN benchmark."
      ]
    },
    {
      "cell_type": "code",
      "metadata": {
        "id": "LNQQ3MKiH1pR"
      },
      "source": [
        "# helper function to replace np.unpackbits with a custom bitstring length\n",
        "def unpackbits(x, num_bits):\n",
        "    xshape = list(x.shape)\n",
        "    x = x.reshape([-1, 1])\n",
        "    mask = 2**np.arange(num_bits).reshape([1, num_bits])\n",
        "    return np.flip((x & mask).astype(bool).astype(int).reshape(xshape + [num_bits]), axis=1)\n",
        "\n",
        "all_data = np.array([unpackbits(data0.astype(np.int64), n), unpackbits(data1.astype(np.int64), n)])\n",
        "\n",
        "x_circ = [convert_to_circuit(x, n) for x in all_data[0]] + [convert_to_circuit(x, n) for x in all_data[1]]\n",
        "y = np.array([0]*len(all_data[0]) + [1]*len(all_data[1]))"
      ],
      "execution_count": null,
      "outputs": []
    },
    {
      "cell_type": "markdown",
      "metadata": {
        "id": "6haSW3j3IEpN"
      },
      "source": [
        "## 2 Defining the QNN classifier\n",
        "\n",
        "To evaluate the effectiveness of the variational QRAM, we train the QNN in two ways:\n",
        "* Read each class of the dataset in superposition, allowing the QNN to classify *all* data examples of that class at once. Compute the loss over the entire class.\n",
        "* Read each data example as individual quantum states, requiring the QNN to classify each example one by one. This corresponds to the original QNN proposed by Farhi et al.\n",
        "\n",
        "Each QNN will be trained with an equal number of evaluations on the quantum device, and then we will compare the performance. First, a variational circuit is defined for the QNN to classify between two peaks. A hardware-efficient ansatz is used given the native gate basis."
      ]
    },
    {
      "cell_type": "code",
      "metadata": {
        "id": "EVmSUOKllSmT"
      },
      "source": [
        "# define the QNN classifier\n",
        "class ClassifierCircuitLayerBuilder():\n",
        "    def __init__(self, data_qubits, readouts):\n",
        "        self.data_qubits = data_qubits\n",
        "        self.readouts = readouts\n",
        "    \n",
        "    def add_layer(self, circuit, prefix):\n",
        "        for j, readout in enumerate(self.readouts):\n",
        "            for i, qubit in enumerate(self.data_qubits):\n",
        "                symbol = sympy.Symbol(prefix + '-' + str(j) + '-' + str(i))\n",
        "                u = []\n",
        "                u.extend([cirq.Z(qubit)**-0.5, cirq.X(qubit)**0.5, cirq.Z(qubit)**0.5])\n",
        "                u.append(cirq.CZ(qubit, readout))\n",
        "                u.extend([cirq.Z(qubit)**-1, cirq.X(qubit)**symbol, cirq.Z(qubit)**1])\n",
        "                u.append(cirq.CZ(qubit, readout))\n",
        "                u.extend([cirq.Z(qubit)**0.5, cirq.X(qubit)**0.5, cirq.Z(qubit)**-0.5])\n",
        "                circuit += cirq.Circuit(u)"
      ],
      "execution_count": null,
      "outputs": []
    },
    {
      "cell_type": "markdown",
      "metadata": {
        "id": "moSzqbShI7LS"
      },
      "source": [
        "The QNN consists of one or more layers of parameterized gates as well as a readout qubit, which is measured to determine the predicted class of input data. In general, we can allow for more than one readout qubit."
      ]
    },
    {
      "cell_type": "code",
      "metadata": {
        "id": "_CS6h3LlI6M0"
      },
      "source": [
        "def build_quantum_classifier(n_readouts=1):\n",
        "    \"\"\"Create a QNN model circuit and readout operation to go along with it.\"\"\"\n",
        "    readouts = []\n",
        "    qubits = get_exp_qubits(n)\n",
        "    for i in range(n_readouts):\n",
        "        readouts.append(qubits[-1])\n",
        "    circuit = cirq.Circuit()\n",
        "    data_qubits = qubits[:-1]\n",
        "    \n",
        "    # prepare the readout qubit\n",
        "    circuit.append(cirq.X.on_each(readouts))\n",
        "    circuit.append((cirq.Y**0.5).on_each(readouts))\n",
        "    circuit.append(cirq.X.on_each(readouts))\n",
        "    \n",
        "    builder = ClassifierCircuitLayerBuilder(data_qubits, readouts)\n",
        "\n",
        "    # add layer(s)\n",
        "    builder.add_layer(circuit, \"layer1\")\n",
        "\n",
        "    # prepare the readout qubit\n",
        "    circuit.append((cirq.Y**0.5).on_each(readouts))\n",
        "    circuit.append(cirq.X.on_each(readouts))\n",
        "\n",
        "    total = cirq.Z(readouts[0])\n",
        "    for readout in readouts[1:]:\n",
        "        total += cirq.Z(readout)\n",
        "    return circuit, total/len(readouts)"
      ],
      "execution_count": null,
      "outputs": []
    },
    {
      "cell_type": "code",
      "metadata": {
        "id": "U9vgfBsQleGI"
      },
      "source": [
        "# create the QNN classifier\n",
        "model_circuit, model_readout = build_quantum_classifier(1)"
      ],
      "execution_count": null,
      "outputs": []
    },
    {
      "cell_type": "code",
      "metadata": {
        "colab": {
          "base_uri": "https://localhost:8080/",
          "height": 290
        },
        "id": "uBc4WaqwJjd-",
        "outputId": "eabe638d-1b34-4d6e-8d61-33108761f837"
      },
      "source": [
        "SVGCircuit(model_circuit)"
      ],
      "execution_count": null,
      "outputs": [
        {
          "output_type": "execute_result",
          "data": {
            "text/plain": [
              "<cirq.contrib.svg.svg.SVGCircuit at 0x7fa3b27f59d0>"
            ],
            "image/svg+xml": "<svg xmlns=\"http://www.w3.org/2000/svg\" width=\"3356.9628125\" height=\"250.0\"><line x1=\"34.7588671875\" x2=\"3326.9628125\" y1=\"25.0\" y2=\"25.0\" stroke=\"#1967d2\" stroke-width=\"1\" /><line x1=\"34.7588671875\" x2=\"3326.9628125\" y1=\"75.0\" y2=\"75.0\" stroke=\"#1967d2\" stroke-width=\"1\" /><line x1=\"34.7588671875\" x2=\"3326.9628125\" y1=\"125.0\" y2=\"125.0\" stroke=\"#1967d2\" stroke-width=\"1\" /><line x1=\"34.7588671875\" x2=\"3326.9628125\" y1=\"175.0\" y2=\"175.0\" stroke=\"#1967d2\" stroke-width=\"1\" /><line x1=\"34.7588671875\" x2=\"3326.9628125\" y1=\"225.0\" y2=\"225.0\" stroke=\"#1967d2\" stroke-width=\"1\" /><line x1=\"485.1766015625001\" x2=\"485.1766015625001\" y1=\"125.0\" y2=\"225.0\" stroke=\"black\" stroke-width=\"3\" /><line x1=\"797.749296875\" x2=\"797.749296875\" y1=\"125.0\" y2=\"225.0\" stroke=\"black\" stroke-width=\"3\" /><line x1=\"1246.3614843750001\" x2=\"1246.3614843750001\" y1=\"25.0\" y2=\"125.0\" stroke=\"black\" stroke-width=\"3\" /><line x1=\"1558.9341796875\" x2=\"1558.9341796875\" y1=\"25.0\" y2=\"125.0\" stroke=\"black\" stroke-width=\"3\" /><line x1=\"2007.5463671875\" x2=\"2007.5463671875\" y1=\"75.0\" y2=\"125.0\" stroke=\"black\" stroke-width=\"3\" /><line x1=\"2320.1190625\" x2=\"2320.1190625\" y1=\"75.0\" y2=\"125.0\" stroke=\"black\" stroke-width=\"3\" /><line x1=\"2768.73125\" x2=\"2768.73125\" y1=\"125.0\" y2=\"175.0\" stroke=\"black\" stroke-width=\"3\" /><line x1=\"3081.3039453124998\" x2=\"3081.3039453124998\" y1=\"125.0\" y2=\"175.0\" stroke=\"black\" stroke-width=\"3\" /><rect x=\"10.0\" y=\"5.0\" width=\"49.517734375\" height=\"40\" stroke=\"black\" fill=\"white\" stroke-width=\"0\" /><text x=\"34.7588671875\" y=\"25.0\" dominant-baseline=\"middle\" text-anchor=\"middle\" font-size=\"14px\" font-family=\"Arial\">(1, 4): </text><rect x=\"10.0\" y=\"55.0\" width=\"49.517734375\" height=\"40\" stroke=\"black\" fill=\"white\" stroke-width=\"0\" /><text x=\"34.7588671875\" y=\"75.0\" dominant-baseline=\"middle\" text-anchor=\"middle\" font-size=\"14px\" font-family=\"Arial\">(2, 3): </text><rect x=\"10.0\" y=\"105.0\" width=\"49.517734375\" height=\"40\" stroke=\"black\" fill=\"white\" stroke-width=\"0\" /><text x=\"34.7588671875\" y=\"125.0\" dominant-baseline=\"middle\" text-anchor=\"middle\" font-size=\"14px\" font-family=\"Arial\">(2, 4): </text><rect x=\"10.0\" y=\"155.0\" width=\"49.517734375\" height=\"40\" stroke=\"black\" fill=\"white\" stroke-width=\"0\" /><text x=\"34.7588671875\" y=\"175.0\" dominant-baseline=\"middle\" text-anchor=\"middle\" font-size=\"14px\" font-family=\"Arial\">(2, 5): </text><rect x=\"10.0\" y=\"205.0\" width=\"49.517734375\" height=\"40\" stroke=\"black\" fill=\"white\" stroke-width=\"0\" /><text x=\"34.7588671875\" y=\"225.0\" dominant-baseline=\"middle\" text-anchor=\"middle\" font-size=\"14px\" font-family=\"Arial\">(3, 4): </text><rect x=\"79.517734375\" y=\"105.0\" width=\"40\" height=\"40\" stroke=\"black\" fill=\"white\" stroke-width=\"1\" /><text x=\"99.517734375\" y=\"125.0\" dominant-baseline=\"middle\" text-anchor=\"middle\" font-size=\"18px\" font-family=\"Arial\">X</text><rect x=\"139.517734375\" y=\"105.0\" width=\"51.352773437500005\" height=\"40\" stroke=\"black\" fill=\"white\" stroke-width=\"1\" /><text x=\"165.19412109375\" y=\"125.0\" dominant-baseline=\"middle\" text-anchor=\"middle\" font-size=\"14px\" font-family=\"Arial\">Y^0.5</text><rect x=\"210.87050781250002\" y=\"105.0\" width=\"40\" height=\"40\" stroke=\"black\" fill=\"white\" stroke-width=\"1\" /><text x=\"230.87050781250002\" y=\"125.0\" dominant-baseline=\"middle\" text-anchor=\"middle\" font-size=\"18px\" font-family=\"Arial\">X</text><rect x=\"270.8705078125\" y=\"205.0\" width=\"42.3605078125\" height=\"40\" stroke=\"black\" fill=\"white\" stroke-width=\"1\" /><text x=\"292.05076171875004\" y=\"225.0\" dominant-baseline=\"middle\" text-anchor=\"middle\" font-size=\"14px\" font-family=\"Arial\">S^-1</text><rect x=\"333.23101562500005\" y=\"205.0\" width=\"51.9455859375\" height=\"40\" stroke=\"black\" fill=\"white\" stroke-width=\"1\" /><text x=\"359.20380859375007\" y=\"225.0\" dominant-baseline=\"middle\" text-anchor=\"middle\" font-size=\"14px\" font-family=\"Arial\">X^0.5</text><rect x=\"405.1766015625001\" y=\"205.0\" width=\"40\" height=\"40\" stroke=\"black\" fill=\"white\" stroke-width=\"1\" /><text x=\"425.1766015625001\" y=\"225.0\" dominant-baseline=\"middle\" text-anchor=\"middle\" font-size=\"18px\" font-family=\"Arial\">S</text><circle cx=\"485.1766015625001\" cy=\"225.0\" r=\"10.0\" /><circle cx=\"485.1766015625001\" cy=\"125.0\" r=\"10.0\" /><rect x=\"525.1766015625001\" y=\"205.0\" width=\"40\" height=\"40\" stroke=\"black\" fill=\"white\" stroke-width=\"1\" /><text x=\"545.1766015625001\" y=\"225.0\" dominant-baseline=\"middle\" text-anchor=\"middle\" font-size=\"18px\" font-family=\"Arial\">Z</text><rect x=\"585.1766015625001\" y=\"205.0\" width=\"112.5726953125\" height=\"40\" stroke=\"black\" fill=\"white\" stroke-width=\"1\" /><text x=\"641.46294921875\" y=\"225.0\" dominant-baseline=\"middle\" text-anchor=\"middle\" font-size=\"14px\" font-family=\"Arial\">X^(layer1-0-0)</text><rect x=\"717.749296875\" y=\"205.0\" width=\"40\" height=\"40\" stroke=\"black\" fill=\"white\" stroke-width=\"1\" /><text x=\"737.749296875\" y=\"225.0\" dominant-baseline=\"middle\" text-anchor=\"middle\" font-size=\"18px\" font-family=\"Arial\">Z</text><circle cx=\"797.749296875\" cy=\"225.0\" r=\"10.0\" /><circle cx=\"797.749296875\" cy=\"125.0\" r=\"10.0\" /><rect x=\"837.749296875\" y=\"205.0\" width=\"40\" height=\"40\" stroke=\"black\" fill=\"white\" stroke-width=\"1\" /><text x=\"857.749296875\" y=\"225.0\" dominant-baseline=\"middle\" text-anchor=\"middle\" font-size=\"18px\" font-family=\"Arial\">S</text><rect x=\"897.749296875\" y=\"205.0\" width=\"51.9455859375\" height=\"40\" stroke=\"black\" fill=\"white\" stroke-width=\"1\" /><text x=\"923.72208984375\" y=\"225.0\" dominant-baseline=\"middle\" text-anchor=\"middle\" font-size=\"14px\" font-family=\"Arial\">X^0.5</text><rect x=\"969.6948828125\" y=\"205.0\" width=\"42.3605078125\" height=\"40\" stroke=\"black\" fill=\"white\" stroke-width=\"1\" /><text x=\"990.87513671875\" y=\"225.0\" dominant-baseline=\"middle\" text-anchor=\"middle\" font-size=\"14px\" font-family=\"Arial\">S^-1</text><rect x=\"1032.055390625\" y=\"5.0\" width=\"42.3605078125\" height=\"40\" stroke=\"black\" fill=\"white\" stroke-width=\"1\" /><text x=\"1053.23564453125\" y=\"25.0\" dominant-baseline=\"middle\" text-anchor=\"middle\" font-size=\"14px\" font-family=\"Arial\">S^-1</text><rect x=\"1094.4158984375001\" y=\"5.0\" width=\"51.9455859375\" height=\"40\" stroke=\"black\" fill=\"white\" stroke-width=\"1\" /><text x=\"1120.38869140625\" y=\"25.0\" dominant-baseline=\"middle\" text-anchor=\"middle\" font-size=\"14px\" font-family=\"Arial\">X^0.5</text><rect x=\"1166.3614843750001\" y=\"5.0\" width=\"40\" height=\"40\" stroke=\"black\" fill=\"white\" stroke-width=\"1\" /><text x=\"1186.3614843750001\" y=\"25.0\" dominant-baseline=\"middle\" text-anchor=\"middle\" font-size=\"18px\" font-family=\"Arial\">S</text><circle cx=\"1246.3614843750001\" cy=\"25.0\" r=\"10.0\" /><circle cx=\"1246.3614843750001\" cy=\"125.0\" r=\"10.0\" /><rect x=\"1286.3614843750001\" y=\"5.0\" width=\"40\" height=\"40\" stroke=\"black\" fill=\"white\" stroke-width=\"1\" /><text x=\"1306.3614843750001\" y=\"25.0\" dominant-baseline=\"middle\" text-anchor=\"middle\" font-size=\"18px\" font-family=\"Arial\">Z</text><rect x=\"1346.3614843750001\" y=\"5.0\" width=\"112.5726953125\" height=\"40\" stroke=\"black\" fill=\"white\" stroke-width=\"1\" /><text x=\"1402.6478320312501\" y=\"25.0\" dominant-baseline=\"middle\" text-anchor=\"middle\" font-size=\"14px\" font-family=\"Arial\">X^(layer1-0-1)</text><rect x=\"1478.9341796875\" y=\"5.0\" width=\"40\" height=\"40\" stroke=\"black\" fill=\"white\" stroke-width=\"1\" /><text x=\"1498.9341796875\" y=\"25.0\" dominant-baseline=\"middle\" text-anchor=\"middle\" font-size=\"18px\" font-family=\"Arial\">Z</text><circle cx=\"1558.9341796875\" cy=\"25.0\" r=\"10.0\" /><circle cx=\"1558.9341796875\" cy=\"125.0\" r=\"10.0\" /><rect x=\"1598.9341796875\" y=\"5.0\" width=\"40\" height=\"40\" stroke=\"black\" fill=\"white\" stroke-width=\"1\" /><text x=\"1618.9341796875\" y=\"25.0\" dominant-baseline=\"middle\" text-anchor=\"middle\" font-size=\"18px\" font-family=\"Arial\">S</text><rect x=\"1658.9341796875\" y=\"5.0\" width=\"51.9455859375\" height=\"40\" stroke=\"black\" fill=\"white\" stroke-width=\"1\" /><text x=\"1684.90697265625\" y=\"25.0\" dominant-baseline=\"middle\" text-anchor=\"middle\" font-size=\"14px\" font-family=\"Arial\">X^0.5</text><rect x=\"1730.8797656250001\" y=\"5.0\" width=\"42.3605078125\" height=\"40\" stroke=\"black\" fill=\"white\" stroke-width=\"1\" /><text x=\"1752.0600195312502\" y=\"25.0\" dominant-baseline=\"middle\" text-anchor=\"middle\" font-size=\"14px\" font-family=\"Arial\">S^-1</text><rect x=\"1793.2402734375\" y=\"55.0\" width=\"42.3605078125\" height=\"40\" stroke=\"black\" fill=\"white\" stroke-width=\"1\" /><text x=\"1814.42052734375\" y=\"75.0\" dominant-baseline=\"middle\" text-anchor=\"middle\" font-size=\"14px\" font-family=\"Arial\">S^-1</text><rect x=\"1855.60078125\" y=\"55.0\" width=\"51.9455859375\" height=\"40\" stroke=\"black\" fill=\"white\" stroke-width=\"1\" /><text x=\"1881.5735742187499\" y=\"75.0\" dominant-baseline=\"middle\" text-anchor=\"middle\" font-size=\"14px\" font-family=\"Arial\">X^0.5</text><rect x=\"1927.5463671875\" y=\"55.0\" width=\"40\" height=\"40\" stroke=\"black\" fill=\"white\" stroke-width=\"1\" /><text x=\"1947.5463671875\" y=\"75.0\" dominant-baseline=\"middle\" text-anchor=\"middle\" font-size=\"18px\" font-family=\"Arial\">S</text><circle cx=\"2007.5463671875\" cy=\"75.0\" r=\"10.0\" /><circle cx=\"2007.5463671875\" cy=\"125.0\" r=\"10.0\" /><rect x=\"2047.5463671875\" y=\"55.0\" width=\"40\" height=\"40\" stroke=\"black\" fill=\"white\" stroke-width=\"1\" /><text x=\"2067.5463671875\" y=\"75.0\" dominant-baseline=\"middle\" text-anchor=\"middle\" font-size=\"18px\" font-family=\"Arial\">Z</text><rect x=\"2107.5463671875\" y=\"55.0\" width=\"112.5726953125\" height=\"40\" stroke=\"black\" fill=\"white\" stroke-width=\"1\" /><text x=\"2163.83271484375\" y=\"75.0\" dominant-baseline=\"middle\" text-anchor=\"middle\" font-size=\"14px\" font-family=\"Arial\">X^(layer1-0-2)</text><rect x=\"2240.1190625\" y=\"55.0\" width=\"40\" height=\"40\" stroke=\"black\" fill=\"white\" stroke-width=\"1\" /><text x=\"2260.1190625\" y=\"75.0\" dominant-baseline=\"middle\" text-anchor=\"middle\" font-size=\"18px\" font-family=\"Arial\">Z</text><circle cx=\"2320.1190625\" cy=\"75.0\" r=\"10.0\" /><circle cx=\"2320.1190625\" cy=\"125.0\" r=\"10.0\" /><rect x=\"2360.1190625\" y=\"55.0\" width=\"40\" height=\"40\" stroke=\"black\" fill=\"white\" stroke-width=\"1\" /><text x=\"2380.1190625\" y=\"75.0\" dominant-baseline=\"middle\" text-anchor=\"middle\" font-size=\"18px\" font-family=\"Arial\">S</text><rect x=\"2420.1190625\" y=\"55.0\" width=\"51.9455859375\" height=\"40\" stroke=\"black\" fill=\"white\" stroke-width=\"1\" /><text x=\"2446.09185546875\" y=\"75.0\" dominant-baseline=\"middle\" text-anchor=\"middle\" font-size=\"14px\" font-family=\"Arial\">X^0.5</text><rect x=\"2492.0646484374997\" y=\"55.0\" width=\"42.3605078125\" height=\"40\" stroke=\"black\" fill=\"white\" stroke-width=\"1\" /><text x=\"2513.24490234375\" y=\"75.0\" dominant-baseline=\"middle\" text-anchor=\"middle\" font-size=\"14px\" font-family=\"Arial\">S^-1</text><rect x=\"2554.42515625\" y=\"155.0\" width=\"42.3605078125\" height=\"40\" stroke=\"black\" fill=\"white\" stroke-width=\"1\" /><text x=\"2575.60541015625\" y=\"175.0\" dominant-baseline=\"middle\" text-anchor=\"middle\" font-size=\"14px\" font-family=\"Arial\">S^-1</text><rect x=\"2616.7856640625\" y=\"155.0\" width=\"51.9455859375\" height=\"40\" stroke=\"black\" fill=\"white\" stroke-width=\"1\" /><text x=\"2642.75845703125\" y=\"175.0\" dominant-baseline=\"middle\" text-anchor=\"middle\" font-size=\"14px\" font-family=\"Arial\">X^0.5</text><rect x=\"2688.73125\" y=\"155.0\" width=\"40\" height=\"40\" stroke=\"black\" fill=\"white\" stroke-width=\"1\" /><text x=\"2708.73125\" y=\"175.0\" dominant-baseline=\"middle\" text-anchor=\"middle\" font-size=\"18px\" font-family=\"Arial\">S</text><circle cx=\"2768.73125\" cy=\"175.0\" r=\"10.0\" /><circle cx=\"2768.73125\" cy=\"125.0\" r=\"10.0\" /><rect x=\"2808.73125\" y=\"155.0\" width=\"40\" height=\"40\" stroke=\"black\" fill=\"white\" stroke-width=\"1\" /><text x=\"2828.73125\" y=\"175.0\" dominant-baseline=\"middle\" text-anchor=\"middle\" font-size=\"18px\" font-family=\"Arial\">Z</text><rect x=\"2868.73125\" y=\"155.0\" width=\"112.5726953125\" height=\"40\" stroke=\"black\" fill=\"white\" stroke-width=\"1\" /><text x=\"2925.01759765625\" y=\"175.0\" dominant-baseline=\"middle\" text-anchor=\"middle\" font-size=\"14px\" font-family=\"Arial\">X^(layer1-0-3)</text><rect x=\"3001.3039453124998\" y=\"155.0\" width=\"40\" height=\"40\" stroke=\"black\" fill=\"white\" stroke-width=\"1\" /><text x=\"3021.3039453124998\" y=\"175.0\" dominant-baseline=\"middle\" text-anchor=\"middle\" font-size=\"18px\" font-family=\"Arial\">Z</text><circle cx=\"3081.3039453124998\" cy=\"175.0\" r=\"10.0\" /><circle cx=\"3081.3039453124998\" cy=\"125.0\" r=\"10.0\" /><rect x=\"3121.3039453124998\" y=\"155.0\" width=\"51.352773437500005\" height=\"40\" stroke=\"black\" fill=\"white\" stroke-width=\"1\" /><text x=\"3146.98033203125\" y=\"175.0\" dominant-baseline=\"middle\" text-anchor=\"middle\" font-size=\"18px\" font-family=\"Arial\">S</text><rect x=\"3121.3039453124998\" y=\"105.0\" width=\"51.352773437500005\" height=\"40\" stroke=\"black\" fill=\"white\" stroke-width=\"1\" /><text x=\"3146.98033203125\" y=\"125.0\" dominant-baseline=\"middle\" text-anchor=\"middle\" font-size=\"14px\" font-family=\"Arial\">Y^0.5</text><rect x=\"3192.65671875\" y=\"155.0\" width=\"51.9455859375\" height=\"40\" stroke=\"black\" fill=\"white\" stroke-width=\"1\" /><text x=\"3218.62951171875\" y=\"175.0\" dominant-baseline=\"middle\" text-anchor=\"middle\" font-size=\"14px\" font-family=\"Arial\">X^0.5</text><rect x=\"3192.65671875\" y=\"105.0\" width=\"51.9455859375\" height=\"40\" stroke=\"black\" fill=\"white\" stroke-width=\"1\" /><text x=\"3218.62951171875\" y=\"125.0\" dominant-baseline=\"middle\" text-anchor=\"middle\" font-size=\"18px\" font-family=\"Arial\">X</text><rect x=\"3264.6023046875\" y=\"155.0\" width=\"42.3605078125\" height=\"40\" stroke=\"black\" fill=\"white\" stroke-width=\"1\" /><text x=\"3285.78255859375\" y=\"175.0\" dominant-baseline=\"middle\" text-anchor=\"middle\" font-size=\"14px\" font-family=\"Arial\">S^-1</text></svg>"
          },
          "metadata": {
            "tags": []
          },
          "execution_count": 18
        }
      ]
    },
    {
      "cell_type": "markdown",
      "metadata": {
        "id": "V-RkOzB7JlfL"
      },
      "source": [
        "## 3 Training the QNN\n",
        "\n",
        "### 3.1 Preparing for training\n",
        "\n",
        "Since the expected readout qubit is in the range `[-1, 1]`, we choose a hinge loss to train the QNN."
      ]
    },
    {
      "cell_type": "code",
      "metadata": {
        "id": "B-S34J3ilfkD"
      },
      "source": [
        "def hinge_accuracy(y_true, y_pred):\n",
        "    y_true = tf.squeeze(y_true) > 0.0\n",
        "    y_pred = tf.squeeze(y_pred) > 0.0\n",
        "    result = tf.cast(y_true == y_pred, tf.float32)\n",
        "\n",
        "    return tf.reduce_mean(result)"
      ],
      "execution_count": null,
      "outputs": []
    },
    {
      "cell_type": "markdown",
      "metadata": {
        "id": "G1DfEsAcKRbF"
      },
      "source": [
        "To prepare the data, we convert our circuits into TensorFlow Quantum tensors, dividing the dataset into half for training and test data. Additionally, the class labels must be mapped to be either `-1` or `1` for the hinge loss."
      ]
    },
    {
      "cell_type": "code",
      "metadata": {
        "id": "xYhQcnH_lPvw"
      },
      "source": [
        "x_train_tfcirc = tfq.convert_to_tensor(x_circ[:size//2])\n",
        "x_test_tfcirc = tfq.convert_to_tensor(x_circ[size//2:])\n",
        "y_train = y[:size//2]\n",
        "y_test = y[size//2:]\n",
        "\n",
        "y_train_hinge = 2.0*y_train-1.0\n",
        "y_test_hinge = 2.0*y_test-1.0"
      ],
      "execution_count": null,
      "outputs": []
    },
    {
      "cell_type": "markdown",
      "metadata": {
        "id": "cKGVL_dHKWiA"
      },
      "source": [
        "Finally, we can define a parameterized quantum circuit (`tfq.layers.PQC`) and minimize hinge loss in `tf.keras` using Adam. For the QNN that learns from individual examples in the dataset, the loss is computed over each example."
      ]
    },
    {
      "cell_type": "code",
      "metadata": {
        "id": "1RlLzr_ulhgY"
      },
      "source": [
        "epochs = 1\n",
        "\n",
        "# train non-superposition QNN classifier\n",
        "def train_sample_qnn(n, averages=5, learning_rate=0.001):\n",
        "    sample_acc_data = []\n",
        "    for i in range(averages):\n",
        "        model = tf.keras.Sequential([\n",
        "                # The input is the data-circuit, encoded as a tf.string\n",
        "                tf.keras.layers.Input(shape=(), dtype=tf.string),\n",
        "                # The PQC layer returns the expected value of the readout gate, range [-1,1].\n",
        "                tfq.layers.PQC(model_circuit, model_readout, repetitions=10000, backend=backend),\n",
        "        ])\n",
        "        model.compile(\n",
        "                loss=tf.keras.losses.Hinge(),\n",
        "                optimizer=tf.keras.optimizers.Adam(learning_rate=learning_rate),\n",
        "                metrics=[hinge_accuracy])\n",
        "    \n",
        "        qnn_history_sample = model.fit(\n",
        "                    x_train_tfcirc, y_train_hinge,\n",
        "                    batch_size=1,\n",
        "                    epochs=epochs,\n",
        "                    verbose=0,\n",
        "                    validation_data=(x_test_tfcirc, y_test_hinge))\n",
        "    \n",
        "        qnn_results_sample = model.evaluate(x_test_tfcirc, y_test)\n",
        "        sample_weights = model.get_weights()[0]\n",
        "        sample_acc_data.append(qnn_results_sample[1])\n",
        "        print('Trained model', i+1)\n",
        "        \n",
        "    return sample_acc_data"
      ],
      "execution_count": null,
      "outputs": []
    },
    {
      "cell_type": "markdown",
      "metadata": {
        "id": "fYfASSTiLNcq"
      },
      "source": [
        "For the QNN that learns from the QRAM superposition, the total number of quantum hardware evaluations is kept constant, causing an adjustment to the total number of epochs. Additionally, since the QNN outputs the average label of an entire class due to the linear superposition of data examples, the loss is computed over the entire class."
      ]
    },
    {
      "cell_type": "code",
      "metadata": {
        "id": "zBs3DakLlrV7"
      },
      "source": [
        "# train superposition QNN classifier\n",
        "def train_superpos_qnn(n, averages=5, learning_rate=0.001):\n",
        "    gen_circuit_class_0 = get_model(n, 0)\n",
        "    gen_circuit_class_1 = get_model(n, 1)\n",
        "    superposition_acc_data = []\n",
        "    for i in range(averages):\n",
        "        model = tf.keras.Sequential([\n",
        "                # The input is the data-circuit, encoded as a tf.string\n",
        "                tf.keras.layers.Input(shape=(), dtype=tf.string),\n",
        "                # The PQC layer returns the expected value of the readout gate, range [-1,1].\n",
        "                tfq.layers.PQC(model_circuit, model_readout, repetitions=10000, backend=backend),\n",
        "        ])\n",
        "        model.compile(\n",
        "                loss=tf.keras.losses.Hinge(),\n",
        "                optimizer=tf.keras.optimizers.Adam(learning_rate=learning_rate),\n",
        "                metrics=[hinge_accuracy])\n",
        "\n",
        "        x_superposition = tfq.convert_to_tensor([gen_circuit_class_0, gen_circuit_class_1])\n",
        "        y_superposition = np.array([-1, 1])\n",
        "\n",
        "        qnn_history_superposition = model.fit(\n",
        "                    x_superposition, y_superposition,\n",
        "                    batch_size=1,\n",
        "                    epochs=epochs*len(x_train_tfcirc)//2,\n",
        "                    verbose=0,\n",
        "                    validation_data=(x_superposition, y_superposition))\n",
        "\n",
        "        qnn_results_superposition = model.evaluate(x_test_tfcirc, y_test)\n",
        "        superposition_weights = model.get_weights()[0]\n",
        "        superposition_acc_data.append(qnn_results_superposition[1])\n",
        "        print('Trained model', i+1)\n",
        "        \n",
        "    return superposition_acc_data"
      ],
      "execution_count": null,
      "outputs": []
    },
    {
      "cell_type": "markdown",
      "metadata": {
        "id": "MQj47iWOLshv"
      },
      "source": [
        "### 3.2 Evaluating the models\n",
        "\n",
        "For simplicity, we take pre-computer hyperparameter parameter tunes of the learning rate previously obtained from Bayesian optimization. The two QNNs — trained by a superposition over the entire dataset or sampling individual examples — are then trained many times to determine the accuracy's mean and variance."
      ]
    },
    {
      "cell_type": "code",
      "metadata": {
        "id": "kEwQHcgYB43g"
      },
      "source": [
        "# pre-optimized parameter tunes\n",
        "lr_tunes = {'superposition': 10**-1.83, 'sample': 10**-3.93}"
      ],
      "execution_count": null,
      "outputs": []
    },
    {
      "cell_type": "code",
      "metadata": {
        "colab": {
          "base_uri": "https://localhost:8080/"
        },
        "id": "WNaV7UPGly04",
        "outputId": "636de78d-f558-42a3-ed25-2056679b9d9c"
      },
      "source": [
        "averages = 20\n",
        "superpos_qnn_data = train_superpos_qnn(n, averages=averages, learning_rate=lr_tunes['superposition'])\n",
        "superpos_mean = np.mean(superpos_qnn_data)\n",
        "superpos_std = np.std(superpos_qnn_data)/np.sqrt(averages)\n",
        "print('QNN superposition accuracy (mean):', superpos_mean)\n",
        "print('QNN superposition accuracy (stdev):', superpos_std)"
      ],
      "execution_count": null,
      "outputs": [
        {
          "output_type": "stream",
          "text": [
            "6/6 [==============================] - 1s 60ms/step - loss: 0.6369 - hinge_accuracy: 0.6750\n",
            "Trained model 1\n",
            "6/6 [==============================] - 1s 66ms/step - loss: 0.4712 - hinge_accuracy: 0.8719\n",
            "Trained model 2\n",
            "6/6 [==============================] - 1s 70ms/step - loss: 0.6392 - hinge_accuracy: 0.6750\n",
            "Trained model 3\n",
            "6/6 [==============================] - 1s 67ms/step - loss: 0.7865 - hinge_accuracy: 0.6698\n",
            "Trained model 4\n",
            "6/6 [==============================] - 1s 70ms/step - loss: 0.5772 - hinge_accuracy: 0.6750\n",
            "Trained model 5\n",
            "6/6 [==============================] - 1s 73ms/step - loss: 0.9590 - hinge_accuracy: 0.4792\n",
            "Trained model 6\n",
            "6/6 [==============================] - 1s 71ms/step - loss: 0.6818 - hinge_accuracy: 0.7500\n",
            "Trained model 7\n",
            "6/6 [==============================] - 1s 81ms/step - loss: 0.7041 - hinge_accuracy: 0.6615\n",
            "Trained model 8\n",
            "6/6 [==============================] - 1s 79ms/step - loss: 0.6333 - hinge_accuracy: 0.6750\n",
            "Trained model 9\n",
            "6/6 [==============================] - 1s 77ms/step - loss: 0.4822 - hinge_accuracy: 0.8583\n",
            "Trained model 10\n",
            "6/6 [==============================] - 1s 76ms/step - loss: 0.6434 - hinge_accuracy: 0.6750\n",
            "Trained model 11\n",
            "6/6 [==============================] - 1s 70ms/step - loss: 0.3498 - hinge_accuracy: 0.8562\n",
            "Trained model 12\n",
            "6/6 [==============================] - 1s 67ms/step - loss: 0.6904 - hinge_accuracy: 0.5573\n",
            "Trained model 13\n",
            "6/6 [==============================] - 1s 73ms/step - loss: 1.0139 - hinge_accuracy: 0.4792\n",
            "Trained model 14\n",
            "6/6 [==============================] - 1s 74ms/step - loss: 0.9846 - hinge_accuracy: 0.4792\n",
            "Trained model 15\n",
            "6/6 [==============================] - 1s 72ms/step - loss: 0.9768 - hinge_accuracy: 0.4792\n",
            "Trained model 16\n",
            "6/6 [==============================] - 1s 77ms/step - loss: 0.7744 - hinge_accuracy: 0.6854\n",
            "Trained model 17\n",
            "6/6 [==============================] - 1s 78ms/step - loss: 0.9123 - hinge_accuracy: 0.5729\n",
            "Trained model 18\n",
            "6/6 [==============================] - 1s 78ms/step - loss: 0.6574 - hinge_accuracy: 0.6750\n",
            "Trained model 19\n",
            "6/6 [==============================] - 1s 78ms/step - loss: 0.5895 - hinge_accuracy: 0.6750\n",
            "Trained model 20\n",
            "QNN superposition accuracy (mean): 0.6562500059604645\n",
            "QNN superposition accuracy (stdev): 0.026543089735993636\n"
          ],
          "name": "stdout"
        }
      ]
    },
    {
      "cell_type": "code",
      "metadata": {
        "colab": {
          "base_uri": "https://localhost:8080/"
        },
        "id": "ZW4UIKVclwks",
        "outputId": "5503b8ab-05a0-4e01-fe45-529f0ef3709b"
      },
      "source": [
        "sample_qnn_data = train_sample_qnn(n, averages=averages, learning_rate=lr_tunes['sample'])\n",
        "sample_mean = np.mean(sample_qnn_data)\n",
        "sample_std = np.std(sample_qnn_data)/np.sqrt(averages)\n",
        "print('QNN sample accuracy (mean):', sample_mean)\n",
        "print('QNN sample accuracy (stdev):', sample_std)"
      ],
      "execution_count": null,
      "outputs": [
        {
          "output_type": "stream",
          "text": [
            "6/6 [==============================] - 1s 74ms/step - loss: 1.3611 - hinge_accuracy: 0.2458\n",
            "Trained model 1\n",
            "6/6 [==============================] - 1s 70ms/step - loss: 0.8586 - hinge_accuracy: 0.6719\n",
            "Trained model 2\n",
            "6/6 [==============================] - 1s 78ms/step - loss: 1.0331 - hinge_accuracy: 0.4448\n",
            "Trained model 3\n",
            "6/6 [==============================] - 1s 76ms/step - loss: 0.8689 - hinge_accuracy: 0.5250\n",
            "Trained model 4\n",
            "6/6 [==============================] - 1s 80ms/step - loss: 0.9726 - hinge_accuracy: 0.4729\n",
            "Trained model 5\n",
            "6/6 [==============================] - 1s 78ms/step - loss: 1.0333 - hinge_accuracy: 0.4167\n",
            "Trained model 6\n",
            "6/6 [==============================] - 1s 80ms/step - loss: 0.9244 - hinge_accuracy: 0.4188\n",
            "Trained model 7\n",
            "6/6 [==============================] - 1s 80ms/step - loss: 1.2292 - hinge_accuracy: 0.4208\n",
            "Trained model 8\n",
            "6/6 [==============================] - 1s 81ms/step - loss: 1.1388 - hinge_accuracy: 0.3406\n",
            "Trained model 9\n",
            "6/6 [==============================] - 1s 80ms/step - loss: 0.8012 - hinge_accuracy: 0.5135\n",
            "Trained model 10\n",
            "6/6 [==============================] - 1s 71ms/step - loss: 1.3918 - hinge_accuracy: 0.2521\n",
            "Trained model 11\n",
            "6/6 [==============================] - 1s 79ms/step - loss: 0.7282 - hinge_accuracy: 0.6875\n",
            "Trained model 12\n",
            "6/6 [==============================] - 1s 79ms/step - loss: 1.1379 - hinge_accuracy: 0.5583\n",
            "Trained model 13\n",
            "6/6 [==============================] - 1s 83ms/step - loss: 1.1785 - hinge_accuracy: 0.3240\n",
            "Trained model 14\n",
            "6/6 [==============================] - 1s 85ms/step - loss: 1.0180 - hinge_accuracy: 0.4729\n",
            "Trained model 15\n",
            "6/6 [==============================] - 1s 81ms/step - loss: 0.5691 - hinge_accuracy: 0.7521\n",
            "Trained model 16\n",
            "6/6 [==============================] - 1s 82ms/step - loss: 1.2714 - hinge_accuracy: 0.2344\n",
            "Trained model 17\n",
            "6/6 [==============================] - 1s 83ms/step - loss: 1.2833 - hinge_accuracy: 0.1302\n",
            "Trained model 18\n",
            "6/6 [==============================] - 1s 81ms/step - loss: 1.2765 - hinge_accuracy: 0.2458\n",
            "Trained model 19\n",
            "6/6 [==============================] - 1s 72ms/step - loss: 0.5838 - hinge_accuracy: 0.7917\n",
            "Trained model 20\n",
            "QNN sample accuracy (mean): 0.4459895886480808\n",
            "QNN sample accuracy (stdev): 0.039933298914609255\n"
          ],
          "name": "stdout"
        }
      ]
    },
    {
      "cell_type": "markdown",
      "metadata": {
        "id": "Ua2Ia5akMFBn"
      },
      "source": [
        "As we can see, training the QNN with an approximate QRAM helped reduce the number of calls to quantum hardware required for the QNN to converge. Error bars show two standard deviations, and the dashed lines indicate random chance (50% accuracy) and full accuracy (100%). Note that 100% accuracy is impossible to achieve on this dataset due to the overlapped region between the two peaks."
      ]
    },
    {
      "cell_type": "code",
      "metadata": {
        "colab": {
          "base_uri": "https://localhost:8080/"
        },
        "id": "8zLeKAtknlt7",
        "outputId": "5d52749c-2d8a-44c4-c942-19add67eb5e9"
      },
      "source": [
        "fig, ax = plt.subplots(figsize=(4.8, 3.5))\n",
        "ax.bar(0, superpos_mean, alpha=0.5)\n",
        "ax.errorbar(0, superpos_mean, yerr=2*superpos_std, fmt='none')\n",
        "ax.bar(1, sample_mean, alpha=0.5)\n",
        "ax.errorbar(1, sample_mean, yerr=2*sample_std, fmt='none')\n",
        "ax.set_xticks([0, 1])\n",
        "ax.set_xticklabels(['Superposition', 'Sample'])\n",
        "ax.set_ylabel('Classification accuracy')\n",
        "ax.set_ylim(-0.1, 1.1)\n",
        "ax.plot([-0.5, 1.5], [0, 0], color='k')\n",
        "ax.plot([-0.5, 1.5], [0.5, 0.5], 'r--')\n",
        "ax.plot([-0.5, 1.5], [1, 1], 'r--')\n",
        "plt.tight_layout()\n",
        "plt.show()"
      ],
      "execution_count": null,
      "outputs": [
        {
          "output_type": "display_data",
          "data": {
            "image/png": "[encoded data removed]",
            "text/plain": [
              "<Figure size 345.6x252 with 1 Axes>"
            ]
          },
          "metadata": {
            "tags": [],
            "needs_background": "light"
          }
        }
      ]
    }
  ]
}